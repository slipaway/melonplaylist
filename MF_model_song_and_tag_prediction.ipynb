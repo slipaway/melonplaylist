{
  "nbformat": 4,
  "nbformat_minor": 0,
  "metadata": {
    "colab": {
      "name": "MF model song prediction, tag prediction.ipynb",
      "provenance": [],
      "authorship_tag": "ABX9TyMBTwtALhwTYAtYqVyt14Ir",
      "include_colab_link": true
    },
    "kernelspec": {
      "name": "python3",
      "display_name": "Python 3"
    },
    "widgets": {
      "application/vnd.jupyter.widget-state+json": {
        "e0ef4125736e49e785c183a073396daf": {
          "model_module": "@jupyter-widgets/controls",
          "model_name": "HBoxModel",
          "state": {
            "_view_name": "HBoxView",
            "_dom_classes": [],
            "_model_name": "HBoxModel",
            "_view_module": "@jupyter-widgets/controls",
            "_model_module_version": "1.5.0",
            "_view_count": null,
            "_view_module_version": "1.5.0",
            "box_style": "",
            "layout": "IPY_MODEL_af97d23851554cc5b620b799d00972fe",
            "_model_module": "@jupyter-widgets/controls",
            "children": [
              "IPY_MODEL_4f2644882cf1455e9584930104868871",
              "IPY_MODEL_00f7977b53c2434a8b548e1cc84e07bd"
            ]
          }
        },
        "af97d23851554cc5b620b799d00972fe": {
          "model_module": "@jupyter-widgets/base",
          "model_name": "LayoutModel",
          "state": {
            "_view_name": "LayoutView",
            "grid_template_rows": null,
            "right": null,
            "justify_content": null,
            "_view_module": "@jupyter-widgets/base",
            "overflow": null,
            "_model_module_version": "1.2.0",
            "_view_count": null,
            "flex_flow": null,
            "width": null,
            "min_width": null,
            "border": null,
            "align_items": null,
            "bottom": null,
            "_model_module": "@jupyter-widgets/base",
            "top": null,
            "grid_column": null,
            "overflow_y": null,
            "overflow_x": null,
            "grid_auto_flow": null,
            "grid_area": null,
            "grid_template_columns": null,
            "flex": null,
            "_model_name": "LayoutModel",
            "justify_items": null,
            "grid_row": null,
            "max_height": null,
            "align_content": null,
            "visibility": null,
            "align_self": null,
            "height": null,
            "min_height": null,
            "padding": null,
            "grid_auto_rows": null,
            "grid_gap": null,
            "max_width": null,
            "order": null,
            "_view_module_version": "1.2.0",
            "grid_template_areas": null,
            "object_position": null,
            "object_fit": null,
            "grid_auto_columns": null,
            "margin": null,
            "display": null,
            "left": null
          }
        },
        "4f2644882cf1455e9584930104868871": {
          "model_module": "@jupyter-widgets/controls",
          "model_name": "FloatProgressModel",
          "state": {
            "_view_name": "ProgressView",
            "style": "IPY_MODEL_e2801e8c468142f8a2d72e4cc6780066",
            "_dom_classes": [],
            "description": "100%",
            "_model_name": "FloatProgressModel",
            "bar_style": "success",
            "max": 20,
            "_view_module": "@jupyter-widgets/controls",
            "_model_module_version": "1.5.0",
            "value": 20,
            "_view_count": null,
            "_view_module_version": "1.5.0",
            "orientation": "horizontal",
            "min": 0,
            "description_tooltip": null,
            "_model_module": "@jupyter-widgets/controls",
            "layout": "IPY_MODEL_7a1d2f50c76f490e853d291e2395279b"
          }
        },
        "00f7977b53c2434a8b548e1cc84e07bd": {
          "model_module": "@jupyter-widgets/controls",
          "model_name": "HTMLModel",
          "state": {
            "_view_name": "HTMLView",
            "style": "IPY_MODEL_1e2fe0950d574c8ea924905e10e17b91",
            "_dom_classes": [],
            "description": "",
            "_model_name": "HTMLModel",
            "placeholder": "​",
            "_view_module": "@jupyter-widgets/controls",
            "_model_module_version": "1.5.0",
            "value": " 20/20 [09:22&lt;00:00, 28.11s/it]",
            "_view_count": null,
            "_view_module_version": "1.5.0",
            "description_tooltip": null,
            "_model_module": "@jupyter-widgets/controls",
            "layout": "IPY_MODEL_9ae31ba30e4441d2bfbf5e2387ca864e"
          }
        },
        "e2801e8c468142f8a2d72e4cc6780066": {
          "model_module": "@jupyter-widgets/controls",
          "model_name": "ProgressStyleModel",
          "state": {
            "_view_name": "StyleView",
            "_model_name": "ProgressStyleModel",
            "description_width": "initial",
            "_view_module": "@jupyter-widgets/base",
            "_model_module_version": "1.5.0",
            "_view_count": null,
            "_view_module_version": "1.2.0",
            "bar_color": null,
            "_model_module": "@jupyter-widgets/controls"
          }
        },
        "7a1d2f50c76f490e853d291e2395279b": {
          "model_module": "@jupyter-widgets/base",
          "model_name": "LayoutModel",
          "state": {
            "_view_name": "LayoutView",
            "grid_template_rows": null,
            "right": null,
            "justify_content": null,
            "_view_module": "@jupyter-widgets/base",
            "overflow": null,
            "_model_module_version": "1.2.0",
            "_view_count": null,
            "flex_flow": null,
            "width": null,
            "min_width": null,
            "border": null,
            "align_items": null,
            "bottom": null,
            "_model_module": "@jupyter-widgets/base",
            "top": null,
            "grid_column": null,
            "overflow_y": null,
            "overflow_x": null,
            "grid_auto_flow": null,
            "grid_area": null,
            "grid_template_columns": null,
            "flex": null,
            "_model_name": "LayoutModel",
            "justify_items": null,
            "grid_row": null,
            "max_height": null,
            "align_content": null,
            "visibility": null,
            "align_self": null,
            "height": null,
            "min_height": null,
            "padding": null,
            "grid_auto_rows": null,
            "grid_gap": null,
            "max_width": null,
            "order": null,
            "_view_module_version": "1.2.0",
            "grid_template_areas": null,
            "object_position": null,
            "object_fit": null,
            "grid_auto_columns": null,
            "margin": null,
            "display": null,
            "left": null
          }
        },
        "1e2fe0950d574c8ea924905e10e17b91": {
          "model_module": "@jupyter-widgets/controls",
          "model_name": "DescriptionStyleModel",
          "state": {
            "_view_name": "StyleView",
            "_model_name": "DescriptionStyleModel",
            "description_width": "",
            "_view_module": "@jupyter-widgets/base",
            "_model_module_version": "1.5.0",
            "_view_count": null,
            "_view_module_version": "1.2.0",
            "_model_module": "@jupyter-widgets/controls"
          }
        },
        "9ae31ba30e4441d2bfbf5e2387ca864e": {
          "model_module": "@jupyter-widgets/base",
          "model_name": "LayoutModel",
          "state": {
            "_view_name": "LayoutView",
            "grid_template_rows": null,
            "right": null,
            "justify_content": null,
            "_view_module": "@jupyter-widgets/base",
            "overflow": null,
            "_model_module_version": "1.2.0",
            "_view_count": null,
            "flex_flow": null,
            "width": null,
            "min_width": null,
            "border": null,
            "align_items": null,
            "bottom": null,
            "_model_module": "@jupyter-widgets/base",
            "top": null,
            "grid_column": null,
            "overflow_y": null,
            "overflow_x": null,
            "grid_auto_flow": null,
            "grid_area": null,
            "grid_template_columns": null,
            "flex": null,
            "_model_name": "LayoutModel",
            "justify_items": null,
            "grid_row": null,
            "max_height": null,
            "align_content": null,
            "visibility": null,
            "align_self": null,
            "height": null,
            "min_height": null,
            "padding": null,
            "grid_auto_rows": null,
            "grid_gap": null,
            "max_width": null,
            "order": null,
            "_view_module_version": "1.2.0",
            "grid_template_areas": null,
            "object_position": null,
            "object_fit": null,
            "grid_auto_columns": null,
            "margin": null,
            "display": null,
            "left": null
          }
        },
        "eebfe3ef5c1a4ee8b664bf263072452f": {
          "model_module": "@jupyter-widgets/controls",
          "model_name": "HBoxModel",
          "state": {
            "_view_name": "HBoxView",
            "_dom_classes": [],
            "_model_name": "HBoxModel",
            "_view_module": "@jupyter-widgets/controls",
            "_model_module_version": "1.5.0",
            "_view_count": null,
            "_view_module_version": "1.5.0",
            "box_style": "",
            "layout": "IPY_MODEL_2cbc3f6c80c043af9e7da476cfa84803",
            "_model_module": "@jupyter-widgets/controls",
            "children": [
              "IPY_MODEL_bab3be0e3729409d9b230c893e85956a",
              "IPY_MODEL_5ac91db47c6841949a3a48cb0cea492a"
            ]
          }
        },
        "2cbc3f6c80c043af9e7da476cfa84803": {
          "model_module": "@jupyter-widgets/base",
          "model_name": "LayoutModel",
          "state": {
            "_view_name": "LayoutView",
            "grid_template_rows": null,
            "right": null,
            "justify_content": null,
            "_view_module": "@jupyter-widgets/base",
            "overflow": null,
            "_model_module_version": "1.2.0",
            "_view_count": null,
            "flex_flow": null,
            "width": null,
            "min_width": null,
            "border": null,
            "align_items": null,
            "bottom": null,
            "_model_module": "@jupyter-widgets/base",
            "top": null,
            "grid_column": null,
            "overflow_y": null,
            "overflow_x": null,
            "grid_auto_flow": null,
            "grid_area": null,
            "grid_template_columns": null,
            "flex": null,
            "_model_name": "LayoutModel",
            "justify_items": null,
            "grid_row": null,
            "max_height": null,
            "align_content": null,
            "visibility": null,
            "align_self": null,
            "height": null,
            "min_height": null,
            "padding": null,
            "grid_auto_rows": null,
            "grid_gap": null,
            "max_width": null,
            "order": null,
            "_view_module_version": "1.2.0",
            "grid_template_areas": null,
            "object_position": null,
            "object_fit": null,
            "grid_auto_columns": null,
            "margin": null,
            "display": null,
            "left": null
          }
        },
        "bab3be0e3729409d9b230c893e85956a": {
          "model_module": "@jupyter-widgets/controls",
          "model_name": "FloatProgressModel",
          "state": {
            "_view_name": "ProgressView",
            "style": "IPY_MODEL_3ca6c3cd428c4dafa2d7ec6965722558",
            "_dom_classes": [],
            "description": "100%",
            "_model_name": "FloatProgressModel",
            "bar_style": "success",
            "max": 20,
            "_view_module": "@jupyter-widgets/controls",
            "_model_module_version": "1.5.0",
            "value": 20,
            "_view_count": null,
            "_view_module_version": "1.5.0",
            "orientation": "horizontal",
            "min": 0,
            "description_tooltip": null,
            "_model_module": "@jupyter-widgets/controls",
            "layout": "IPY_MODEL_2e6edbe89c234599b4ec05429d4acb47"
          }
        },
        "5ac91db47c6841949a3a48cb0cea492a": {
          "model_module": "@jupyter-widgets/controls",
          "model_name": "HTMLModel",
          "state": {
            "_view_name": "HTMLView",
            "style": "IPY_MODEL_cd01922643eb4042a75ee0006d351d3a",
            "_dom_classes": [],
            "description": "",
            "_model_name": "HTMLModel",
            "placeholder": "​",
            "_view_module": "@jupyter-widgets/controls",
            "_model_module_version": "1.5.0",
            "value": " 20/20 [01:21&lt;00:00,  4.07s/it]",
            "_view_count": null,
            "_view_module_version": "1.5.0",
            "description_tooltip": null,
            "_model_module": "@jupyter-widgets/controls",
            "layout": "IPY_MODEL_36ec690110b649009e03ee03ba2b1772"
          }
        },
        "3ca6c3cd428c4dafa2d7ec6965722558": {
          "model_module": "@jupyter-widgets/controls",
          "model_name": "ProgressStyleModel",
          "state": {
            "_view_name": "StyleView",
            "_model_name": "ProgressStyleModel",
            "description_width": "initial",
            "_view_module": "@jupyter-widgets/base",
            "_model_module_version": "1.5.0",
            "_view_count": null,
            "_view_module_version": "1.2.0",
            "bar_color": null,
            "_model_module": "@jupyter-widgets/controls"
          }
        },
        "2e6edbe89c234599b4ec05429d4acb47": {
          "model_module": "@jupyter-widgets/base",
          "model_name": "LayoutModel",
          "state": {
            "_view_name": "LayoutView",
            "grid_template_rows": null,
            "right": null,
            "justify_content": null,
            "_view_module": "@jupyter-widgets/base",
            "overflow": null,
            "_model_module_version": "1.2.0",
            "_view_count": null,
            "flex_flow": null,
            "width": null,
            "min_width": null,
            "border": null,
            "align_items": null,
            "bottom": null,
            "_model_module": "@jupyter-widgets/base",
            "top": null,
            "grid_column": null,
            "overflow_y": null,
            "overflow_x": null,
            "grid_auto_flow": null,
            "grid_area": null,
            "grid_template_columns": null,
            "flex": null,
            "_model_name": "LayoutModel",
            "justify_items": null,
            "grid_row": null,
            "max_height": null,
            "align_content": null,
            "visibility": null,
            "align_self": null,
            "height": null,
            "min_height": null,
            "padding": null,
            "grid_auto_rows": null,
            "grid_gap": null,
            "max_width": null,
            "order": null,
            "_view_module_version": "1.2.0",
            "grid_template_areas": null,
            "object_position": null,
            "object_fit": null,
            "grid_auto_columns": null,
            "margin": null,
            "display": null,
            "left": null
          }
        },
        "cd01922643eb4042a75ee0006d351d3a": {
          "model_module": "@jupyter-widgets/controls",
          "model_name": "DescriptionStyleModel",
          "state": {
            "_view_name": "StyleView",
            "_model_name": "DescriptionStyleModel",
            "description_width": "",
            "_view_module": "@jupyter-widgets/base",
            "_model_module_version": "1.5.0",
            "_view_count": null,
            "_view_module_version": "1.2.0",
            "_model_module": "@jupyter-widgets/controls"
          }
        },
        "36ec690110b649009e03ee03ba2b1772": {
          "model_module": "@jupyter-widgets/base",
          "model_name": "LayoutModel",
          "state": {
            "_view_name": "LayoutView",
            "grid_template_rows": null,
            "right": null,
            "justify_content": null,
            "_view_module": "@jupyter-widgets/base",
            "overflow": null,
            "_model_module_version": "1.2.0",
            "_view_count": null,
            "flex_flow": null,
            "width": null,
            "min_width": null,
            "border": null,
            "align_items": null,
            "bottom": null,
            "_model_module": "@jupyter-widgets/base",
            "top": null,
            "grid_column": null,
            "overflow_y": null,
            "overflow_x": null,
            "grid_auto_flow": null,
            "grid_area": null,
            "grid_template_columns": null,
            "flex": null,
            "_model_name": "LayoutModel",
            "justify_items": null,
            "grid_row": null,
            "max_height": null,
            "align_content": null,
            "visibility": null,
            "align_self": null,
            "height": null,
            "min_height": null,
            "padding": null,
            "grid_auto_rows": null,
            "grid_gap": null,
            "max_width": null,
            "order": null,
            "_view_module_version": "1.2.0",
            "grid_template_areas": null,
            "object_position": null,
            "object_fit": null,
            "grid_auto_columns": null,
            "margin": null,
            "display": null,
            "left": null
          }
        }
      }
    }
  },
  "cells": [
    {
      "cell_type": "markdown",
      "metadata": {
        "id": "view-in-github",
        "colab_type": "text"
      },
      "source": [
        "<a href=\"https://colab.research.google.com/github/slipaway/melonplaylist/blob/master/MF_model_song_and_tag_prediction.ipynb\" target=\"_parent\"><img src=\"https://colab.research.google.com/assets/colab-badge.svg\" alt=\"Open In Colab\"/></a>"
      ]
    },
    {
      "cell_type": "code",
      "metadata": {
        "id": "LmxyzQJFHLAq",
        "colab_type": "code",
        "colab": {
          "base_uri": "https://localhost:8080/",
          "height": 126
        },
        "outputId": "058ea124-19cb-491d-c372-31d616e11112"
      },
      "source": [
        "from google.colab import drive\n",
        "drive.mount('/content/gdrive/')"
      ],
      "execution_count": 1,
      "outputs": [
        {
          "output_type": "stream",
          "text": [
            "Go to this URL in a browser: https://accounts.google.com/o/oauth2/auth?client_id=947318989803-6bn6qk8qdgf4n4g3pfee6491hc0brc4i.apps.googleusercontent.com&redirect_uri=urn%3aietf%3awg%3aoauth%3a2.0%3aoob&response_type=code&scope=email%20https%3a%2f%2fwww.googleapis.com%2fauth%2fdocs.test%20https%3a%2f%2fwww.googleapis.com%2fauth%2fdrive%20https%3a%2f%2fwww.googleapis.com%2fauth%2fdrive.photos.readonly%20https%3a%2f%2fwww.googleapis.com%2fauth%2fpeopleapi.readonly\n",
            "\n",
            "Enter your authorization code:\n",
            "··········\n",
            "Mounted at /content/gdrive/\n"
          ],
          "name": "stdout"
        }
      ]
    },
    {
      "cell_type": "code",
      "metadata": {
        "id": "j6lF78O7HP-c",
        "colab_type": "code",
        "colab": {
          "base_uri": "https://localhost:8080/",
          "height": 248
        },
        "outputId": "68d19193-8435-4908-d61c-3d9ccaa9243b"
      },
      "source": [
        "pip install implicit"
      ],
      "execution_count": 2,
      "outputs": [
        {
          "output_type": "stream",
          "text": [
            "Collecting implicit\n",
            "\u001b[?25l  Downloading https://files.pythonhosted.org/packages/5a/d8/6b4f1374ffa2647b72ac76960c71b984c6f3238090359fb419d03827d87a/implicit-0.4.2.tar.gz (1.1MB)\n",
            "\r\u001b[K     |▎                               | 10kB 21.4MB/s eta 0:00:01\r\u001b[K     |▋                               | 20kB 6.2MB/s eta 0:00:01\r\u001b[K     |▉                               | 30kB 5.9MB/s eta 0:00:01\r\u001b[K     |█▏                              | 40kB 6.7MB/s eta 0:00:01\r\u001b[K     |█▌                              | 51kB 6.5MB/s eta 0:00:01\r\u001b[K     |█▊                              | 61kB 6.4MB/s eta 0:00:01\r\u001b[K     |██                              | 71kB 6.5MB/s eta 0:00:01\r\u001b[K     |██▍                             | 81kB 6.5MB/s eta 0:00:01\r\u001b[K     |██▋                             | 92kB 6.9MB/s eta 0:00:01\r\u001b[K     |███                             | 102kB 6.6MB/s eta 0:00:01\r\u001b[K     |███▎                            | 112kB 6.6MB/s eta 0:00:01\r\u001b[K     |███▌                            | 122kB 6.6MB/s eta 0:00:01\r\u001b[K     |███▉                            | 133kB 6.6MB/s eta 0:00:01\r\u001b[K     |████▏                           | 143kB 6.6MB/s eta 0:00:01\r\u001b[K     |████▍                           | 153kB 6.6MB/s eta 0:00:01\r\u001b[K     |████▊                           | 163kB 6.6MB/s eta 0:00:01\r\u001b[K     |█████                           | 174kB 6.6MB/s eta 0:00:01\r\u001b[K     |█████▎                          | 184kB 6.6MB/s eta 0:00:01\r\u001b[K     |█████▋                          | 194kB 6.6MB/s eta 0:00:01\r\u001b[K     |█████▉                          | 204kB 6.6MB/s eta 0:00:01\r\u001b[K     |██████▏                         | 215kB 6.6MB/s eta 0:00:01\r\u001b[K     |██████▌                         | 225kB 6.6MB/s eta 0:00:01\r\u001b[K     |██████▊                         | 235kB 6.6MB/s eta 0:00:01\r\u001b[K     |███████                         | 245kB 6.6MB/s eta 0:00:01\r\u001b[K     |███████▍                        | 256kB 6.6MB/s eta 0:00:01\r\u001b[K     |███████▋                        | 266kB 6.6MB/s eta 0:00:01\r\u001b[K     |████████                        | 276kB 6.6MB/s eta 0:00:01\r\u001b[K     |████████▎                       | 286kB 6.6MB/s eta 0:00:01\r\u001b[K     |████████▌                       | 296kB 6.6MB/s eta 0:00:01\r\u001b[K     |████████▉                       | 307kB 6.6MB/s eta 0:00:01\r\u001b[K     |█████████                       | 317kB 6.6MB/s eta 0:00:01\r\u001b[K     |█████████▍                      | 327kB 6.6MB/s eta 0:00:01\r\u001b[K     |█████████▊                      | 337kB 6.6MB/s eta 0:00:01\r\u001b[K     |██████████                      | 348kB 6.6MB/s eta 0:00:01\r\u001b[K     |██████████▎                     | 358kB 6.6MB/s eta 0:00:01\r\u001b[K     |██████████▋                     | 368kB 6.6MB/s eta 0:00:01\r\u001b[K     |██████████▉                     | 378kB 6.6MB/s eta 0:00:01\r\u001b[K     |███████████▏                    | 389kB 6.6MB/s eta 0:00:01\r\u001b[K     |███████████▌                    | 399kB 6.6MB/s eta 0:00:01\r\u001b[K     |███████████▊                    | 409kB 6.6MB/s eta 0:00:01\r\u001b[K     |████████████                    | 419kB 6.6MB/s eta 0:00:01\r\u001b[K     |████████████▍                   | 430kB 6.6MB/s eta 0:00:01\r\u001b[K     |████████████▋                   | 440kB 6.6MB/s eta 0:00:01\r\u001b[K     |█████████████                   | 450kB 6.6MB/s eta 0:00:01\r\u001b[K     |█████████████▏                  | 460kB 6.6MB/s eta 0:00:01\r\u001b[K     |█████████████▌                  | 471kB 6.6MB/s eta 0:00:01\r\u001b[K     |█████████████▉                  | 481kB 6.6MB/s eta 0:00:01\r\u001b[K     |██████████████                  | 491kB 6.6MB/s eta 0:00:01\r\u001b[K     |██████████████▍                 | 501kB 6.6MB/s eta 0:00:01\r\u001b[K     |██████████████▊                 | 512kB 6.6MB/s eta 0:00:01\r\u001b[K     |███████████████                 | 522kB 6.6MB/s eta 0:00:01\r\u001b[K     |███████████████▎                | 532kB 6.6MB/s eta 0:00:01\r\u001b[K     |███████████████▋                | 542kB 6.6MB/s eta 0:00:01\r\u001b[K     |███████████████▉                | 552kB 6.6MB/s eta 0:00:01\r\u001b[K     |████████████████▏               | 563kB 6.6MB/s eta 0:00:01\r\u001b[K     |████████████████▌               | 573kB 6.6MB/s eta 0:00:01\r\u001b[K     |████████████████▊               | 583kB 6.6MB/s eta 0:00:01\r\u001b[K     |█████████████████               | 593kB 6.6MB/s eta 0:00:01\r\u001b[K     |█████████████████▍              | 604kB 6.6MB/s eta 0:00:01\r\u001b[K     |█████████████████▋              | 614kB 6.6MB/s eta 0:00:01\r\u001b[K     |██████████████████              | 624kB 6.6MB/s eta 0:00:01\r\u001b[K     |██████████████████▏             | 634kB 6.6MB/s eta 0:00:01\r\u001b[K     |██████████████████▌             | 645kB 6.6MB/s eta 0:00:01\r\u001b[K     |██████████████████▉             | 655kB 6.6MB/s eta 0:00:01\r\u001b[K     |███████████████████             | 665kB 6.6MB/s eta 0:00:01\r\u001b[K     |███████████████████▍            | 675kB 6.6MB/s eta 0:00:01\r\u001b[K     |███████████████████▊            | 686kB 6.6MB/s eta 0:00:01\r\u001b[K     |████████████████████            | 696kB 6.6MB/s eta 0:00:01\r\u001b[K     |████████████████████▎           | 706kB 6.6MB/s eta 0:00:01\r\u001b[K     |████████████████████▋           | 716kB 6.6MB/s eta 0:00:01\r\u001b[K     |████████████████████▉           | 727kB 6.6MB/s eta 0:00:01\r\u001b[K     |█████████████████████▏          | 737kB 6.6MB/s eta 0:00:01\r\u001b[K     |█████████████████████▌          | 747kB 6.6MB/s eta 0:00:01\r\u001b[K     |█████████████████████▊          | 757kB 6.6MB/s eta 0:00:01\r\u001b[K     |██████████████████████          | 768kB 6.6MB/s eta 0:00:01\r\u001b[K     |██████████████████████▎         | 778kB 6.6MB/s eta 0:00:01\r\u001b[K     |██████████████████████▋         | 788kB 6.6MB/s eta 0:00:01\r\u001b[K     |███████████████████████         | 798kB 6.6MB/s eta 0:00:01\r\u001b[K     |███████████████████████▏        | 808kB 6.6MB/s eta 0:00:01\r\u001b[K     |███████████████████████▌        | 819kB 6.6MB/s eta 0:00:01\r\u001b[K     |███████████████████████▉        | 829kB 6.6MB/s eta 0:00:01\r\u001b[K     |████████████████████████        | 839kB 6.6MB/s eta 0:00:01\r\u001b[K     |████████████████████████▍       | 849kB 6.6MB/s eta 0:00:01\r\u001b[K     |████████████████████████▊       | 860kB 6.6MB/s eta 0:00:01\r\u001b[K     |█████████████████████████       | 870kB 6.6MB/s eta 0:00:01\r\u001b[K     |█████████████████████████▎      | 880kB 6.6MB/s eta 0:00:01\r\u001b[K     |█████████████████████████▋      | 890kB 6.6MB/s eta 0:00:01\r\u001b[K     |█████████████████████████▉      | 901kB 6.6MB/s eta 0:00:01\r\u001b[K     |██████████████████████████▏     | 911kB 6.6MB/s eta 0:00:01\r\u001b[K     |██████████████████████████▍     | 921kB 6.6MB/s eta 0:00:01\r\u001b[K     |██████████████████████████▊     | 931kB 6.6MB/s eta 0:00:01\r\u001b[K     |███████████████████████████     | 942kB 6.6MB/s eta 0:00:01\r\u001b[K     |███████████████████████████▎    | 952kB 6.6MB/s eta 0:00:01\r\u001b[K     |███████████████████████████▋    | 962kB 6.6MB/s eta 0:00:01\r\u001b[K     |████████████████████████████    | 972kB 6.6MB/s eta 0:00:01\r\u001b[K     |████████████████████████████▏   | 983kB 6.6MB/s eta 0:00:01\r\u001b[K     |████████████████████████████▌   | 993kB 6.6MB/s eta 0:00:01\r\u001b[K     |████████████████████████████▉   | 1.0MB 6.6MB/s eta 0:00:01\r\u001b[K     |█████████████████████████████   | 1.0MB 6.6MB/s eta 0:00:01\r\u001b[K     |█████████████████████████████▍  | 1.0MB 6.6MB/s eta 0:00:01\r\u001b[K     |█████████████████████████████▊  | 1.0MB 6.6MB/s eta 0:00:01\r\u001b[K     |██████████████████████████████  | 1.0MB 6.6MB/s eta 0:00:01\r\u001b[K     |██████████████████████████████▎ | 1.1MB 6.6MB/s eta 0:00:01\r\u001b[K     |██████████████████████████████▌ | 1.1MB 6.6MB/s eta 0:00:01\r\u001b[K     |██████████████████████████████▉ | 1.1MB 6.6MB/s eta 0:00:01\r\u001b[K     |███████████████████████████████▏| 1.1MB 6.6MB/s eta 0:00:01\r\u001b[K     |███████████████████████████████▍| 1.1MB 6.6MB/s eta 0:00:01\r\u001b[K     |███████████████████████████████▊| 1.1MB 6.6MB/s eta 0:00:01\r\u001b[K     |████████████████████████████████| 1.1MB 6.6MB/s \n",
            "\u001b[?25hRequirement already satisfied: numpy in /usr/local/lib/python3.6/dist-packages (from implicit) (1.18.5)\n",
            "Requirement already satisfied: scipy>=0.16 in /usr/local/lib/python3.6/dist-packages (from implicit) (1.4.1)\n",
            "Requirement already satisfied: tqdm>=4.27 in /usr/local/lib/python3.6/dist-packages (from implicit) (4.41.1)\n",
            "Building wheels for collected packages: implicit\n",
            "  Building wheel for implicit (setup.py) ... \u001b[?25l\u001b[?25hdone\n",
            "  Created wheel for implicit: filename=implicit-0.4.2-cp36-cp36m-linux_x86_64.whl size=3420097 sha256=950c966c13c7f0a0f71d6a95f1a905c3117c37d0d95923e0a4ad06696c9654fe\n",
            "  Stored in directory: /root/.cache/pip/wheels/1b/48/b1/1aebe3acc3afb5589e72d3e7c3ffc3f637dc4721c1a974dff7\n",
            "Successfully built implicit\n",
            "Installing collected packages: implicit\n",
            "Successfully installed implicit-0.4.2\n"
          ],
          "name": "stdout"
        }
      ]
    },
    {
      "cell_type": "code",
      "metadata": {
        "id": "rZ8txpKgHWSn",
        "colab_type": "code",
        "colab": {
          "base_uri": "https://localhost:8080/",
          "height": 72
        },
        "outputId": "01dcd755-e851-4735-d145-24c34087bc7d"
      },
      "source": [
        "import numpy as np\n",
        "import pandas as pd\n",
        "import matplotlib.pyplot as plt\n",
        "import json\n",
        "from datetime import timedelta, datetime\n",
        "import glob\n",
        "import os\n",
        "import re\n",
        "import seaborn as sns\n",
        "import warnings\n",
        "import scipy\n",
        "warnings.filterwarnings('ignore')\n",
        "import implicit"
      ],
      "execution_count": 3,
      "outputs": [
        {
          "output_type": "stream",
          "text": [
            "/usr/local/lib/python3.6/dist-packages/statsmodels/tools/_testing.py:19: FutureWarning: pandas.util.testing is deprecated. Use the functions in the public API at pandas.testing instead.\n",
            "  import pandas.util.testing as tm\n"
          ],
          "name": "stderr"
        }
      ]
    },
    {
      "cell_type": "code",
      "metadata": {
        "id": "KXCvLF-9HZO4",
        "colab_type": "code",
        "colab": {}
      },
      "source": [
        "folder = '/content/gdrive/My Drive/melon kakao'\n",
        "filelist = os.chdir(folder)"
      ],
      "execution_count": 4,
      "outputs": []
    },
    {
      "cell_type": "code",
      "metadata": {
        "id": "1pXrc7IUHZTz",
        "colab_type": "code",
        "colab": {}
      },
      "source": [
        "genre_gn_all=pd.read_json('genre_gn_all.json', typ='series')\n",
        "train=pd.read_json('train.json')\n",
        "song_meta=pd.read_json('song_meta.json')\n",
        "test=pd.read_json('test.json')"
      ],
      "execution_count": 5,
      "outputs": []
    },
    {
      "cell_type": "markdown",
      "metadata": {
        "id": "c4wcSZ-wHcnB",
        "colab_type": "text"
      },
      "source": [
        "플레이리스트 생성 시간보다 곡 발매일이 나중에 나온경우 삭제하기\n"
      ]
    },
    {
      "cell_type": "code",
      "metadata": {
        "id": "jBWcIoaDHZRX",
        "colab_type": "code",
        "colab": {}
      },
      "source": [
        "#starnge song 생성\n",
        "\n",
        "plylst_date = train[['updt_date', 'songs']]\n",
        "plylst_date_unnest = np.dstack(\n",
        "    (\n",
        "        np.repeat(plylst_date.updt_date.values, list(map(len, plylst_date.songs))), \n",
        "        np.concatenate(plylst_date.songs.values)\n",
        "    )\n",
        ")\n",
        "plylst_date = pd.DataFrame(data=plylst_date_unnest[0], columns = plylst_date.columns)\n",
        "\n",
        "del plylst_date_unnest\n",
        "\n",
        "\n",
        "plylst_date[\"updt_date\"] = plylst_date[\"updt_date\"].map(lambda x: x[:4] + x[5:7] + x[8:10])\n",
        "song_date = song_meta[[\"id\",\"issue_date\"]]\n",
        "plylst_song_date = pd.merge(plylst_date, song_date, left_on=\"songs\", right_on=\"id\", how='left')\n",
        "plylst_song_date[\"issue_date\"] = plylst_song_date[\"issue_date\"].astype(str)\n",
        "\n",
        "plylst_song_date[\"strange\"] = plylst_song_date[\"updt_date\"] < plylst_song_date[\"issue_date\"]\n",
        "strange_songs = plylst_song_date[plylst_song_date[\"strange\"] == True].drop('songs', axis=1)\n",
        "strange_songs=strange_songs.drop_duplicates(['id'])\n",
        "\n",
        "strange_songs_list=strange_songs['id'].values.astype(str)\n",
        "\n",
        "\n",
        "#train dataframe 전처리\n",
        "\n",
        "#플레이리스트 아이디(id)와 수록곡(songs) 추출\n",
        "plylst_song_map=train[['id', 'songs']]\n",
        "\n",
        "#unnest songs\n",
        "\n",
        "plylst_song_map_unnest=np.dstack(\n",
        "    (\n",
        "        np.repeat(plylst_song_map.id.values, list(map(len, plylst_song_map.songs))),\n",
        "        np.concatenate(plylst_song_map.songs.values)\n",
        "    )\n",
        ")\n",
        "\n",
        "#unnested 데이터프레임 생성 : plylst_song_map\n",
        "plylst_song_map=pd.DataFrame(data=plylst_song_map_unnest[0], columns=plylst_song_map.columns)\n",
        "plylst_song_map['id']=plylst_song_map['id'].astype(str)\n",
        "plylst_song_map['songs']=plylst_song_map['songs'].astype(str)\n",
        "\n",
        "del plylst_song_map_unnest\n",
        "\n",
        "plylst_song_map_remove=plylst_song_map[np.logical_not(plylst_song_map.songs.isin(strange_songs_list))]\n",
        "\n",
        "\n",
        "plylst_song_group=plylst_song_map_remove.groupby('id')['songs'].apply(list).reset_index(name='remove_songs')\n",
        "train['id']=train['id'].astype(str)\n",
        "train_remove = pd.merge(train, plylst_song_group)\n",
        "train_remove['songs']=train_remove['remove_songs']\n",
        "train_remove=train_remove.drop('remove_songs', axis=1)"
      ],
      "execution_count": 6,
      "outputs": []
    },
    {
      "cell_type": "markdown",
      "metadata": {
        "id": "ileA6pQ9HjOY",
        "colab_type": "text"
      },
      "source": [
        "matrix factorization model 세우기 - song prediction"
      ]
    },
    {
      "cell_type": "code",
      "metadata": {
        "id": "udgdWTIuHZMV",
        "colab_type": "code",
        "colab": {}
      },
      "source": [
        "#songs 존재하는 test 데이터 남기기\n",
        "\n",
        "train_songs=train[['id', 'songs']]\n",
        "test_songs=test[['id', 'songs']]\n",
        "\n",
        "\n",
        "filter=test_songs['songs'].astype('str')=='[]'\n",
        "test_songs=test_songs[~filter]\n",
        "\n",
        "plylst_song_map=pd.concat([train_songs, test_songs])\n",
        "\n",
        "\n",
        "#plylst_song_map unnest\n",
        "\n",
        "plylst_song_map_unnest=np.dstack(\n",
        "    (\n",
        "        np.repeat(plylst_song_map.id.values, list(map(len, plylst_song_map.songs))),\n",
        "        np.concatenate(plylst_song_map.songs.values)\n",
        "    )\n",
        ")\n",
        "\n",
        "plylst_song_map=pd.DataFrame(data=plylst_song_map_unnest[0], columns=plylst_song_map.columns)\n",
        "plylst_song_map['id']=plylst_song_map['id'].astype('category')\n",
        "plylst_song_map['songs']=plylst_song_map['songs'].astype('category')"
      ],
      "execution_count": 7,
      "outputs": []
    },
    {
      "cell_type": "code",
      "metadata": {
        "id": "pUOoGn26HmAp",
        "colab_type": "code",
        "colab": {}
      },
      "source": [
        "#sparse matrix 만들기\n",
        "\n",
        "sparse_song=scipy.sparse.coo_matrix((np.ones(plylst_song_map.shape[0]),\n",
        "                                (plylst_song_map['songs'].cat.codes.copy(),\n",
        "                                 plylst_song_map['id'].cat.codes.copy())))"
      ],
      "execution_count": 8,
      "outputs": []
    },
    {
      "cell_type": "code",
      "metadata": {
        "id": "1_0IzD1pHmEs",
        "colab_type": "code",
        "colab": {
          "base_uri": "https://localhost:8080/",
          "height": 84,
          "referenced_widgets": [
            "e0ef4125736e49e785c183a073396daf",
            "af97d23851554cc5b620b799d00972fe",
            "4f2644882cf1455e9584930104868871",
            "00f7977b53c2434a8b548e1cc84e07bd",
            "e2801e8c468142f8a2d72e4cc6780066",
            "7a1d2f50c76f490e853d291e2395279b",
            "1e2fe0950d574c8ea924905e10e17b91",
            "9ae31ba30e4441d2bfbf5e2387ca864e"
          ]
        },
        "outputId": "4fb6e492-d810-45db-8258-6603c0a9875d"
      },
      "source": [
        "#ALS model 세우기\n",
        "\n",
        "model_song=implicit.als.AlternatingLeastSquares(factors=10,  regularization=0.01, dtype=np.float64, iterations=20, use_gpu=False)\n",
        "model_song.fit(sparse_song)"
      ],
      "execution_count": 9,
      "outputs": [
        {
          "output_type": "stream",
          "text": [
            "WARNING:root:OpenBLAS detected. Its highly recommend to set the environment variable 'export OPENBLAS_NUM_THREADS=1' to disable its internal multithreading\n"
          ],
          "name": "stderr"
        },
        {
          "output_type": "display_data",
          "data": {
            "application/vnd.jupyter.widget-view+json": {
              "model_id": "e0ef4125736e49e785c183a073396daf",
              "version_minor": 0,
              "version_major": 2
            },
            "text/plain": [
              "HBox(children=(FloatProgress(value=0.0, max=20.0), HTML(value='')))"
            ]
          },
          "metadata": {
            "tags": []
          }
        },
        {
          "output_type": "stream",
          "text": [
            "\n"
          ],
          "name": "stdout"
        }
      ]
    },
    {
      "cell_type": "code",
      "metadata": {
        "id": "h7vh6VvGHl3T",
        "colab_type": "code",
        "colab": {}
      },
      "source": [
        "#recommendation\n",
        "\n",
        "repos_song=dict(enumerate(plylst_song_map['songs'].cat.categories))\n",
        "\n",
        "plylst_song_map_test=test_songs\n",
        "\n",
        "#test set unnest\n",
        "\n",
        "plylst_song_map_test_unnest=np.dstack(\n",
        "    (\n",
        "        np.repeat(plylst_song_map_test.id.values, list(map(len, plylst_song_map_test.songs))),\n",
        "        np.concatenate(plylst_song_map_test.songs.values)\n",
        "    )\n",
        ")\n",
        "\n",
        "plylst_song_map_test=pd.DataFrame(data=plylst_song_map_test_unnest[0], columns=plylst_song_map_test.columns)\n",
        "plylst_song_map_test['id']=plylst_song_map_test['id'].astype('category')\n",
        "plylst_song_map_test['songs']=plylst_song_map_test['songs'].astype('category')\n",
        "\n",
        "del plylst_song_map_test_unnest\n",
        "\n",
        "#test_song data에 대한 sparse matrix 만들기\n",
        "\n",
        "test_song_sparse=scipy.sparse.coo_matrix((np.ones(plylst_song_map_test.shape[0]),\n",
        "                                          (plylst_song_map_test['id'].cat.codes.copy(),\n",
        "                                           plylst_song_map_test['songs'].cat.codes.copy()))).tocsr()"
      ],
      "execution_count": 10,
      "outputs": []
    },
    {
      "cell_type": "code",
      "metadata": {
        "id": "Nc0_s3l1HrJN",
        "colab_type": "code",
        "colab": {}
      },
      "source": [
        "result_songs = []\n",
        "\n",
        "for i in range(test_songs.shape[0]):\n",
        "  rec=model_song.recommend(userid=i, user_items=test_song_sparse, N=100)\n",
        "  result_rec=[]\n",
        "  for j in range(len(rec)):\n",
        "    rec[j]=repos_song[rec[j][0]]\n",
        "    result_rec.insert(j, rec[j])\n",
        "  result_songs.insert(i, result_rec)\n"
      ],
      "execution_count": 11,
      "outputs": []
    },
    {
      "cell_type": "code",
      "metadata": {
        "id": "fDIO3Gd1HrRh",
        "colab_type": "code",
        "colab": {}
      },
      "source": [
        "test_songs['predicted_songs']=result_songs"
      ],
      "execution_count": 12,
      "outputs": []
    },
    {
      "cell_type": "markdown",
      "metadata": {
        "id": "UyG-5koeHvoR",
        "colab_type": "text"
      },
      "source": [
        "song data를 이용하여 song 예측하기"
      ]
    },
    {
      "cell_type": "code",
      "metadata": {
        "id": "W-yzhD58HrBQ",
        "colab_type": "code",
        "colab": {
          "base_uri": "https://localhost:8080/",
          "height": 266
        },
        "outputId": "6cbc3777-a638-4ff8-e778-2488fdf45efa"
      },
      "source": [
        "#곡 데이터를 이용하여 곡 prediction 결과\n",
        "\n",
        "test_result=test_songs.drop('songs', axis=1)\n",
        "print(test_result)\n",
        "\n",
        "test_result.to_json('J_result_1.json')"
      ],
      "execution_count": 13,
      "outputs": [
        {
          "output_type": "stream",
          "text": [
            "           id                                    predicted_songs\n",
            "0       70107  [581799, 493762, 15124, 195174, 191915, 146989...\n",
            "1        7461  [581799, 493762, 15124, 195174, 146989, 191915...\n",
            "2       90348  [581799, 493762, 15124, 146989, 625875, 195174...\n",
            "3       58617  [133143, 650494, 701557, 610933, 132994, 34820...\n",
            "4      102395  [116573, 675115, 654757, 37748, 88503, 224921,...\n",
            "...       ...                                                ...\n",
            "10735  137930  [133143, 650494, 701557, 610933, 132994, 34820...\n",
            "10736     936  [144663, 116573, 493762, 357367, 37748, 581799...\n",
            "10737  110589  [654757, 117595, 88503, 1236, 113958, 173943, ...\n",
            "10738    2605  [581799, 493762, 237407, 15124, 505036, 195174...\n",
            "10739  126651  [519391, 640657, 133484, 698536, 232606, 11228...\n",
            "\n",
            "[8697 rows x 2 columns]\n"
          ],
          "name": "stdout"
        }
      ]
    },
    {
      "cell_type": "markdown",
      "metadata": {
        "id": "7IYgg9LEKXTb",
        "colab_type": "text"
      },
      "source": [
        "태그 데이터 이용하여 태그 예측하기"
      ]
    },
    {
      "cell_type": "code",
      "metadata": {
        "id": "fz-vZ1q3Kbd_",
        "colab_type": "code",
        "colab": {}
      },
      "source": [
        "train_tag=train[['id', 'tags']]\n",
        "test_tag=test[['id', 'tags']]\n",
        "filter=test_tag['tags'].astype('str')=='[]'\n",
        "test_tag=test_tag[~filter]\n",
        "\n",
        "\n",
        "plylst_tag_map=pd.concat([train_tag, test_tag])\n",
        "\n",
        "#unnesting\n",
        "\n",
        "plylst_tag_map_unnest=np.dstack(\n",
        "    (\n",
        "        np.repeat(plylst_tag_map.id.values, list(map(len, plylst_tag_map.tags))),\n",
        "        np.concatenate(plylst_tag_map.tags.values)\n",
        "    )\n",
        ")\n",
        "\n",
        "plylst_tag_map=pd.DataFrame(data=plylst_tag_map_unnest[0], columns=plylst_tag_map.columns)\n",
        "plylst_tag_map['id']=plylst_tag_map['id'].astype('category')\n",
        "plylst_tag_map['tags']=plylst_tag_map['tags'].astype('category')\n",
        "\n",
        "del plylst_tag_map_unnest"
      ],
      "execution_count": 14,
      "outputs": []
    },
    {
      "cell_type": "code",
      "metadata": {
        "id": "qfr_q8ixKbzq",
        "colab_type": "code",
        "colab": {}
      },
      "source": [
        "#sparse matrix 만들기\n",
        "\n",
        "sparse_tag=scipy.sparse.coo_matrix((np.ones(plylst_tag_map.shape[0]),\n",
        "                                    (plylst_tag_map['tags'].cat.codes.copy(),\n",
        "                                     plylst_tag_map['id'].cat.codes.copy())))"
      ],
      "execution_count": 15,
      "outputs": []
    },
    {
      "cell_type": "code",
      "metadata": {
        "id": "F-9R-esiKcSb",
        "colab_type": "code",
        "colab": {
          "base_uri": "https://localhost:8080/",
          "height": 67,
          "referenced_widgets": [
            "eebfe3ef5c1a4ee8b664bf263072452f",
            "2cbc3f6c80c043af9e7da476cfa84803",
            "bab3be0e3729409d9b230c893e85956a",
            "5ac91db47c6841949a3a48cb0cea492a",
            "3ca6c3cd428c4dafa2d7ec6965722558",
            "2e6edbe89c234599b4ec05429d4acb47",
            "cd01922643eb4042a75ee0006d351d3a",
            "36ec690110b649009e03ee03ba2b1772"
          ]
        },
        "outputId": "630bd8f4-012f-458e-aba5-babf9524ec72"
      },
      "source": [
        "#모델 세우기\n",
        "\n",
        "model_tag=implicit.als.AlternatingLeastSquares(factors=20,  regularization=0.01, dtype=np.float64, iterations=20, use_gpu=False)\n",
        "model_tag.fit(sparse_tag)"
      ],
      "execution_count": 16,
      "outputs": [
        {
          "output_type": "display_data",
          "data": {
            "application/vnd.jupyter.widget-view+json": {
              "model_id": "eebfe3ef5c1a4ee8b664bf263072452f",
              "version_minor": 0,
              "version_major": 2
            },
            "text/plain": [
              "HBox(children=(FloatProgress(value=0.0, max=20.0), HTML(value='')))"
            ]
          },
          "metadata": {
            "tags": []
          }
        },
        {
          "output_type": "stream",
          "text": [
            "\n"
          ],
          "name": "stdout"
        }
      ]
    },
    {
      "cell_type": "code",
      "metadata": {
        "id": "AYDjFULGKcP7",
        "colab_type": "code",
        "colab": {}
      },
      "source": [
        "#recommendation\n",
        "\n",
        "repos_tags=dict(enumerate(plylst_tag_map['tags'].cat.categories))\n",
        "\n",
        "\n",
        "plylst_tag_map_test=test_tag\n",
        "\n",
        "#unnesting\n",
        "\n",
        "plylst_tag_map_test_unnest=np.dstack(\n",
        "    (\n",
        "        np.repeat(plylst_tag_map_test.id.values, list(map(len, plylst_tag_map_test.tags))),\n",
        "        np.concatenate(plylst_tag_map_test.tags.values)\n",
        "    )\n",
        ")\n",
        "\n",
        "\n",
        "plylst_tag_map_test=pd.DataFrame(data=plylst_tag_map_test_unnest[0], columns=plylst_tag_map_test.columns)\n",
        "plylst_tag_map_test['id']=plylst_tag_map_test['id'].astype('category')\n",
        "plylst_tag_map_test['tags']=plylst_tag_map_test['tags'].astype('category')\n"
      ],
      "execution_count": 17,
      "outputs": []
    },
    {
      "cell_type": "code",
      "metadata": {
        "id": "aP4ttSCMKbxD",
        "colab_type": "code",
        "colab": {}
      },
      "source": [
        "\n",
        "#test sparse matrix\n",
        "\n",
        "test_tag_sparse=scipy.sparse.coo_matrix((np.ones(plylst_tag_map_test.shape[0]),\n",
        "                                          (plylst_tag_map_test['id'].cat.codes.copy(),\n",
        "                                           plylst_tag_map_test['tags'].cat.codes.copy()))).tocsr()"
      ],
      "execution_count": 18,
      "outputs": []
    },
    {
      "cell_type": "code",
      "metadata": {
        "id": "UCeG0T39Kkfx",
        "colab_type": "code",
        "colab": {}
      },
      "source": [
        "result_tag=[]\n",
        "\n",
        "for i in range(test_tag.shape[0]):\n",
        "  rec=model_tag.recommend(i, test_tag_sparse, N=10)\n",
        "  result_rec=[]\n",
        "  for j in range(len(rec)):\n",
        "    rec[j]=repos_tags[rec[j][0]]\n",
        "    result_rec.insert(j, rec[j])\n",
        "  result_tag.insert(i, result_rec)\n"
      ],
      "execution_count": 19,
      "outputs": []
    },
    {
      "cell_type": "code",
      "metadata": {
        "id": "EQJLSYoKKk0p",
        "colab_type": "code",
        "colab": {}
      },
      "source": [
        "test_result_tag=test_tag\n",
        "test_result_tag['predicted_tags']=result_tag\n",
        "test_result_tag=test_result_tag.drop('tags', axis=1).reset_index()"
      ],
      "execution_count": 20,
      "outputs": []
    },
    {
      "cell_type": "code",
      "metadata": {
        "id": "pyAusGgYKkxR",
        "colab_type": "code",
        "colab": {}
      },
      "source": [
        "test_result_tag.to_json('mf_tag.json')"
      ],
      "execution_count": 22,
      "outputs": []
    },
    {
      "cell_type": "code",
      "metadata": {
        "id": "YDBQxJL1Kkc9",
        "colab_type": "code",
        "colab": {}
      },
      "source": [
        ""
      ],
      "execution_count": null,
      "outputs": []
    }
  ]
}