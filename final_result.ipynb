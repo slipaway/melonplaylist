{
  "nbformat": 4,
  "nbformat_minor": 0,
  "metadata": {
    "colab": {
      "name": "final result ",
      "provenance": [],
      "collapsed_sections": [],
      "authorship_tag": "ABX9TyMFwDprUfJRT4Xaze9bTcNY",
      "include_colab_link": true
    },
    "kernelspec": {
      "name": "python3",
      "display_name": "Python 3"
    }
  },
  "cells": [
    {
      "cell_type": "markdown",
      "metadata": {
        "id": "view-in-github",
        "colab_type": "text"
      },
      "source": [
        "<a href=\"https://colab.research.google.com/github/slipaway/melonplaylist/blob/master/final_result.ipynb\" target=\"_parent\"><img src=\"https://colab.research.google.com/assets/colab-badge.svg\" alt=\"Open In Colab\"/></a>"
      ]
    },
    {
      "cell_type": "code",
      "metadata": {
        "id": "uuHgtr6ywK94",
        "colab_type": "code",
        "colab": {
          "base_uri": "https://localhost:8080/",
          "height": 124
        },
        "outputId": "4772eea0-245a-4e15-b04c-a4914c3487c1"
      },
      "source": [
        "from google.colab import drive\n",
        "drive.mount('/content/gdrive/')"
      ],
      "execution_count": null,
      "outputs": [
        {
          "output_type": "stream",
          "text": [
            "Go to this URL in a browser: https://accounts.google.com/o/oauth2/auth?client_id=947318989803-6bn6qk8qdgf4n4g3pfee6491hc0brc4i.apps.googleusercontent.com&redirect_uri=urn%3aietf%3awg%3aoauth%3a2.0%3aoob&response_type=code&scope=email%20https%3a%2f%2fwww.googleapis.com%2fauth%2fdocs.test%20https%3a%2f%2fwww.googleapis.com%2fauth%2fdrive%20https%3a%2f%2fwww.googleapis.com%2fauth%2fdrive.photos.readonly%20https%3a%2f%2fwww.googleapis.com%2fauth%2fpeopleapi.readonly\n",
            "\n",
            "Enter your authorization code:\n",
            "··········\n",
            "Mounted at /content/gdrive/\n"
          ],
          "name": "stdout"
        }
      ]
    },
    {
      "cell_type": "code",
      "metadata": {
        "id": "XWJ64e3tw_7H",
        "colab_type": "code",
        "colab": {}
      },
      "source": [
        "import os\n",
        "import pandas as pd\n",
        "import numpy as np"
      ],
      "execution_count": null,
      "outputs": []
    },
    {
      "cell_type": "code",
      "metadata": {
        "id": "ZZEHYnoXxrIN",
        "colab_type": "code",
        "colab": {}
      },
      "source": [
        "folder = '/content/gdrive/My Drive/멜론'\n",
        "filelist = os.chdir(folder)"
      ],
      "execution_count": null,
      "outputs": []
    },
    {
      "cell_type": "code",
      "metadata": {
        "id": "9qTov5QBzqWu",
        "colab_type": "code",
        "colab": {}
      },
      "source": [
        "test = pd.read_json('test.json')"
      ],
      "execution_count": null,
      "outputs": []
    },
    {
      "cell_type": "markdown",
      "metadata": {
        "id": "6TPGl9NVxvh2",
        "colab_type": "text"
      },
      "source": [
        "# 1. Tag2vec 모델"
      ]
    },
    {
      "cell_type": "code",
      "metadata": {
        "id": "kSBQ9sqGxsq3",
        "colab_type": "code",
        "colab": {
          "base_uri": "https://localhost:8080/",
          "height": 404
        },
        "outputId": "67533bcb-23fa-4183-84c8-49367676634a"
      },
      "source": [
        "# (2)(태그)(1232), (6)(태그)(4190)\n",
        "H_result = pd.read_json('H_result_1.json')\n",
        "H_result  # 5422 = 1232 + 4190"
      ],
      "execution_count": null,
      "outputs": [
        {
          "output_type": "execute_result",
          "data": {
            "text/html": [
              "<div>\n",
              "<style scoped>\n",
              "    .dataframe tbody tr th:only-of-type {\n",
              "        vertical-align: middle;\n",
              "    }\n",
              "\n",
              "    .dataframe tbody tr th {\n",
              "        vertical-align: top;\n",
              "    }\n",
              "\n",
              "    .dataframe thead th {\n",
              "        text-align: right;\n",
              "    }\n",
              "</style>\n",
              "<table border=\"1\" class=\"dataframe\">\n",
              "  <thead>\n",
              "    <tr style=\"text-align: right;\">\n",
              "      <th></th>\n",
              "      <th>id</th>\n",
              "      <th>predicted_tags</th>\n",
              "    </tr>\n",
              "  </thead>\n",
              "  <tbody>\n",
              "    <tr>\n",
              "      <th>0</th>\n",
              "      <td>7461</td>\n",
              "      <td>[피쉬슈즈, 피터팬컴플렉스, 소수빈, 인디스트리트, 케이인디차트, yasisi, 미...</td>\n",
              "    </tr>\n",
              "    <tr>\n",
              "      <th>1</th>\n",
              "      <td>90348</td>\n",
              "      <td>[기분전환, 여행, 빵빵, 운전, 신나는, 흥, 신나는드라이브, 휴게소, 운전할때,...</td>\n",
              "    </tr>\n",
              "    <tr>\n",
              "      <th>2</th>\n",
              "      <td>58617</td>\n",
              "      <td>[분위기있는, 어두움, 레트로감성, 비밥, 관능적, 매혹, 감성, 분위기를, 패션위...</td>\n",
              "    </tr>\n",
              "    <tr>\n",
              "      <th>3</th>\n",
              "      <td>88862</td>\n",
              "      <td>[내적댄스, 기분전환, 시원시원, 신나는노래모음, 프로야구, 드라아브, 국내EDM,...</td>\n",
              "    </tr>\n",
              "    <tr>\n",
              "      <th>4</th>\n",
              "      <td>133975</td>\n",
              "      <td>[진선미, 반함, 달달송, 상사병, 첫만남, 프로포즈송, 생각했던대로, 남여, 설렌...</td>\n",
              "    </tr>\n",
              "    <tr>\n",
              "      <th>...</th>\n",
              "      <td>...</td>\n",
              "      <td>...</td>\n",
              "    </tr>\n",
              "    <tr>\n",
              "      <th>5417</th>\n",
              "      <td>77688</td>\n",
              "      <td>[달빛, 밤하늘, 선선한바람, 여름밤, 가을밤, 달, 달밤, 무중력, 여수밤바다, 밤]</td>\n",
              "    </tr>\n",
              "    <tr>\n",
              "      <th>5418</th>\n",
              "      <td>137930</td>\n",
              "      <td>[회상, 이별은, 담시, 슈가맨시즌2, 올드감성, 재발견, 토토가, 첫이별, 토토가...</td>\n",
              "    </tr>\n",
              "    <tr>\n",
              "      <th>5419</th>\n",
              "      <td>936</td>\n",
              "      <td>[산책해요, 아쿠스틱, 우울하고, 띵_곡, 오후의, 공감하는, 혼자, 생각을, 운전...</td>\n",
              "    </tr>\n",
              "    <tr>\n",
              "      <th>5420</th>\n",
              "      <td>110589</td>\n",
              "      <td>[드라이브, 신나는, 여행, 핫한노래, 스트레스, 제주여행, 팝, 청량한, 내적댄스...</td>\n",
              "    </tr>\n",
              "    <tr>\n",
              "      <th>5421</th>\n",
              "      <td>2605</td>\n",
              "      <td>[썸머, 몰디브, Summer, 팥빙수, 여름노래, 아이스커피, 공항가는길, 트로피...</td>\n",
              "    </tr>\n",
              "  </tbody>\n",
              "</table>\n",
              "<p>5422 rows × 2 columns</p>\n",
              "</div>"
            ],
            "text/plain": [
              "          id                                     predicted_tags\n",
              "0       7461  [피쉬슈즈, 피터팬컴플렉스, 소수빈, 인디스트리트, 케이인디차트, yasisi, 미...\n",
              "1      90348  [기분전환, 여행, 빵빵, 운전, 신나는, 흥, 신나는드라이브, 휴게소, 운전할때,...\n",
              "2      58617  [분위기있는, 어두움, 레트로감성, 비밥, 관능적, 매혹, 감성, 분위기를, 패션위...\n",
              "3      88862  [내적댄스, 기분전환, 시원시원, 신나는노래모음, 프로야구, 드라아브, 국내EDM,...\n",
              "4     133975  [진선미, 반함, 달달송, 상사병, 첫만남, 프로포즈송, 생각했던대로, 남여, 설렌...\n",
              "...      ...                                                ...\n",
              "5417   77688   [달빛, 밤하늘, 선선한바람, 여름밤, 가을밤, 달, 달밤, 무중력, 여수밤바다, 밤]\n",
              "5418  137930  [회상, 이별은, 담시, 슈가맨시즌2, 올드감성, 재발견, 토토가, 첫이별, 토토가...\n",
              "5419     936  [산책해요, 아쿠스틱, 우울하고, 띵_곡, 오후의, 공감하는, 혼자, 생각을, 운전...\n",
              "5420  110589  [드라이브, 신나는, 여행, 핫한노래, 스트레스, 제주여행, 팝, 청량한, 내적댄스...\n",
              "5421    2605  [썸머, 몰디브, Summer, 팥빙수, 여름노래, 아이스커피, 공항가는길, 트로피...\n",
              "\n",
              "[5422 rows x 2 columns]"
            ]
          },
          "metadata": {
            "tags": []
          },
          "execution_count": 6
        }
      ]
    },
    {
      "cell_type": "markdown",
      "metadata": {
        "id": "j_tKkjWcx4Uc",
        "colab_type": "text"
      },
      "source": [
        "# 2. MF 모델"
      ]
    },
    {
      "cell_type": "code",
      "metadata": {
        "id": "ooQk8z1BAZaP",
        "colab_type": "code",
        "colab": {
          "base_uri": "https://localhost:8080/",
          "height": 404
        },
        "outputId": "27ff5d26-dc59-47f6-8de9-7837a79627d9"
      },
      "source": [
        "# (5)(곡)(4190), (7)(곡)(4507)\n",
        "J_result_1 = pd.read_json('J_result_1.json')\n",
        "J_result_1 = J_result_1.reset_index()\n",
        "J_result_1 = J_result_1.drop('index', axis = 1)\n",
        "J_result_1  # 8697"
      ],
      "execution_count": null,
      "outputs": [
        {
          "output_type": "execute_result",
          "data": {
            "text/html": [
              "<div>\n",
              "<style scoped>\n",
              "    .dataframe tbody tr th:only-of-type {\n",
              "        vertical-align: middle;\n",
              "    }\n",
              "\n",
              "    .dataframe tbody tr th {\n",
              "        vertical-align: top;\n",
              "    }\n",
              "\n",
              "    .dataframe thead th {\n",
              "        text-align: right;\n",
              "    }\n",
              "</style>\n",
              "<table border=\"1\" class=\"dataframe\">\n",
              "  <thead>\n",
              "    <tr style=\"text-align: right;\">\n",
              "      <th></th>\n",
              "      <th>id</th>\n",
              "      <th>predicted_songs</th>\n",
              "    </tr>\n",
              "  </thead>\n",
              "  <tbody>\n",
              "    <tr>\n",
              "      <th>0</th>\n",
              "      <td>70107</td>\n",
              "      <td>[581799, 493762, 15124, 195174, 191915, 146989...</td>\n",
              "    </tr>\n",
              "    <tr>\n",
              "      <th>1</th>\n",
              "      <td>7461</td>\n",
              "      <td>[581799, 493762, 15124, 195174, 146989, 191915...</td>\n",
              "    </tr>\n",
              "    <tr>\n",
              "      <th>2</th>\n",
              "      <td>90348</td>\n",
              "      <td>[581799, 493762, 15124, 625875, 146989, 195174...</td>\n",
              "    </tr>\n",
              "    <tr>\n",
              "      <th>3</th>\n",
              "      <td>58617</td>\n",
              "      <td>[133143, 650494, 701557, 610933, 132994, 34820...</td>\n",
              "    </tr>\n",
              "    <tr>\n",
              "      <th>4</th>\n",
              "      <td>102395</td>\n",
              "      <td>[116573, 675115, 654757, 37748, 88503, 663905,...</td>\n",
              "    </tr>\n",
              "    <tr>\n",
              "      <th>...</th>\n",
              "      <td>...</td>\n",
              "      <td>...</td>\n",
              "    </tr>\n",
              "    <tr>\n",
              "      <th>8692</th>\n",
              "      <td>137930</td>\n",
              "      <td>[133143, 650494, 701557, 610933, 132994, 34820...</td>\n",
              "    </tr>\n",
              "    <tr>\n",
              "      <th>8693</th>\n",
              "      <td>936</td>\n",
              "      <td>[144663, 116573, 357367, 37748, 493762, 627363...</td>\n",
              "    </tr>\n",
              "    <tr>\n",
              "      <th>8694</th>\n",
              "      <td>110589</td>\n",
              "      <td>[654757, 117595, 88503, 1236, 113958, 173943, ...</td>\n",
              "    </tr>\n",
              "    <tr>\n",
              "      <th>8695</th>\n",
              "      <td>2605</td>\n",
              "      <td>[581799, 493762, 237407, 505036, 15124, 413422...</td>\n",
              "    </tr>\n",
              "    <tr>\n",
              "      <th>8696</th>\n",
              "      <td>126651</td>\n",
              "      <td>[519391, 640657, 133484, 698536, 232606, 11228...</td>\n",
              "    </tr>\n",
              "  </tbody>\n",
              "</table>\n",
              "<p>8697 rows × 2 columns</p>\n",
              "</div>"
            ],
            "text/plain": [
              "          id                                    predicted_songs\n",
              "0      70107  [581799, 493762, 15124, 195174, 191915, 146989...\n",
              "1       7461  [581799, 493762, 15124, 195174, 146989, 191915...\n",
              "2      90348  [581799, 493762, 15124, 625875, 146989, 195174...\n",
              "3      58617  [133143, 650494, 701557, 610933, 132994, 34820...\n",
              "4     102395  [116573, 675115, 654757, 37748, 88503, 663905,...\n",
              "...      ...                                                ...\n",
              "8692  137930  [133143, 650494, 701557, 610933, 132994, 34820...\n",
              "8693     936  [144663, 116573, 357367, 37748, 493762, 627363...\n",
              "8694  110589  [654757, 117595, 88503, 1236, 113958, 173943, ...\n",
              "8695    2605  [581799, 493762, 237407, 505036, 15124, 413422...\n",
              "8696  126651  [519391, 640657, 133484, 698536, 232606, 11228...\n",
              "\n",
              "[8697 rows x 2 columns]"
            ]
          },
          "metadata": {
            "tags": []
          },
          "execution_count": 30
        }
      ]
    },
    {
      "cell_type": "code",
      "metadata": {
        "id": "2FZKkvR1ZGr1",
        "colab_type": "code",
        "colab": {
          "base_uri": "https://localhost:8080/",
          "height": 404
        },
        "outputId": "3a8c9b03-36ee-45f1-f051-8eec02a5f2b5"
      },
      "source": [
        "# (9)(태그)(154)\n",
        "J_result_2 = pd.read_json('J_result_2.json')\n",
        "J_result_2  # 154"
      ],
      "execution_count": null,
      "outputs": [
        {
          "output_type": "execute_result",
          "data": {
            "text/html": [
              "<div>\n",
              "<style scoped>\n",
              "    .dataframe tbody tr th:only-of-type {\n",
              "        vertical-align: middle;\n",
              "    }\n",
              "\n",
              "    .dataframe tbody tr th {\n",
              "        vertical-align: top;\n",
              "    }\n",
              "\n",
              "    .dataframe thead th {\n",
              "        text-align: right;\n",
              "    }\n",
              "</style>\n",
              "<table border=\"1\" class=\"dataframe\">\n",
              "  <thead>\n",
              "    <tr style=\"text-align: right;\">\n",
              "      <th></th>\n",
              "      <th>id</th>\n",
              "      <th>predicted_tags</th>\n",
              "    </tr>\n",
              "  </thead>\n",
              "  <tbody>\n",
              "    <tr>\n",
              "      <th>0</th>\n",
              "      <td>9823</td>\n",
              "      <td>[힙합, 랩, 알앤비, 소울, HipHop, 가을, 트렌디, 그루브, 국내힙합, 카페]</td>\n",
              "    </tr>\n",
              "    <tr>\n",
              "      <th>1</th>\n",
              "      <td>31103</td>\n",
              "      <td>[새벽, 밤, 비오는날, 감성, 분위기, 저녁, 몽환, 새벽감성, 여름, 우울]</td>\n",
              "    </tr>\n",
              "    <tr>\n",
              "      <th>2</th>\n",
              "      <td>75837</td>\n",
              "      <td>[새벽, 밤, 비오는날, 감성, 분위기, 저녁, 몽환, 새벽감성, 여름, 우울]</td>\n",
              "    </tr>\n",
              "    <tr>\n",
              "      <th>3</th>\n",
              "      <td>81933</td>\n",
              "      <td>[휴식, 드라이브, 힐링, 스트레스, Pop, 운동, 저녁, 주말, 분위기, 트렌디]</td>\n",
              "    </tr>\n",
              "    <tr>\n",
              "      <th>4</th>\n",
              "      <td>95606</td>\n",
              "      <td>[드라이브, 신나는, 스트레스, 운동, 댄스, 여행, 여름, Pop, EDM, 클럽]</td>\n",
              "    </tr>\n",
              "    <tr>\n",
              "      <th>...</th>\n",
              "      <td>...</td>\n",
              "      <td>...</td>\n",
              "    </tr>\n",
              "    <tr>\n",
              "      <th>149</th>\n",
              "      <td>27708</td>\n",
              "      <td>[힐링, 새벽, 밤, 휴식, 뉴에이지, 피아노, 연주곡, 클래식, 자장가, 스트레스]</td>\n",
              "    </tr>\n",
              "    <tr>\n",
              "      <th>150</th>\n",
              "      <td>30510</td>\n",
              "      <td>[힐링, 휴식, 뉴에이지, 피아노, 연주곡, 클래식, 락, 자장가, 스트레스, 집중]</td>\n",
              "    </tr>\n",
              "    <tr>\n",
              "      <th>151</th>\n",
              "      <td>115035</td>\n",
              "      <td>[잔잔한, 사랑, 이별, 새벽, 슬픔, 밤, 설렘, 비오는날, 가을, 겨울]</td>\n",
              "    </tr>\n",
              "    <tr>\n",
              "      <th>152</th>\n",
              "      <td>77836</td>\n",
              "      <td>[알앤비, 소울, 락, 가을, 힙합, RnB, 그루브, 카페, 트렌디, 분위기]</td>\n",
              "    </tr>\n",
              "    <tr>\n",
              "      <th>153</th>\n",
              "      <td>27739</td>\n",
              "      <td>[알앤비, 소울, 락, 가을, RnB, 힙합, 그루브, 카페, 분위기, 트렌디]</td>\n",
              "    </tr>\n",
              "  </tbody>\n",
              "</table>\n",
              "<p>154 rows × 2 columns</p>\n",
              "</div>"
            ],
            "text/plain": [
              "         id                                    predicted_tags\n",
              "0      9823  [힙합, 랩, 알앤비, 소울, HipHop, 가을, 트렌디, 그루브, 국내힙합, 카페]\n",
              "1     31103      [새벽, 밤, 비오는날, 감성, 분위기, 저녁, 몽환, 새벽감성, 여름, 우울]\n",
              "2     75837      [새벽, 밤, 비오는날, 감성, 분위기, 저녁, 몽환, 새벽감성, 여름, 우울]\n",
              "3     81933   [휴식, 드라이브, 힐링, 스트레스, Pop, 운동, 저녁, 주말, 분위기, 트렌디]\n",
              "4     95606   [드라이브, 신나는, 스트레스, 운동, 댄스, 여행, 여름, Pop, EDM, 클럽]\n",
              "..      ...                                               ...\n",
              "149   27708   [힐링, 새벽, 밤, 휴식, 뉴에이지, 피아노, 연주곡, 클래식, 자장가, 스트레스]\n",
              "150   30510   [힐링, 휴식, 뉴에이지, 피아노, 연주곡, 클래식, 락, 자장가, 스트레스, 집중]\n",
              "151  115035        [잔잔한, 사랑, 이별, 새벽, 슬픔, 밤, 설렘, 비오는날, 가을, 겨울]\n",
              "152   77836      [알앤비, 소울, 락, 가을, 힙합, RnB, 그루브, 카페, 트렌디, 분위기]\n",
              "153   27739      [알앤비, 소울, 락, 가을, RnB, 힙합, 그루브, 카페, 분위기, 트렌디]\n",
              "\n",
              "[154 rows x 2 columns]"
            ]
          },
          "metadata": {
            "tags": []
          },
          "execution_count": 8
        }
      ]
    },
    {
      "cell_type": "code",
      "metadata": {
        "id": "heTVP2aaW5oD",
        "colab_type": "code",
        "colab": {
          "base_uri": "https://localhost:8080/",
          "height": 404
        },
        "outputId": "ddbfb21a-6aa6-4d2b-e0d2-065d919b36ba"
      },
      "source": [
        "# (8)-2(태그)(4118) + (8)-3[empty](180)\n",
        "J_result_3 = pd.read_json('J_result_3.json')\n",
        "J_result_3  # 4298"
      ],
      "execution_count": null,
      "outputs": [
        {
          "output_type": "execute_result",
          "data": {
            "text/html": [
              "<div>\n",
              "<style scoped>\n",
              "    .dataframe tbody tr th:only-of-type {\n",
              "        vertical-align: middle;\n",
              "    }\n",
              "\n",
              "    .dataframe tbody tr th {\n",
              "        vertical-align: top;\n",
              "    }\n",
              "\n",
              "    .dataframe thead th {\n",
              "        text-align: right;\n",
              "    }\n",
              "</style>\n",
              "<table border=\"1\" class=\"dataframe\">\n",
              "  <thead>\n",
              "    <tr style=\"text-align: right;\">\n",
              "      <th></th>\n",
              "      <th>id</th>\n",
              "      <th>predicted_tags</th>\n",
              "    </tr>\n",
              "  </thead>\n",
              "  <tbody>\n",
              "    <tr>\n",
              "      <th>0</th>\n",
              "      <td>70107</td>\n",
              "      <td>[황현, 프리스타일, Apink, 고등학생, 서지음, 오늘의추천가수, 슴스테, Mo...</td>\n",
              "    </tr>\n",
              "    <tr>\n",
              "      <th>1</th>\n",
              "      <td>102395</td>\n",
              "      <td>[움프, 하드스타일, futurehouse, MartinGarrix, RunDeep...</td>\n",
              "    </tr>\n",
              "    <tr>\n",
              "      <th>2</th>\n",
              "      <td>42586</td>\n",
              "      <td>[weeflow, kxan, Empire, 히팝, 제국, 센힙합, SMTM, nb2...</td>\n",
              "    </tr>\n",
              "    <tr>\n",
              "      <th>3</th>\n",
              "      <td>13244</td>\n",
              "      <td>[힙발라드, 에픽하이, 드렁큰타이거, 재지팩트, 화지, Beenzino, 허클베리피...</td>\n",
              "    </tr>\n",
              "    <tr>\n",
              "      <th>4</th>\n",
              "      <td>55399</td>\n",
              "      <td>[JPOP모음, 중국노래, 중국음악, 일본애니, JAPAN, 일본밴드, chanso...</td>\n",
              "    </tr>\n",
              "    <tr>\n",
              "      <th>...</th>\n",
              "      <td>...</td>\n",
              "      <td>...</td>\n",
              "    </tr>\n",
              "    <tr>\n",
              "      <th>4293</th>\n",
              "      <td>122825</td>\n",
              "      <td>[]</td>\n",
              "    </tr>\n",
              "    <tr>\n",
              "      <th>4294</th>\n",
              "      <td>69955</td>\n",
              "      <td>[]</td>\n",
              "    </tr>\n",
              "    <tr>\n",
              "      <th>4295</th>\n",
              "      <td>78768</td>\n",
              "      <td>[]</td>\n",
              "    </tr>\n",
              "    <tr>\n",
              "      <th>4296</th>\n",
              "      <td>96756</td>\n",
              "      <td>[]</td>\n",
              "    </tr>\n",
              "    <tr>\n",
              "      <th>4297</th>\n",
              "      <td>95818</td>\n",
              "      <td>[]</td>\n",
              "    </tr>\n",
              "  </tbody>\n",
              "</table>\n",
              "<p>4298 rows × 2 columns</p>\n",
              "</div>"
            ],
            "text/plain": [
              "          id                                     predicted_tags\n",
              "0      70107  [황현, 프리스타일, Apink, 고등학생, 서지음, 오늘의추천가수, 슴스테, Mo...\n",
              "1     102395  [움프, 하드스타일, futurehouse, MartinGarrix, RunDeep...\n",
              "2      42586  [weeflow, kxan, Empire, 히팝, 제국, 센힙합, SMTM, nb2...\n",
              "3      13244  [힙발라드, 에픽하이, 드렁큰타이거, 재지팩트, 화지, Beenzino, 허클베리피...\n",
              "4      55399  [JPOP모음, 중국노래, 중국음악, 일본애니, JAPAN, 일본밴드, chanso...\n",
              "...      ...                                                ...\n",
              "4293  122825                                                 []\n",
              "4294   69955                                                 []\n",
              "4295   78768                                                 []\n",
              "4296   96756                                                 []\n",
              "4297   95818                                                 []\n",
              "\n",
              "[4298 rows x 2 columns]"
            ]
          },
          "metadata": {
            "tags": []
          },
          "execution_count": 9
        }
      ]
    },
    {
      "cell_type": "markdown",
      "metadata": {
        "id": "m3RvFbRDx4yp",
        "colab_type": "text"
      },
      "source": [
        "# 3. Train2vec 모델"
      ]
    },
    {
      "cell_type": "code",
      "metadata": {
        "id": "r_OADa1COOrB",
        "colab_type": "code",
        "colab": {
          "base_uri": "https://localhost:8080/",
          "height": 404
        },
        "outputId": "14920b32-fcf0-4c5d-c339-8cfbd1d5c74b"
      },
      "source": [
        "# (1)-1,(3),(4)(곡+태그)(1770)\n",
        "S_result_1 = pd.read_json('S_result_1.json')\n",
        "S_result_1  # 1770"
      ],
      "execution_count": null,
      "outputs": [
        {
          "output_type": "execute_result",
          "data": {
            "text/html": [
              "<div>\n",
              "<style scoped>\n",
              "    .dataframe tbody tr th:only-of-type {\n",
              "        vertical-align: middle;\n",
              "    }\n",
              "\n",
              "    .dataframe tbody tr th {\n",
              "        vertical-align: top;\n",
              "    }\n",
              "\n",
              "    .dataframe thead th {\n",
              "        text-align: right;\n",
              "    }\n",
              "</style>\n",
              "<table border=\"1\" class=\"dataframe\">\n",
              "  <thead>\n",
              "    <tr style=\"text-align: right;\">\n",
              "      <th></th>\n",
              "      <th>id</th>\n",
              "      <th>predicted_songs</th>\n",
              "      <th>predicted_tags</th>\n",
              "    </tr>\n",
              "  </thead>\n",
              "  <tbody>\n",
              "    <tr>\n",
              "      <th>0</th>\n",
              "      <td>88862</td>\n",
              "      <td>[454879, 105438, 628685, 663462, 624490, 16230...</td>\n",
              "      <td>[애창곡, 노래교실, 18번, 고음불가, 회식, 해소, 혼코노, 코인노래방, 코노,...</td>\n",
              "    </tr>\n",
              "    <tr>\n",
              "      <th>1</th>\n",
              "      <td>133975</td>\n",
              "      <td>[83366, 545636, 308541, 268453, 633847, 192464...</td>\n",
              "      <td>[설렘, 봄, 설탕, 봄노래, 달달, 벗꽃, 달달구리, 벚꽃, 연애, 봄내음]</td>\n",
              "    </tr>\n",
              "    <tr>\n",
              "      <th>2</th>\n",
              "      <td>135323</td>\n",
              "      <td>[208682, 281877, 246359, 545853, 201771, 52046...</td>\n",
              "      <td>[뉴에이지모음, Jazzpiano, 봄카페, 트리오, 피아노재즈, 책읽기, LONM...</td>\n",
              "    </tr>\n",
              "    <tr>\n",
              "      <th>3</th>\n",
              "      <td>43130</td>\n",
              "      <td>[149769, 134953, 207187, 10646, 707525, 664025...</td>\n",
              "      <td>[봄카페, 관현악, 이지리스닝인기클래식, 연주곡, 피아노클래식, 뉴에이지모음, 독주...</td>\n",
              "    </tr>\n",
              "    <tr>\n",
              "      <th>4</th>\n",
              "      <td>113806</td>\n",
              "      <td>[123826, 596034, 295970, 268453, 398528, 27958...</td>\n",
              "      <td>[밤, 감성, 새벽감성, 잠, 주말저녁, 잔잔한, 잠못드는밤에, 우울한노래, 첫날, 감]</td>\n",
              "    </tr>\n",
              "    <tr>\n",
              "      <th>...</th>\n",
              "      <td>...</td>\n",
              "      <td>...</td>\n",
              "      <td>...</td>\n",
              "    </tr>\n",
              "    <tr>\n",
              "      <th>1765</th>\n",
              "      <td>27982</td>\n",
              "      <td>[119137, 92242, 146499, 273403, 424816, 692119...</td>\n",
              "      <td>[회상, 김현식, 레전드, 휘트니휴스턴, 올디스, 2000년대초반, 추억의명곡, 콤...</td>\n",
              "    </tr>\n",
              "    <tr>\n",
              "      <th>1766</th>\n",
              "      <td>123364</td>\n",
              "      <td>[594392, 200689, 83366, 461893, 360695, 308541...</td>\n",
              "      <td>[설렘, 연애, 썸, 연인, 고백, 커플, 연애세포, 두근두근, 달달한, 달콤]</td>\n",
              "    </tr>\n",
              "    <tr>\n",
              "      <th>1767</th>\n",
              "      <td>61817</td>\n",
              "      <td>[512208, 222796, 252682, 97765, 503187, 293083...</td>\n",
              "      <td>[LONMusic, 뉴에이지모음, 론뮤직, 이지리스닝인기클래식, 발레음악, 잔잔한클...</td>\n",
              "    </tr>\n",
              "    <tr>\n",
              "      <th>1768</th>\n",
              "      <td>59912</td>\n",
              "      <td>[21008, 473011, 92242, 680624, 260932, 210612,...</td>\n",
              "      <td>[프렌치팝, 프렌치, chanson, 이탈리아, 샹송, 칸초네, 독일, 포르투갈, ...</td>\n",
              "    </tr>\n",
              "    <tr>\n",
              "      <th>1769</th>\n",
              "      <td>46090</td>\n",
              "      <td>[192464, 268453, 279587, 356293, 398528, 23022...</td>\n",
              "      <td>[힐링, 첫날, 주말저녁, 생각을, 뉴에이지모음, 이지리스닝인기클래식, Yevely...</td>\n",
              "    </tr>\n",
              "  </tbody>\n",
              "</table>\n",
              "<p>1770 rows × 3 columns</p>\n",
              "</div>"
            ],
            "text/plain": [
              "          id  ...                                     predicted_tags\n",
              "0      88862  ...  [애창곡, 노래교실, 18번, 고음불가, 회식, 해소, 혼코노, 코인노래방, 코노,...\n",
              "1     133975  ...        [설렘, 봄, 설탕, 봄노래, 달달, 벗꽃, 달달구리, 벚꽃, 연애, 봄내음]\n",
              "2     135323  ...  [뉴에이지모음, Jazzpiano, 봄카페, 트리오, 피아노재즈, 책읽기, LONM...\n",
              "3      43130  ...  [봄카페, 관현악, 이지리스닝인기클래식, 연주곡, 피아노클래식, 뉴에이지모음, 독주...\n",
              "4     113806  ...  [밤, 감성, 새벽감성, 잠, 주말저녁, 잔잔한, 잠못드는밤에, 우울한노래, 첫날, 감]\n",
              "...      ...  ...                                                ...\n",
              "1765   27982  ...  [회상, 김현식, 레전드, 휘트니휴스턴, 올디스, 2000년대초반, 추억의명곡, 콤...\n",
              "1766  123364  ...       [설렘, 연애, 썸, 연인, 고백, 커플, 연애세포, 두근두근, 달달한, 달콤]\n",
              "1767   61817  ...  [LONMusic, 뉴에이지모음, 론뮤직, 이지리스닝인기클래식, 발레음악, 잔잔한클...\n",
              "1768   59912  ...  [프렌치팝, 프렌치, chanson, 이탈리아, 샹송, 칸초네, 독일, 포르투갈, ...\n",
              "1769   46090  ...  [힐링, 첫날, 주말저녁, 생각을, 뉴에이지모음, 이지리스닝인기클래식, Yevely...\n",
              "\n",
              "[1770 rows x 3 columns]"
            ]
          },
          "metadata": {
            "tags": []
          },
          "execution_count": 10
        }
      ]
    },
    {
      "cell_type": "code",
      "metadata": {
        "id": "EudmKm3NlNzS",
        "colab_type": "code",
        "colab": {
          "base_uri": "https://localhost:8080/",
          "height": 86
        },
        "outputId": "072200b2-5660-49a7-cec9-ea85993b258e"
      },
      "source": [
        "tag_yu_index = []\n",
        "tag_no_index = []\n",
        "\n",
        "for i in range(len(test['tags'])):\n",
        "  if len(test['tags'][i]) != 0:\n",
        "    tag_yu_index.append(i)\n",
        "  else:\n",
        "    tag_no_index.append(i)\n",
        "\n",
        "\n",
        "test_tag_yu = test.loc[tag_yu_index,:]\n",
        "test_tag_yu = test_tag_yu.reset_index()\n",
        "test_tag_yu  #태그만 있는 애들\n",
        "\n",
        "index_list_request = []\n",
        "\n",
        "for i in range(5422):\n",
        "  if len(test_tag_yu['plylst_title'][i]) != 0:\n",
        "      index_list_request.append(i)\n",
        "\n",
        "\n",
        "test_request = test_tag_yu.loc[index_list_request,:]\n",
        "id_request = test_request['id'].tolist()\n",
        "id_request #플레이리스트 제목 있고, 태그 있는 애들 id\n",
        "\n",
        "\n",
        "drop_len = len(id_request)\n",
        "\n",
        "S_len_1 = S_result_1.shape[0]\n",
        "\n",
        "for i in range(S_len_1) :\n",
        "  for j in range(drop_len) :\n",
        "    if S_result_1['id'][i] == id_request[j] :\n",
        "      S_result_1['predicted_tags'][i] = []"
      ],
      "execution_count": null,
      "outputs": [
        {
          "output_type": "stream",
          "text": [
            "/usr/local/lib/python3.6/dist-packages/ipykernel_launcher.py:42: SettingWithCopyWarning: \n",
            "A value is trying to be set on a copy of a slice from a DataFrame\n",
            "\n",
            "See the caveats in the documentation: https://pandas.pydata.org/pandas-docs/stable/user_guide/indexing.html#returning-a-view-versus-a-copy\n"
          ],
          "name": "stderr"
        }
      ]
    },
    {
      "cell_type": "code",
      "metadata": {
        "id": "tGj6FFmcxwNZ",
        "colab_type": "code",
        "colab": {
          "base_uri": "https://localhost:8080/",
          "height": 524
        },
        "outputId": "945a0026-fddd-44e0-e189-7aef8fb50ea5"
      },
      "source": [
        "# (1)-2(곡)(16)\n",
        "S_result_2 = pd.read_json('S_result_2.json')\n",
        "S_result_2  # 16"
      ],
      "execution_count": null,
      "outputs": [
        {
          "output_type": "execute_result",
          "data": {
            "text/html": [
              "<div>\n",
              "<style scoped>\n",
              "    .dataframe tbody tr th:only-of-type {\n",
              "        vertical-align: middle;\n",
              "    }\n",
              "\n",
              "    .dataframe tbody tr th {\n",
              "        vertical-align: top;\n",
              "    }\n",
              "\n",
              "    .dataframe thead th {\n",
              "        text-align: right;\n",
              "    }\n",
              "</style>\n",
              "<table border=\"1\" class=\"dataframe\">\n",
              "  <thead>\n",
              "    <tr style=\"text-align: right;\">\n",
              "      <th></th>\n",
              "      <th>id</th>\n",
              "      <th>predicted_tag</th>\n",
              "      <th>predicted_songs</th>\n",
              "    </tr>\n",
              "  </thead>\n",
              "  <tbody>\n",
              "    <tr>\n",
              "      <th>0</th>\n",
              "      <td>81933</td>\n",
              "      <td>[휴식, 드라이브, 힐링, 스트레스, Pop, 운동, 저녁, 주말, 분위기, 트렌디]</td>\n",
              "      <td>[596034, 192464, 80982, 141340, 193627, 75687,...</td>\n",
              "    </tr>\n",
              "    <tr>\n",
              "      <th>1</th>\n",
              "      <td>139673</td>\n",
              "      <td>[힙합, 알앤비, 랩, 소울, 락, 매장음악, RnB, 그루브, 트렌디, 가을]</td>\n",
              "      <td>[471600, 433861, 44791, 399302, 71143, 112641,...</td>\n",
              "    </tr>\n",
              "    <tr>\n",
              "      <th>2</th>\n",
              "      <td>119362</td>\n",
              "      <td>[신나는, 여행, 댄스, 스트레스, 여름, 운동, 드라이브, EDM, 클럽, 산책]</td>\n",
              "      <td>[141340, 385211, 137263, 205597, 63586, 634913...</td>\n",
              "    </tr>\n",
              "    <tr>\n",
              "      <th>3</th>\n",
              "      <td>129084</td>\n",
              "      <td>[알앤비, 소울, 락, 가을, RnB, 그루브, 재즈, 트렌디, 카페, 분위기]</td>\n",
              "      <td>[433861, 44791, 71143, 471600, 495675, 632483,...</td>\n",
              "    </tr>\n",
              "    <tr>\n",
              "      <th>4</th>\n",
              "      <td>7713</td>\n",
              "      <td>[힙합, 랩, 알앤비, HipHop, 국내힙합, 트렌디, 감성힙합, 외힙, 클럽, ...</td>\n",
              "      <td>[54819, 258185, 675391, 471600, 199372, 178167...</td>\n",
              "    </tr>\n",
              "    <tr>\n",
              "      <th>5</th>\n",
              "      <td>76637</td>\n",
              "      <td>[힙합, 랩, 겨울, HipHop, 국내힙합, 외힙, 감성힙합, 국힙, 외국힙합, ...</td>\n",
              "      <td>[54819, 375132, 178167, 258185, 675391, 458223...</td>\n",
              "    </tr>\n",
              "    <tr>\n",
              "      <th>6</th>\n",
              "      <td>106582</td>\n",
              "      <td>[감성, 신나는, 잔잔한, 여행, 카페, 가을, 댄스, 여름, 스트레스, 알앤비]</td>\n",
              "      <td>[141340, 80982, 398528, 192464, 279587, 88647,...</td>\n",
              "    </tr>\n",
              "    <tr>\n",
              "      <th>7</th>\n",
              "      <td>119817</td>\n",
              "      <td>[알앤비, 소울, 락, 가을, 힙합, RnB, 그루브, 카페, 트렌디, 분위기]</td>\n",
              "      <td>[471600, 433861, 44791, 71143, 185713, 495675,...</td>\n",
              "    </tr>\n",
              "    <tr>\n",
              "      <th>8</th>\n",
              "      <td>8572</td>\n",
              "      <td>[힙합, 랩, 알앤비, HipHop, 국내힙합, 트렌디, 감성힙합, 외힙, 클럽, ...</td>\n",
              "      <td>[54819, 258185, 675391, 471600, 199372, 178167...</td>\n",
              "    </tr>\n",
              "    <tr>\n",
              "      <th>9</th>\n",
              "      <td>37362</td>\n",
              "      <td>[알앤비, 소울, 락, 가을, 힙합, RnB, 그루브, 카페, 트렌디, 분위기]</td>\n",
              "      <td>[471600, 433861, 44791, 71143, 185713, 495675,...</td>\n",
              "    </tr>\n",
              "    <tr>\n",
              "      <th>10</th>\n",
              "      <td>68319</td>\n",
              "      <td>[팝, 락, 알앤비, 겨울, 인디, 소울, 신나는, Pop, 여행, 재즈]</td>\n",
              "      <td>[327409, 115684, 88647, 81281, 190356, 299615,...</td>\n",
              "    </tr>\n",
              "    <tr>\n",
              "      <th>11</th>\n",
              "      <td>90892</td>\n",
              "      <td>[새벽, 밤, 사랑, 설렘, 봄, 까페, 힐링, 매장음악, 달달, 고백]</td>\n",
              "      <td>[192464, 268453, 279587, 596034, 266121, 14727...</td>\n",
              "    </tr>\n",
              "    <tr>\n",
              "      <th>12</th>\n",
              "      <td>102824</td>\n",
              "      <td>[매장음악, 까페, 카페, 봄, 설렘, 취향저격, 여행, 감성, 사랑, 인디]</td>\n",
              "      <td>[192464, 594392, 279587, 356293, 147273, 57760...</td>\n",
              "    </tr>\n",
              "    <tr>\n",
              "      <th>13</th>\n",
              "      <td>97369</td>\n",
              "      <td>[인디, 매장음악, 카페, 여행, 산책, 사랑, 설렘, 봄, 신나는, 여름]</td>\n",
              "      <td>[141340, 594392, 633847, 268453, 632573, 39026...</td>\n",
              "    </tr>\n",
              "    <tr>\n",
              "      <th>14</th>\n",
              "      <td>42898</td>\n",
              "      <td>[사랑, 설렘, 봄, 감성, 인디, 카페, 매장음악, 달달, 연애, 까페]</td>\n",
              "      <td>[594392, 308541, 147273, 83366, 192464, 76976,...</td>\n",
              "    </tr>\n",
              "    <tr>\n",
              "      <th>15</th>\n",
              "      <td>54496</td>\n",
              "      <td>[기분전환, 스트레스, 알앤비, 소울, 신나는, 락, 힙합, 트렌디, 취향저격, Pop]</td>\n",
              "      <td>[471600, 327409, 128273, 195519, 396642, 65657...</td>\n",
              "    </tr>\n",
              "  </tbody>\n",
              "</table>\n",
              "</div>"
            ],
            "text/plain": [
              "        id  ...                                    predicted_songs\n",
              "0    81933  ...  [596034, 192464, 80982, 141340, 193627, 75687,...\n",
              "1   139673  ...  [471600, 433861, 44791, 399302, 71143, 112641,...\n",
              "2   119362  ...  [141340, 385211, 137263, 205597, 63586, 634913...\n",
              "3   129084  ...  [433861, 44791, 71143, 471600, 495675, 632483,...\n",
              "4     7713  ...  [54819, 258185, 675391, 471600, 199372, 178167...\n",
              "5    76637  ...  [54819, 375132, 178167, 258185, 675391, 458223...\n",
              "6   106582  ...  [141340, 80982, 398528, 192464, 279587, 88647,...\n",
              "7   119817  ...  [471600, 433861, 44791, 71143, 185713, 495675,...\n",
              "8     8572  ...  [54819, 258185, 675391, 471600, 199372, 178167...\n",
              "9    37362  ...  [471600, 433861, 44791, 71143, 185713, 495675,...\n",
              "10   68319  ...  [327409, 115684, 88647, 81281, 190356, 299615,...\n",
              "11   90892  ...  [192464, 268453, 279587, 596034, 266121, 14727...\n",
              "12  102824  ...  [192464, 594392, 279587, 356293, 147273, 57760...\n",
              "13   97369  ...  [141340, 594392, 633847, 268453, 632573, 39026...\n",
              "14   42898  ...  [594392, 308541, 147273, 83366, 192464, 76976,...\n",
              "15   54496  ...  [471600, 327409, 128273, 195519, 396642, 65657...\n",
              "\n",
              "[16 rows x 3 columns]"
            ]
          },
          "metadata": {
            "tags": []
          },
          "execution_count": 16
        }
      ]
    },
    {
      "cell_type": "code",
      "metadata": {
        "id": "a-xyUXlvm8d0",
        "colab_type": "code",
        "colab": {}
      },
      "source": [
        "# empty\n",
        "\n",
        "song_empty_fill = pd.read_json('song_empty_fill.json')\n",
        "tag_empty_fill = pd.read_json('tag_empty_fill.json')"
      ],
      "execution_count": null,
      "outputs": []
    },
    {
      "cell_type": "code",
      "metadata": {
        "id": "lokkvm_f39Pm",
        "colab_type": "code",
        "colab": {}
      },
      "source": [
        "song_empty_fill = song_empty_fill[0].tolist()"
      ],
      "execution_count": null,
      "outputs": []
    },
    {
      "cell_type": "code",
      "metadata": {
        "id": "Fqp7v-Gy4wEj",
        "colab_type": "code",
        "colab": {}
      },
      "source": [
        "tag_empty_fill = tag_empty_fill[0].tolist()"
      ],
      "execution_count": null,
      "outputs": []
    },
    {
      "cell_type": "markdown",
      "metadata": {
        "id": "uxDbo-qAzYlW",
        "colab_type": "text"
      },
      "source": [
        "# 결과 데이터프레임(test_result)"
      ]
    },
    {
      "cell_type": "code",
      "metadata": {
        "id": "2IRXbs2WzxIM",
        "colab_type": "code",
        "colab": {
          "base_uri": "https://localhost:8080/",
          "height": 404
        },
        "outputId": "a3a6273d-d8c6-44d5-a46f-886548a6948f"
      },
      "source": [
        "# Initialize\n",
        "\n",
        "test_result = pd.DataFrame(columns = [0,1,2])\n",
        "\n",
        "test_id = test.id.tolist()\n",
        "length = len(test_id)\n",
        "\n",
        "for i in range(length):\n",
        "  new_row = pd.DataFrame([test_id[i], [], []]).T\n",
        "  test_result = test_result.append(new_row, ignore_index = True)\n",
        "\n",
        "test_result.columns = ['id', 'predicted_songs', 'predicted_tags']\n",
        "\n",
        "test_result"
      ],
      "execution_count": null,
      "outputs": [
        {
          "output_type": "execute_result",
          "data": {
            "text/html": [
              "<div>\n",
              "<style scoped>\n",
              "    .dataframe tbody tr th:only-of-type {\n",
              "        vertical-align: middle;\n",
              "    }\n",
              "\n",
              "    .dataframe tbody tr th {\n",
              "        vertical-align: top;\n",
              "    }\n",
              "\n",
              "    .dataframe thead th {\n",
              "        text-align: right;\n",
              "    }\n",
              "</style>\n",
              "<table border=\"1\" class=\"dataframe\">\n",
              "  <thead>\n",
              "    <tr style=\"text-align: right;\">\n",
              "      <th></th>\n",
              "      <th>id</th>\n",
              "      <th>predicted_songs</th>\n",
              "      <th>predicted_tags</th>\n",
              "    </tr>\n",
              "  </thead>\n",
              "  <tbody>\n",
              "    <tr>\n",
              "      <th>0</th>\n",
              "      <td>70107</td>\n",
              "      <td>[]</td>\n",
              "      <td>[]</td>\n",
              "    </tr>\n",
              "    <tr>\n",
              "      <th>1</th>\n",
              "      <td>7461</td>\n",
              "      <td>[]</td>\n",
              "      <td>[]</td>\n",
              "    </tr>\n",
              "    <tr>\n",
              "      <th>2</th>\n",
              "      <td>90348</td>\n",
              "      <td>[]</td>\n",
              "      <td>[]</td>\n",
              "    </tr>\n",
              "    <tr>\n",
              "      <th>3</th>\n",
              "      <td>58617</td>\n",
              "      <td>[]</td>\n",
              "      <td>[]</td>\n",
              "    </tr>\n",
              "    <tr>\n",
              "      <th>4</th>\n",
              "      <td>102395</td>\n",
              "      <td>[]</td>\n",
              "      <td>[]</td>\n",
              "    </tr>\n",
              "    <tr>\n",
              "      <th>...</th>\n",
              "      <td>...</td>\n",
              "      <td>...</td>\n",
              "      <td>...</td>\n",
              "    </tr>\n",
              "    <tr>\n",
              "      <th>10735</th>\n",
              "      <td>137930</td>\n",
              "      <td>[]</td>\n",
              "      <td>[]</td>\n",
              "    </tr>\n",
              "    <tr>\n",
              "      <th>10736</th>\n",
              "      <td>936</td>\n",
              "      <td>[]</td>\n",
              "      <td>[]</td>\n",
              "    </tr>\n",
              "    <tr>\n",
              "      <th>10737</th>\n",
              "      <td>110589</td>\n",
              "      <td>[]</td>\n",
              "      <td>[]</td>\n",
              "    </tr>\n",
              "    <tr>\n",
              "      <th>10738</th>\n",
              "      <td>2605</td>\n",
              "      <td>[]</td>\n",
              "      <td>[]</td>\n",
              "    </tr>\n",
              "    <tr>\n",
              "      <th>10739</th>\n",
              "      <td>126651</td>\n",
              "      <td>[]</td>\n",
              "      <td>[]</td>\n",
              "    </tr>\n",
              "  </tbody>\n",
              "</table>\n",
              "<p>10740 rows × 3 columns</p>\n",
              "</div>"
            ],
            "text/plain": [
              "           id predicted_songs predicted_tags\n",
              "0       70107              []             []\n",
              "1        7461              []             []\n",
              "2       90348              []             []\n",
              "3       58617              []             []\n",
              "4      102395              []             []\n",
              "...       ...             ...            ...\n",
              "10735  137930              []             []\n",
              "10736     936              []             []\n",
              "10737  110589              []             []\n",
              "10738    2605              []             []\n",
              "10739  126651              []             []\n",
              "\n",
              "[10740 rows x 3 columns]"
            ]
          },
          "metadata": {
            "tags": []
          },
          "execution_count": 39
        }
      ]
    },
    {
      "cell_type": "code",
      "metadata": {
        "id": "DWEeCNcFOiEB",
        "colab_type": "code",
        "colab": {}
      },
      "source": [
        "test_id = test_result['id'].tolist()\n",
        "test_len = test_result.shape[0]"
      ],
      "execution_count": null,
      "outputs": []
    },
    {
      "cell_type": "code",
      "metadata": {
        "id": "NwVabw002MzS",
        "colab_type": "code",
        "colab": {}
      },
      "source": [
        "# extend 시도\n",
        "### test_result 통합 코드 ###\n",
        "\n",
        "\n",
        "# 1. Tag2vec 모델\n",
        "# (2)(태그)(1232), (6)(태그)(4190)\n",
        "H_id = H_result['id'].tolist()\n",
        "H_len = H_result.shape[0]\n",
        "\n",
        "\n",
        "# 2. MF 모델\n",
        "# (5)(곡)(4190)\n",
        "J_id_1 = J_result_1['id'].tolist()\n",
        "J_len_1 = J_result_1.shape[0]\n",
        "\n",
        "# (9)(태그)(154)\n",
        "J_id_2 = J_result_2['id'].tolist()\n",
        "J_len_2 = J_result_2.shape[0]\n",
        "\n",
        "# (8)-2(태그)(4118)\n",
        "J_id_3 = J_result_3['id'].tolist()\n",
        "J_len_3 = J_result_3.shape[0]\n",
        "\n",
        "\n",
        "# 3. Train2vec 모델\n",
        "# (1)-1,(3),(4)(곡+태그)(1770)\n",
        "S_id_1 = S_result_1['id'].tolist()\n",
        "S_len_1 = S_result_1.shape[0]\n",
        "\n",
        "# (1)-2(곡)(15)\n",
        "S_id_2 = S_result_2['id'].tolist()\n",
        "S_len_2 = S_result_2.shape[0]\n",
        "\n",
        "\n",
        "for a in range(test_len) :\n",
        "  for c in range(J_len_1) :\n",
        "    if test_id[a] == J_id_1[c] :\n",
        "      test_result['predicted_songs'][a].extend(J_result_1['predicted_songs'][c])\n",
        "  for d in range(J_len_2) :\n",
        "    if test_id[a] == J_id_2[d] :\n",
        "      test_result['predicted_tags'][a].extend(J_result_2['predicted_tags'][d])\n",
        "  for e in range(J_len_3) :\n",
        "    if test_id[a] == J_id_3[e] :\n",
        "      test_result['predicted_tags'][a].extend(J_result_3['predicted_tags'][e])\n",
        "  for f in range(S_len_1) :\n",
        "    if test_id[a] == S_id_1[f] :\n",
        "      test_result['predicted_songs'][a].extend(S_result_1['predicted_songs'][f])\n",
        "      test_result['predicted_tags'][a].extend(S_result_1['predicted_tags'][f])\n",
        "  for g in range(S_len_2) :\n",
        "    if test_id[a] == S_id_2[g] :\n",
        "      test_result['predicted_songs'][a].extend(S_result_2['predicted_songs'][g])\n",
        "  for b in range(H_len) :\n",
        "    if test_id[a] == H_id[b] :\n",
        "      test_result['predicted_tags'][a].extend(H_result['predicted_tags'][b])"
      ],
      "execution_count": null,
      "outputs": []
    },
    {
      "cell_type": "code",
      "metadata": {
        "id": "ZVpJcoFNnG72",
        "colab_type": "code",
        "colab": {}
      },
      "source": [
        "# empty fill\n",
        "  \n",
        "for i in range(test_len) :\n",
        "  if len(test_result['predicted_songs'][i]) == 0 :\n",
        "    test_result['predicted_songs'][i] = song_empty_fill\n",
        "  if len(test_result['predicted_tags'][i]) == 0 :\n",
        "    test_result['predicted_tags'][i] = tag_empty_fill"
      ],
      "execution_count": null,
      "outputs": []
    },
    {
      "cell_type": "code",
      "metadata": {
        "id": "5_Tt0koDpJER",
        "colab_type": "code",
        "colab": {
          "base_uri": "https://localhost:8080/",
          "height": 34
        },
        "outputId": "a73e3c22-2ae3-45da-8f08-b98580602602"
      },
      "source": [
        "### 빈 곳 있는지 확인 ###\n",
        "\n",
        "still_empty = []\n",
        "for i in range(test_len) :\n",
        "  if len(test_result['predicted_songs'][i]) == 0 or len(test_result['predicted_tags'][i]) == 0 :\n",
        "    still_empty.append(i)\n",
        "\n",
        "still_empty"
      ],
      "execution_count": null,
      "outputs": [
        {
          "output_type": "execute_result",
          "data": {
            "text/plain": [
              "[]"
            ]
          },
          "metadata": {
            "tags": []
          },
          "execution_count": 59
        }
      ]
    },
    {
      "cell_type": "code",
      "metadata": {
        "id": "xOgfK4LJkwAQ",
        "colab_type": "code",
        "colab": {
          "base_uri": "https://localhost:8080/",
          "height": 52
        },
        "outputId": "ade2340e-4113-4e9e-8909-afbe5fa17e6b"
      },
      "source": [
        "### 개수 확인 ###\n",
        "\n",
        "song_num = []\n",
        "tag_num = []\n",
        "\n",
        "for i in range(test_len) :\n",
        "  song_len = len(test_result['predicted_songs'][i])\n",
        "  tag_len = len(test_result['predicted_tags'][i])\n",
        "  if song_len != 100 :\n",
        "    song_num.append(song_len)\n",
        "  if tag_len != 10 :\n",
        "    tag_num.append(tag_len)\n",
        "\n",
        "print(song_num)\n",
        "print(tag_num)"
      ],
      "execution_count": null,
      "outputs": [
        {
          "output_type": "stream",
          "text": [
            "[]\n",
            "[]\n"
          ],
          "name": "stdout"
        }
      ]
    },
    {
      "cell_type": "code",
      "metadata": {
        "id": "GkfVbhXE5ja7",
        "colab_type": "code",
        "colab": {}
      },
      "source": [
        "id = test_result['id']\n",
        "id = id.tolist()\n",
        "songs = test_result['predicted_songs']\n",
        "tags = test_result['predicted_tags']\n",
        "\n",
        "\n",
        "import json\n",
        "\n",
        "result = []\n",
        "\n",
        "length = test_result.shape[0]\n",
        "for i in range(length):\n",
        "  dic = {'id': id[i], 'songs': songs[i], 'tags': tags[i]}\n",
        "  dic = dic.copy()\n",
        "  result.append(dic)\n",
        "\n",
        "with open('results.json', 'w') as json_file:\n",
        "  json.dump(result, json_file, ensure_ascii = False)"
      ],
      "execution_count": null,
      "outputs": []
    }
  ]
}