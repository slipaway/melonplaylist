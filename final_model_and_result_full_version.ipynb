{
  "nbformat": 4,
  "nbformat_minor": 0,
  "metadata": {
    "colab": {
      "name": "final model and result - full version.ipynb",
      "provenance": [],
      "collapsed_sections": [],
      "authorship_tag": "ABX9TyMOHYiWkGUpR74mTR3703/n",
      "include_colab_link": true
    },
    "kernelspec": {
      "name": "python3",
      "display_name": "Python 3"
    },
    "widgets": {
      "application/vnd.jupyter.widget-state+json": {
        "748ac15f688c47b08185b41301fdc8df": {
          "model_module": "@jupyter-widgets/controls",
          "model_name": "HBoxModel",
          "state": {
            "_view_name": "HBoxView",
            "_dom_classes": [],
            "_model_name": "HBoxModel",
            "_view_module": "@jupyter-widgets/controls",
            "_model_module_version": "1.5.0",
            "_view_count": null,
            "_view_module_version": "1.5.0",
            "box_style": "",
            "layout": "IPY_MODEL_fc01ba12019c4800a282b7b3636bb517",
            "_model_module": "@jupyter-widgets/controls",
            "children": [
              "IPY_MODEL_a4d5d69698d74a2184420e17a9b9123b",
              "IPY_MODEL_cbf6640836c3489eb044779570795e64"
            ]
          }
        },
        "fc01ba12019c4800a282b7b3636bb517": {
          "model_module": "@jupyter-widgets/base",
          "model_name": "LayoutModel",
          "state": {
            "_view_name": "LayoutView",
            "grid_template_rows": null,
            "right": null,
            "justify_content": null,
            "_view_module": "@jupyter-widgets/base",
            "overflow": null,
            "_model_module_version": "1.2.0",
            "_view_count": null,
            "flex_flow": null,
            "width": null,
            "min_width": null,
            "border": null,
            "align_items": null,
            "bottom": null,
            "_model_module": "@jupyter-widgets/base",
            "top": null,
            "grid_column": null,
            "overflow_y": null,
            "overflow_x": null,
            "grid_auto_flow": null,
            "grid_area": null,
            "grid_template_columns": null,
            "flex": null,
            "_model_name": "LayoutModel",
            "justify_items": null,
            "grid_row": null,
            "max_height": null,
            "align_content": null,
            "visibility": null,
            "align_self": null,
            "height": null,
            "min_height": null,
            "padding": null,
            "grid_auto_rows": null,
            "grid_gap": null,
            "max_width": null,
            "order": null,
            "_view_module_version": "1.2.0",
            "grid_template_areas": null,
            "object_position": null,
            "object_fit": null,
            "grid_auto_columns": null,
            "margin": null,
            "display": null,
            "left": null
          }
        },
        "a4d5d69698d74a2184420e17a9b9123b": {
          "model_module": "@jupyter-widgets/controls",
          "model_name": "FloatProgressModel",
          "state": {
            "_view_name": "ProgressView",
            "style": "IPY_MODEL_cd6c1f738c27449e9d25b879c9b4b04a",
            "_dom_classes": [],
            "description": "100%",
            "_model_name": "FloatProgressModel",
            "bar_style": "success",
            "max": 20,
            "_view_module": "@jupyter-widgets/controls",
            "_model_module_version": "1.5.0",
            "value": 20,
            "_view_count": null,
            "_view_module_version": "1.5.0",
            "orientation": "horizontal",
            "min": 0,
            "description_tooltip": null,
            "_model_module": "@jupyter-widgets/controls",
            "layout": "IPY_MODEL_d6af5336c2334acd9e12c97fa9d15efc"
          }
        },
        "cbf6640836c3489eb044779570795e64": {
          "model_module": "@jupyter-widgets/controls",
          "model_name": "HTMLModel",
          "state": {
            "_view_name": "HTMLView",
            "style": "IPY_MODEL_2a81c6010629418f903190dfc0f800af",
            "_dom_classes": [],
            "description": "",
            "_model_name": "HTMLModel",
            "placeholder": "​",
            "_view_module": "@jupyter-widgets/controls",
            "_model_module_version": "1.5.0",
            "value": " 20/20 [12:06&lt;00:00, 36.30s/it]",
            "_view_count": null,
            "_view_module_version": "1.5.0",
            "description_tooltip": null,
            "_model_module": "@jupyter-widgets/controls",
            "layout": "IPY_MODEL_42767d977a91451e8e999cb66c8817f2"
          }
        },
        "cd6c1f738c27449e9d25b879c9b4b04a": {
          "model_module": "@jupyter-widgets/controls",
          "model_name": "ProgressStyleModel",
          "state": {
            "_view_name": "StyleView",
            "_model_name": "ProgressStyleModel",
            "description_width": "initial",
            "_view_module": "@jupyter-widgets/base",
            "_model_module_version": "1.5.0",
            "_view_count": null,
            "_view_module_version": "1.2.0",
            "bar_color": null,
            "_model_module": "@jupyter-widgets/controls"
          }
        },
        "d6af5336c2334acd9e12c97fa9d15efc": {
          "model_module": "@jupyter-widgets/base",
          "model_name": "LayoutModel",
          "state": {
            "_view_name": "LayoutView",
            "grid_template_rows": null,
            "right": null,
            "justify_content": null,
            "_view_module": "@jupyter-widgets/base",
            "overflow": null,
            "_model_module_version": "1.2.0",
            "_view_count": null,
            "flex_flow": null,
            "width": null,
            "min_width": null,
            "border": null,
            "align_items": null,
            "bottom": null,
            "_model_module": "@jupyter-widgets/base",
            "top": null,
            "grid_column": null,
            "overflow_y": null,
            "overflow_x": null,
            "grid_auto_flow": null,
            "grid_area": null,
            "grid_template_columns": null,
            "flex": null,
            "_model_name": "LayoutModel",
            "justify_items": null,
            "grid_row": null,
            "max_height": null,
            "align_content": null,
            "visibility": null,
            "align_self": null,
            "height": null,
            "min_height": null,
            "padding": null,
            "grid_auto_rows": null,
            "grid_gap": null,
            "max_width": null,
            "order": null,
            "_view_module_version": "1.2.0",
            "grid_template_areas": null,
            "object_position": null,
            "object_fit": null,
            "grid_auto_columns": null,
            "margin": null,
            "display": null,
            "left": null
          }
        },
        "2a81c6010629418f903190dfc0f800af": {
          "model_module": "@jupyter-widgets/controls",
          "model_name": "DescriptionStyleModel",
          "state": {
            "_view_name": "StyleView",
            "_model_name": "DescriptionStyleModel",
            "description_width": "",
            "_view_module": "@jupyter-widgets/base",
            "_model_module_version": "1.5.0",
            "_view_count": null,
            "_view_module_version": "1.2.0",
            "_model_module": "@jupyter-widgets/controls"
          }
        },
        "42767d977a91451e8e999cb66c8817f2": {
          "model_module": "@jupyter-widgets/base",
          "model_name": "LayoutModel",
          "state": {
            "_view_name": "LayoutView",
            "grid_template_rows": null,
            "right": null,
            "justify_content": null,
            "_view_module": "@jupyter-widgets/base",
            "overflow": null,
            "_model_module_version": "1.2.0",
            "_view_count": null,
            "flex_flow": null,
            "width": null,
            "min_width": null,
            "border": null,
            "align_items": null,
            "bottom": null,
            "_model_module": "@jupyter-widgets/base",
            "top": null,
            "grid_column": null,
            "overflow_y": null,
            "overflow_x": null,
            "grid_auto_flow": null,
            "grid_area": null,
            "grid_template_columns": null,
            "flex": null,
            "_model_name": "LayoutModel",
            "justify_items": null,
            "grid_row": null,
            "max_height": null,
            "align_content": null,
            "visibility": null,
            "align_self": null,
            "height": null,
            "min_height": null,
            "padding": null,
            "grid_auto_rows": null,
            "grid_gap": null,
            "max_width": null,
            "order": null,
            "_view_module_version": "1.2.0",
            "grid_template_areas": null,
            "object_position": null,
            "object_fit": null,
            "grid_auto_columns": null,
            "margin": null,
            "display": null,
            "left": null
          }
        },
        "67d3b3a7c9ea4ac58310de81acbd706e": {
          "model_module": "@jupyter-widgets/controls",
          "model_name": "HBoxModel",
          "state": {
            "_view_name": "HBoxView",
            "_dom_classes": [],
            "_model_name": "HBoxModel",
            "_view_module": "@jupyter-widgets/controls",
            "_model_module_version": "1.5.0",
            "_view_count": null,
            "_view_module_version": "1.5.0",
            "box_style": "",
            "layout": "IPY_MODEL_8b0c3d01396f4fd0a19e951ff3f4f778",
            "_model_module": "@jupyter-widgets/controls",
            "children": [
              "IPY_MODEL_96278528ed5c42e18b530ca37e11c572",
              "IPY_MODEL_c7ba6560fe7c4d4bb863ba77036e0e8f"
            ]
          }
        },
        "8b0c3d01396f4fd0a19e951ff3f4f778": {
          "model_module": "@jupyter-widgets/base",
          "model_name": "LayoutModel",
          "state": {
            "_view_name": "LayoutView",
            "grid_template_rows": null,
            "right": null,
            "justify_content": null,
            "_view_module": "@jupyter-widgets/base",
            "overflow": null,
            "_model_module_version": "1.2.0",
            "_view_count": null,
            "flex_flow": null,
            "width": null,
            "min_width": null,
            "border": null,
            "align_items": null,
            "bottom": null,
            "_model_module": "@jupyter-widgets/base",
            "top": null,
            "grid_column": null,
            "overflow_y": null,
            "overflow_x": null,
            "grid_auto_flow": null,
            "grid_area": null,
            "grid_template_columns": null,
            "flex": null,
            "_model_name": "LayoutModel",
            "justify_items": null,
            "grid_row": null,
            "max_height": null,
            "align_content": null,
            "visibility": null,
            "align_self": null,
            "height": null,
            "min_height": null,
            "padding": null,
            "grid_auto_rows": null,
            "grid_gap": null,
            "max_width": null,
            "order": null,
            "_view_module_version": "1.2.0",
            "grid_template_areas": null,
            "object_position": null,
            "object_fit": null,
            "grid_auto_columns": null,
            "margin": null,
            "display": null,
            "left": null
          }
        },
        "96278528ed5c42e18b530ca37e11c572": {
          "model_module": "@jupyter-widgets/controls",
          "model_name": "FloatProgressModel",
          "state": {
            "_view_name": "ProgressView",
            "style": "IPY_MODEL_836b07f7dc6c4915a293d00b915ad5b4",
            "_dom_classes": [],
            "description": "100%",
            "_model_name": "FloatProgressModel",
            "bar_style": "success",
            "max": 20,
            "_view_module": "@jupyter-widgets/controls",
            "_model_module_version": "1.5.0",
            "value": 20,
            "_view_count": null,
            "_view_module_version": "1.5.0",
            "orientation": "horizontal",
            "min": 0,
            "description_tooltip": null,
            "_model_module": "@jupyter-widgets/controls",
            "layout": "IPY_MODEL_904032b8c93a43849fb6713304bb720c"
          }
        },
        "c7ba6560fe7c4d4bb863ba77036e0e8f": {
          "model_module": "@jupyter-widgets/controls",
          "model_name": "HTMLModel",
          "state": {
            "_view_name": "HTMLView",
            "style": "IPY_MODEL_06682d6169144c3c8ec2d830e9c65ff6",
            "_dom_classes": [],
            "description": "",
            "_model_name": "HTMLModel",
            "placeholder": "​",
            "_view_module": "@jupyter-widgets/controls",
            "_model_module_version": "1.5.0",
            "value": " 20/20 [01:43&lt;00:00,  5.16s/it]",
            "_view_count": null,
            "_view_module_version": "1.5.0",
            "description_tooltip": null,
            "_model_module": "@jupyter-widgets/controls",
            "layout": "IPY_MODEL_c67f38209b9e4371bbbdf4bf4f347962"
          }
        },
        "836b07f7dc6c4915a293d00b915ad5b4": {
          "model_module": "@jupyter-widgets/controls",
          "model_name": "ProgressStyleModel",
          "state": {
            "_view_name": "StyleView",
            "_model_name": "ProgressStyleModel",
            "description_width": "initial",
            "_view_module": "@jupyter-widgets/base",
            "_model_module_version": "1.5.0",
            "_view_count": null,
            "_view_module_version": "1.2.0",
            "bar_color": null,
            "_model_module": "@jupyter-widgets/controls"
          }
        },
        "904032b8c93a43849fb6713304bb720c": {
          "model_module": "@jupyter-widgets/base",
          "model_name": "LayoutModel",
          "state": {
            "_view_name": "LayoutView",
            "grid_template_rows": null,
            "right": null,
            "justify_content": null,
            "_view_module": "@jupyter-widgets/base",
            "overflow": null,
            "_model_module_version": "1.2.0",
            "_view_count": null,
            "flex_flow": null,
            "width": null,
            "min_width": null,
            "border": null,
            "align_items": null,
            "bottom": null,
            "_model_module": "@jupyter-widgets/base",
            "top": null,
            "grid_column": null,
            "overflow_y": null,
            "overflow_x": null,
            "grid_auto_flow": null,
            "grid_area": null,
            "grid_template_columns": null,
            "flex": null,
            "_model_name": "LayoutModel",
            "justify_items": null,
            "grid_row": null,
            "max_height": null,
            "align_content": null,
            "visibility": null,
            "align_self": null,
            "height": null,
            "min_height": null,
            "padding": null,
            "grid_auto_rows": null,
            "grid_gap": null,
            "max_width": null,
            "order": null,
            "_view_module_version": "1.2.0",
            "grid_template_areas": null,
            "object_position": null,
            "object_fit": null,
            "grid_auto_columns": null,
            "margin": null,
            "display": null,
            "left": null
          }
        },
        "06682d6169144c3c8ec2d830e9c65ff6": {
          "model_module": "@jupyter-widgets/controls",
          "model_name": "DescriptionStyleModel",
          "state": {
            "_view_name": "StyleView",
            "_model_name": "DescriptionStyleModel",
            "description_width": "",
            "_view_module": "@jupyter-widgets/base",
            "_model_module_version": "1.5.0",
            "_view_count": null,
            "_view_module_version": "1.2.0",
            "_model_module": "@jupyter-widgets/controls"
          }
        },
        "c67f38209b9e4371bbbdf4bf4f347962": {
          "model_module": "@jupyter-widgets/base",
          "model_name": "LayoutModel",
          "state": {
            "_view_name": "LayoutView",
            "grid_template_rows": null,
            "right": null,
            "justify_content": null,
            "_view_module": "@jupyter-widgets/base",
            "overflow": null,
            "_model_module_version": "1.2.0",
            "_view_count": null,
            "flex_flow": null,
            "width": null,
            "min_width": null,
            "border": null,
            "align_items": null,
            "bottom": null,
            "_model_module": "@jupyter-widgets/base",
            "top": null,
            "grid_column": null,
            "overflow_y": null,
            "overflow_x": null,
            "grid_auto_flow": null,
            "grid_area": null,
            "grid_template_columns": null,
            "flex": null,
            "_model_name": "LayoutModel",
            "justify_items": null,
            "grid_row": null,
            "max_height": null,
            "align_content": null,
            "visibility": null,
            "align_self": null,
            "height": null,
            "min_height": null,
            "padding": null,
            "grid_auto_rows": null,
            "grid_gap": null,
            "max_width": null,
            "order": null,
            "_view_module_version": "1.2.0",
            "grid_template_areas": null,
            "object_position": null,
            "object_fit": null,
            "grid_auto_columns": null,
            "margin": null,
            "display": null,
            "left": null
          }
        }
      }
    }
  },
  "cells": [
    {
      "cell_type": "markdown",
      "metadata": {
        "id": "view-in-github",
        "colab_type": "text"
      },
      "source": [
        "<a href=\"https://colab.research.google.com/github/slipaway/melonplaylist/blob/master/final_model_and_result_full_version.ipynb\" target=\"_parent\"><img src=\"https://colab.research.google.com/assets/colab-badge.svg\" alt=\"Open In Colab\"/></a>"
      ]
    },
    {
      "cell_type": "code",
      "metadata": {
        "id": "iF44xVoC0xRl",
        "colab_type": "code",
        "colab": {
          "base_uri": "https://localhost:8080/",
          "height": 126
        },
        "outputId": "a5876cb4-78bf-4426-8866-26118715f41a"
      },
      "source": [
        "from google.colab import drive\n",
        "drive.mount('/content/gdrive/')"
      ],
      "execution_count": 2,
      "outputs": [
        {
          "output_type": "stream",
          "text": [
            "Go to this URL in a browser: https://accounts.google.com/o/oauth2/auth?client_id=947318989803-6bn6qk8qdgf4n4g3pfee6491hc0brc4i.apps.googleusercontent.com&redirect_uri=urn%3aietf%3awg%3aoauth%3a2.0%3aoob&response_type=code&scope=email%20https%3a%2f%2fwww.googleapis.com%2fauth%2fdocs.test%20https%3a%2f%2fwww.googleapis.com%2fauth%2fdrive%20https%3a%2f%2fwww.googleapis.com%2fauth%2fdrive.photos.readonly%20https%3a%2f%2fwww.googleapis.com%2fauth%2fpeopleapi.readonly\n",
            "\n",
            "Enter your authorization code:\n",
            "··········\n",
            "Mounted at /content/gdrive/\n"
          ],
          "name": "stdout"
        }
      ]
    },
    {
      "cell_type": "code",
      "metadata": {
        "id": "rimrmj3F1Bg6",
        "colab_type": "code",
        "colab": {
          "base_uri": "https://localhost:8080/",
          "height": 248
        },
        "outputId": "0fb23b06-094e-43da-cb1b-cf2d3e5f01af"
      },
      "source": [
        "pip install implicit"
      ],
      "execution_count": 3,
      "outputs": [
        {
          "output_type": "stream",
          "text": [
            "Collecting implicit\n",
            "\u001b[?25l  Downloading https://files.pythonhosted.org/packages/5a/d8/6b4f1374ffa2647b72ac76960c71b984c6f3238090359fb419d03827d87a/implicit-0.4.2.tar.gz (1.1MB)\n",
            "\u001b[K     |████████████████████████████████| 1.1MB 2.8MB/s \n",
            "\u001b[?25hRequirement already satisfied: numpy in /usr/local/lib/python3.6/dist-packages (from implicit) (1.18.5)\n",
            "Requirement already satisfied: scipy>=0.16 in /usr/local/lib/python3.6/dist-packages (from implicit) (1.4.1)\n",
            "Requirement already satisfied: tqdm>=4.27 in /usr/local/lib/python3.6/dist-packages (from implicit) (4.41.1)\n",
            "Building wheels for collected packages: implicit\n",
            "  Building wheel for implicit (setup.py) ... \u001b[?25l\u001b[?25hdone\n",
            "  Created wheel for implicit: filename=implicit-0.4.2-cp36-cp36m-linux_x86_64.whl size=3420120 sha256=d02d4ff2beaba7f553a7ab9d23dcbd7414c6bd77358abd8b1d9e0abf409ec16c\n",
            "  Stored in directory: /root/.cache/pip/wheels/1b/48/b1/1aebe3acc3afb5589e72d3e7c3ffc3f637dc4721c1a974dff7\n",
            "Successfully built implicit\n",
            "Installing collected packages: implicit\n",
            "Successfully installed implicit-0.4.2\n"
          ],
          "name": "stdout"
        }
      ]
    },
    {
      "cell_type": "code",
      "metadata": {
        "id": "1hCfAveP00kr",
        "colab_type": "code",
        "colab": {
          "base_uri": "https://localhost:8080/",
          "height": 72
        },
        "outputId": "f5f9de79-c778-4165-8c31-cb2608258ae8"
      },
      "source": [
        "import numpy as np\n",
        "import pandas as pd\n",
        "import matplotlib.pyplot as plt\n",
        "import json\n",
        "from datetime import timedelta, datetime\n",
        "import glob\n",
        "import os\n",
        "import re\n",
        "import seaborn as sns\n",
        "import warnings\n",
        "import scipy\n",
        "warnings.filterwarnings('ignore')\n",
        "import implicit"
      ],
      "execution_count": 4,
      "outputs": [
        {
          "output_type": "stream",
          "text": [
            "/usr/local/lib/python3.6/dist-packages/statsmodels/tools/_testing.py:19: FutureWarning: pandas.util.testing is deprecated. Use the functions in the public API at pandas.testing instead.\n",
            "  import pandas.util.testing as tm\n"
          ],
          "name": "stderr"
        }
      ]
    },
    {
      "cell_type": "code",
      "metadata": {
        "id": "QHB3pGnY1ARI",
        "colab_type": "code",
        "colab": {}
      },
      "source": [
        "folder = '/content/gdrive/My Drive/melon kakao'\n",
        "filelist = os.chdir(folder)"
      ],
      "execution_count": 5,
      "outputs": []
    },
    {
      "cell_type": "code",
      "metadata": {
        "id": "IDsBWO5E1diT",
        "colab_type": "code",
        "colab": {}
      },
      "source": [
        "genre_gn_all=pd.read_json('genre_gn_all.json', typ='series')\n",
        "train=pd.read_json('train.json')\n",
        "song_meta=pd.read_json('song_meta.json')\n",
        "test=pd.read_json('test.json')"
      ],
      "execution_count": 6,
      "outputs": []
    },
    {
      "cell_type": "markdown",
      "metadata": {
        "id": "XuqvGuHZ1rHL",
        "colab_type": "text"
      },
      "source": [
        "플레이리스트 생성 시간보다 곡 발매일이 나중에 나온경우 삭제하기"
      ]
    },
    {
      "cell_type": "code",
      "metadata": {
        "id": "-6Gfhmmb1e6Q",
        "colab_type": "code",
        "colab": {}
      },
      "source": [
        "#starnge song 생성\n",
        "\n",
        "plylst_date = train[['updt_date', 'songs']]\n",
        "plylst_date_unnest = np.dstack(\n",
        "    (\n",
        "        np.repeat(plylst_date.updt_date.values, list(map(len, plylst_date.songs))), \n",
        "        np.concatenate(plylst_date.songs.values)\n",
        "    )\n",
        ")\n",
        "plylst_date = pd.DataFrame(data=plylst_date_unnest[0], columns = plylst_date.columns)\n",
        "\n",
        "del plylst_date_unnest\n",
        "\n",
        "\n",
        "plylst_date[\"updt_date\"] = plylst_date[\"updt_date\"].map(lambda x: x[:4] + x[5:7] + x[8:10])\n",
        "song_date = song_meta[[\"id\",\"issue_date\"]]\n",
        "plylst_song_date = pd.merge(plylst_date, song_date, left_on=\"songs\", right_on=\"id\", how='left')\n",
        "plylst_song_date[\"issue_date\"] = plylst_song_date[\"issue_date\"].astype(str)\n",
        "\n",
        "plylst_song_date[\"strange\"] = plylst_song_date[\"updt_date\"] < plylst_song_date[\"issue_date\"]\n",
        "strange_songs = plylst_song_date[plylst_song_date[\"strange\"] == True].drop('songs', axis=1)\n",
        "strange_songs=strange_songs.drop_duplicates(['id'])\n",
        "\n",
        "strange_songs_list=strange_songs['id'].values.astype(str)\n",
        "\n",
        "\n",
        "#train dataframe 전처리\n",
        "\n",
        "#플레이리스트 아이디(id)와 수록곡(songs) 추출\n",
        "plylst_song_map=train[['id', 'songs']]\n",
        "\n",
        "#unnest songs\n",
        "\n",
        "plylst_song_map_unnest=np.dstack(\n",
        "    (\n",
        "        np.repeat(plylst_song_map.id.values, list(map(len, plylst_song_map.songs))),\n",
        "        np.concatenate(plylst_song_map.songs.values)\n",
        "    )\n",
        ")\n",
        "\n",
        "#unnested 데이터프레임 생성 : plylst_song_map\n",
        "plylst_song_map=pd.DataFrame(data=plylst_song_map_unnest[0], columns=plylst_song_map.columns)\n",
        "plylst_song_map['id']=plylst_song_map['id'].astype(str)\n",
        "plylst_song_map['songs']=plylst_song_map['songs'].astype(str)\n",
        "\n",
        "del plylst_song_map_unnest\n",
        "\n",
        "plylst_song_map_remove=plylst_song_map[np.logical_not(plylst_song_map.songs.isin(strange_songs_list))]\n",
        "\n",
        "\n",
        "plylst_song_group=plylst_song_map_remove.groupby('id')['songs'].apply(list).reset_index(name='remove_songs')\n",
        "train['id']=train['id'].astype(str)\n",
        "train_remove = pd.merge(train, plylst_song_group)\n",
        "train_remove['songs']=train_remove['remove_songs']\n",
        "train_remove=train_remove.drop('remove_songs', axis=1)"
      ],
      "execution_count": 7,
      "outputs": []
    },
    {
      "cell_type": "markdown",
      "metadata": {
        "id": "aol6Q0CN4Toz",
        "colab_type": "text"
      },
      "source": [
        "\n",
        "matrix factorization model 세우기"
      ]
    },
    {
      "cell_type": "code",
      "metadata": {
        "id": "_AwwIDbM4Sgt",
        "colab_type": "code",
        "colab": {}
      },
      "source": [
        "#songs 존재하는 test 데이터 남기기\n",
        "\n",
        "train_songs=train[['id', 'songs']]\n",
        "test_songs=test[['id', 'songs']]\n",
        "\n",
        "\n",
        "filter=test_songs['songs'].astype('str')=='[]'\n",
        "test_songs=test_songs[~filter]\n",
        "\n",
        "plylst_song_map=pd.concat([train_songs, test_songs])\n",
        "\n",
        "\n",
        "#plylst_song_map unnest\n",
        "\n",
        "plylst_song_map_unnest=np.dstack(\n",
        "    (\n",
        "        np.repeat(plylst_song_map.id.values, list(map(len, plylst_song_map.songs))),\n",
        "        np.concatenate(plylst_song_map.songs.values)\n",
        "    )\n",
        ")\n",
        "\n",
        "plylst_song_map=pd.DataFrame(data=plylst_song_map_unnest[0], columns=plylst_song_map.columns)\n",
        "plylst_song_map['id']=plylst_song_map['id'].astype('category')\n",
        "plylst_song_map['songs']=plylst_song_map['songs'].astype('category')\n"
      ],
      "execution_count": null,
      "outputs": []
    },
    {
      "cell_type": "code",
      "metadata": {
        "id": "W1YEKbCC4QMn",
        "colab_type": "code",
        "colab": {}
      },
      "source": [
        "#sparse matrix 만들기\n",
        "\n",
        "sparse_song=scipy.sparse.coo_matrix((np.ones(plylst_song_map.shape[0]),\n",
        "                                (plylst_song_map['songs'].cat.codes.copy(),\n",
        "                                 plylst_song_map['id'].cat.codes.copy())))"
      ],
      "execution_count": null,
      "outputs": []
    },
    {
      "cell_type": "code",
      "metadata": {
        "id": "MjNFxooa4qn6",
        "colab_type": "code",
        "colab": {
          "base_uri": "https://localhost:8080/",
          "height": 87,
          "referenced_widgets": [
            "748ac15f688c47b08185b41301fdc8df",
            "fc01ba12019c4800a282b7b3636bb517",
            "a4d5d69698d74a2184420e17a9b9123b",
            "cbf6640836c3489eb044779570795e64",
            "cd6c1f738c27449e9d25b879c9b4b04a",
            "d6af5336c2334acd9e12c97fa9d15efc",
            "2a81c6010629418f903190dfc0f800af",
            "42767d977a91451e8e999cb66c8817f2"
          ]
        },
        "outputId": "afad9d26-498a-4597-d0cf-6c798818d02b"
      },
      "source": [
        "#ALS model 세우기\n",
        "\n",
        "model_song=implicit.als.AlternatingLeastSquares(factors=10,  regularization=0.01, dtype=np.float64, iterations=20, use_gpu=False)\n",
        "model_song.fit(sparse_song)"
      ],
      "execution_count": null,
      "outputs": [
        {
          "output_type": "stream",
          "text": [
            "WARNING:root:OpenBLAS detected. Its highly recommend to set the environment variable 'export OPENBLAS_NUM_THREADS=1' to disable its internal multithreading\n"
          ],
          "name": "stderr"
        },
        {
          "output_type": "display_data",
          "data": {
            "application/vnd.jupyter.widget-view+json": {
              "model_id": "748ac15f688c47b08185b41301fdc8df",
              "version_minor": 0,
              "version_major": 2
            },
            "text/plain": [
              "HBox(children=(FloatProgress(value=0.0, max=20.0), HTML(value='')))"
            ]
          },
          "metadata": {
            "tags": []
          }
        },
        {
          "output_type": "stream",
          "text": [
            "\n"
          ],
          "name": "stdout"
        }
      ]
    },
    {
      "cell_type": "code",
      "metadata": {
        "id": "IbQGvfC_7NhD",
        "colab_type": "code",
        "colab": {}
      },
      "source": [
        "#recommendation\n",
        "\n",
        "repos_song=dict(enumerate(plylst_song_map['songs'].cat.categories))\n",
        "\n",
        "plylst_song_map_test=test_songs\n",
        "\n",
        "#test set unnest\n",
        "\n",
        "plylst_song_map_test_unnest=np.dstack(\n",
        "    (\n",
        "        np.repeat(plylst_song_map_test.id.values, list(map(len, plylst_song_map_test.songs))),\n",
        "        np.concatenate(plylst_song_map_test.songs.values)\n",
        "    )\n",
        ")\n",
        "\n",
        "plylst_song_map_test=pd.DataFrame(data=plylst_song_map_test_unnest[0], columns=plylst_song_map_test.columns)\n",
        "plylst_song_map_test['id']=plylst_song_map_test['id'].astype('category')\n",
        "plylst_song_map_test['songs']=plylst_song_map_test['songs'].astype('category')\n",
        "\n",
        "del plylst_song_map_test_unnest\n",
        "\n",
        "#test_song data에 대한 sparse matrix 만들기\n",
        "\n",
        "test_song_sparse=scipy.sparse.coo_matrix((np.ones(plylst_song_map_test.shape[0]),\n",
        "                                          (plylst_song_map_test['id'].cat.codes.copy(),\n",
        "                                           plylst_song_map_test['songs'].cat.codes.copy()))).tocsr()"
      ],
      "execution_count": null,
      "outputs": []
    },
    {
      "cell_type": "code",
      "metadata": {
        "id": "SjLQ0B0f-L_p",
        "colab_type": "code",
        "colab": {}
      },
      "source": [
        "result_songs = []\n",
        "\n",
        "for i in range(test_songs.shape[0]):\n",
        "  rec=model_song.recommend(userid=i, user_items=test_song_sparse, N=100)\n",
        "  result_rec=[]\n",
        "  for j in range(len(rec)):\n",
        "    rec[j]=repos_song[rec[j][0]]\n",
        "    result_rec.insert(j, rec[j])\n",
        "  result_songs.insert(i, result_rec)\n"
      ],
      "execution_count": null,
      "outputs": []
    },
    {
      "cell_type": "code",
      "metadata": {
        "id": "V40j3Do-Cbeg",
        "colab_type": "code",
        "colab": {}
      },
      "source": [
        "test_songs['predicted_songs']=result_songs"
      ],
      "execution_count": null,
      "outputs": []
    },
    {
      "cell_type": "markdown",
      "metadata": {
        "id": "PQAYFJZweE0L",
        "colab_type": "text"
      },
      "source": [
        "곡 예측 final - predicted_song"
      ]
    },
    {
      "cell_type": "code",
      "metadata": {
        "id": "-foajGq0DpFM",
        "colab_type": "code",
        "colab": {
          "base_uri": "https://localhost:8080/",
          "height": 279
        },
        "outputId": "7170a428-c9f5-4ed1-8413-1282fa295644"
      },
      "source": [
        "#곡 prediction 결과\n",
        "\n",
        "test_result=test_songs.drop('songs', axis=1)\n",
        "print(test_result)\n",
        "\n",
        "test_result.to_json('predicted_song.json')"
      ],
      "execution_count": null,
      "outputs": [
        {
          "output_type": "stream",
          "text": [
            "           id                                    predicted_songs\n",
            "0       70107  [581799, 493762, 15124, 195174, 191915, 146989...\n",
            "1        7461  [581799, 493762, 15124, 195174, 146989, 191915...\n",
            "2       90348  [581799, 493762, 15124, 625875, 146989, 195174...\n",
            "3       58617  [133143, 650494, 701557, 610933, 132994, 34820...\n",
            "4      102395  [116573, 675115, 654757, 37748, 88503, 663905,...\n",
            "...       ...                                                ...\n",
            "10735  137930  [133143, 650494, 701557, 610933, 132994, 34820...\n",
            "10736     936  [144663, 116573, 357367, 37748, 493762, 627363...\n",
            "10737  110589  [654757, 117595, 88503, 1236, 113958, 173943, ...\n",
            "10738    2605  [581799, 493762, 237407, 505036, 15124, 413422...\n",
            "10739  126651  [519391, 640657, 133484, 698536, 232606, 11228...\n",
            "\n",
            "[8697 rows x 2 columns]\n"
          ],
          "name": "stdout"
        }
      ]
    },
    {
      "cell_type": "markdown",
      "metadata": {
        "id": "twqqoiQmtddi",
        "colab_type": "text"
      },
      "source": [
        "성환이 곡 예측 데이터 뽑기"
      ]
    },
    {
      "cell_type": "code",
      "metadata": {
        "id": "6f7zLY8uGARI",
        "colab_type": "code",
        "colab": {}
      },
      "source": [
        "problemset1=pd.read_csv('텅빈애들목록_수정.csv')\n",
        "\n",
        "filter1=problemset1['songs'].astype('str')=='[]'\n",
        "problemset1_song=problemset1[~filter1]\n",
        "problemset1_id=problemset1_song['id']\n",
        "problemset1_id=problemset1_id.reset_index().drop('index', axis=1)\n",
        "\n",
        "problem_result_song=[]\n",
        "for i in range(problemset1_id.shape[0]):\n",
        "  B=test_result[problemset1_id.iloc[i, 0]==test_result['id']].iloc[0, 1]\n",
        "  problem_result_song.insert(i, B)\n",
        "\n",
        "\n",
        "problemset1_id['predicted_songs']=problem_result_song\n",
        "\n",
        "problemset1_id.to_json('성환노래prediction.json')"
      ],
      "execution_count": null,
      "outputs": []
    },
    {
      "cell_type": "code",
      "metadata": {
        "id": "e3dN0GIRl0Wz",
        "colab_type": "code",
        "colab": {}
      },
      "source": [
        "test_result.to_json('predicted_song.json')\n",
        "problemset1_id.to_json('성환노래prediction.json')"
      ],
      "execution_count": null,
      "outputs": []
    },
    {
      "cell_type": "markdown",
      "metadata": {
        "id": "IAt5giOexgCi",
        "colab_type": "text"
      },
      "source": [
        "태그 예측하기"
      ]
    },
    {
      "cell_type": "code",
      "metadata": {
        "id": "9aI8naSoxFxq",
        "colab_type": "code",
        "colab": {}
      },
      "source": [
        "train_tag=train[['id', 'tags']]\n",
        "test_tag=test[['id', 'tags']]\n",
        "filter=test_tag['tags'].astype('str')=='[]'\n",
        "test_tag=test_tag[~filter]\n",
        "\n",
        "\n",
        "plylst_tag_map=pd.concat([train_tag, test_tag])\n",
        "\n",
        "#unnesting\n",
        "\n",
        "plylst_tag_map_unnest=np.dstack(\n",
        "    (\n",
        "        np.repeat(plylst_tag_map.id.values, list(map(len, plylst_tag_map.tags))),\n",
        "        np.concatenate(plylst_tag_map.tags.values)\n",
        "    )\n",
        ")\n",
        "\n",
        "plylst_tag_map=pd.DataFrame(data=plylst_tag_map_unnest[0], columns=plylst_tag_map.columns)\n",
        "plylst_tag_map['id']=plylst_tag_map['id'].astype('category')\n",
        "plylst_tag_map['tags']=plylst_tag_map['tags'].astype('category')\n",
        "\n",
        "del plylst_tag_map_unnest"
      ],
      "execution_count": null,
      "outputs": []
    },
    {
      "cell_type": "code",
      "metadata": {
        "id": "-9zsjZLMxuTr",
        "colab_type": "code",
        "colab": {}
      },
      "source": [
        "#sparse matrix 만들기\n",
        "\n",
        "sparse_tag=scipy.sparse.coo_matrix((np.ones(plylst_tag_map.shape[0]),\n",
        "                                    (plylst_tag_map['tags'].cat.codes.copy(),\n",
        "                                     plylst_tag_map['id'].cat.codes.copy())))"
      ],
      "execution_count": null,
      "outputs": []
    },
    {
      "cell_type": "code",
      "metadata": {
        "id": "spsPkMtRyRBN",
        "colab_type": "code",
        "colab": {
          "base_uri": "https://localhost:8080/",
          "height": 68,
          "referenced_widgets": [
            "67d3b3a7c9ea4ac58310de81acbd706e",
            "8b0c3d01396f4fd0a19e951ff3f4f778",
            "96278528ed5c42e18b530ca37e11c572",
            "c7ba6560fe7c4d4bb863ba77036e0e8f",
            "836b07f7dc6c4915a293d00b915ad5b4",
            "904032b8c93a43849fb6713304bb720c",
            "06682d6169144c3c8ec2d830e9c65ff6",
            "c67f38209b9e4371bbbdf4bf4f347962"
          ]
        },
        "outputId": "fc9bfb70-9898-4c5b-c8de-cdc5e389eaee"
      },
      "source": [
        "#모델 세우기\n",
        "\n",
        "model_tag=implicit.als.AlternatingLeastSquares(factors=20,  regularization=0.01, dtype=np.float64, iterations=20, use_gpu=False)\n",
        "model_tag.fit(sparse_tag)"
      ],
      "execution_count": null,
      "outputs": [
        {
          "output_type": "display_data",
          "data": {
            "application/vnd.jupyter.widget-view+json": {
              "model_id": "67d3b3a7c9ea4ac58310de81acbd706e",
              "version_minor": 0,
              "version_major": 2
            },
            "text/plain": [
              "HBox(children=(FloatProgress(value=0.0, max=20.0), HTML(value='')))"
            ]
          },
          "metadata": {
            "tags": []
          }
        },
        {
          "output_type": "stream",
          "text": [
            "\n"
          ],
          "name": "stdout"
        }
      ]
    },
    {
      "cell_type": "code",
      "metadata": {
        "id": "3aYvgUMAy8As",
        "colab_type": "code",
        "colab": {}
      },
      "source": [
        "#recommendation\n",
        "\n",
        "repos_tags=dict(enumerate(plylst_tag_map['tags'].cat.categories))\n",
        "\n",
        "\n",
        "plylst_tag_map_test=test_tag\n",
        "\n",
        "#unnesting\n",
        "\n",
        "plylst_tag_map_test_unnest=np.dstack(\n",
        "    (\n",
        "        np.repeat(plylst_tag_map_test.id.values, list(map(len, plylst_tag_map_test.tags))),\n",
        "        np.concatenate(plylst_tag_map_test.tags.values)\n",
        "    )\n",
        ")\n",
        "\n",
        "\n",
        "plylst_tag_map_test=pd.DataFrame(data=plylst_tag_map_test_unnest[0], columns=plylst_tag_map_test.columns)\n",
        "plylst_tag_map_test['id']=plylst_tag_map_test['id'].astype('category')\n",
        "plylst_tag_map_test['tags']=plylst_tag_map_test['tags'].astype('category')\n"
      ],
      "execution_count": null,
      "outputs": []
    },
    {
      "cell_type": "code",
      "metadata": {
        "id": "htDsHWTIBoUs",
        "colab_type": "code",
        "colab": {}
      },
      "source": [
        "\n",
        "#test sparse matrix\n",
        "\n",
        "test_tag_sparse=scipy.sparse.coo_matrix((np.ones(plylst_tag_map_test.shape[0]),\n",
        "                                          (plylst_tag_map_test['id'].cat.codes.copy(),\n",
        "                                           plylst_tag_map_test['tags'].cat.codes.copy()))).tocsr()"
      ],
      "execution_count": null,
      "outputs": []
    },
    {
      "cell_type": "code",
      "metadata": {
        "id": "Drm4saNK0klb",
        "colab_type": "code",
        "colab": {}
      },
      "source": [
        "result_tag=[]\n",
        "\n",
        "for i in range(test_tag.shape[0]):\n",
        "  rec=model_tag.recommend(i, test_tag_sparse, N=10)\n",
        "  result_rec=[]\n",
        "  for j in range(len(rec)):\n",
        "    rec[j]=repos_tags[rec[j][0]]\n",
        "    result_rec.insert(j, rec[j])\n",
        "  result_tag.insert(i, result_rec)\n"
      ],
      "execution_count": null,
      "outputs": []
    },
    {
      "cell_type": "code",
      "metadata": {
        "id": "Fhe36uYa1jia",
        "colab_type": "code",
        "colab": {}
      },
      "source": [
        "test_result_tag=test_tag\n",
        "test_result_tag['predicted_tags']=result_tag\n",
        "test_result_tag=test_result_tag.drop('tags', axis=1).reset_index()"
      ],
      "execution_count": null,
      "outputs": []
    },
    {
      "cell_type": "code",
      "metadata": {
        "id": "MVinWcFC1ooV",
        "colab_type": "code",
        "colab": {}
      },
      "source": [
        "test_result_tag.to_json('predicted_tag.json')"
      ],
      "execution_count": null,
      "outputs": []
    },
    {
      "cell_type": "markdown",
      "metadata": {
        "id": "GL2ZupIC2bkQ",
        "colab_type": "text"
      },
      "source": [
        "성환이 데이터에 태그 채우기"
      ]
    },
    {
      "cell_type": "code",
      "metadata": {
        "id": "JLCbMp6F194I",
        "colab_type": "code",
        "colab": {
          "base_uri": "https://localhost:8080/",
          "height": 335
        },
        "outputId": "c63d0063-3c7a-45ca-a96f-78fe90551da6"
      },
      "source": [
        "problemset1\n",
        "\n",
        "filter4=problemset1['tags'].astype('str')=='[]'\n",
        "problemset1_tag=problemset1[~filter4]\n",
        "problemset1_tag_id=problemset1_tag['id'].reset_index().drop('index', axis=1)\n",
        "\n",
        "print(problemset1_tag_id)"
      ],
      "execution_count": null,
      "outputs": [
        {
          "output_type": "stream",
          "text": [
            "        id\n",
            "0    81933\n",
            "1   139673\n",
            "2   119362\n",
            "3   129084\n",
            "4     7713\n",
            "5    76637\n",
            "6   106582\n",
            "7   119817\n",
            "8     8572\n",
            "9    37362\n",
            "10   68319\n",
            "11   90892\n",
            "12  102824\n",
            "13   97369\n",
            "14   42898\n",
            "15   54496\n"
          ],
          "name": "stdout"
        }
      ]
    },
    {
      "cell_type": "code",
      "metadata": {
        "id": "AiCjRtt02UeH",
        "colab_type": "code",
        "colab": {}
      },
      "source": [
        "problem_result_tag=[]\n",
        "for i in range(problemset1_tag_id.shape[0]):\n",
        "  B=test_result_tag[(problemset1_tag_id.iloc[i, 0]==test_result_tag['id']).tolist()].iloc[0, 2]\n",
        "  problem_result_tag.insert(i, B)\n"
      ],
      "execution_count": null,
      "outputs": []
    },
    {
      "cell_type": "code",
      "metadata": {
        "id": "ktdMHzx-FElQ",
        "colab_type": "code",
        "colab": {}
      },
      "source": [
        "problemset1_tag_id['predicted_tag']=problem_result_tag"
      ],
      "execution_count": null,
      "outputs": []
    },
    {
      "cell_type": "code",
      "metadata": {
        "id": "OtxOfoAnH6w8",
        "colab_type": "code",
        "colab": {
          "base_uri": "https://localhost:8080/",
          "height": 539
        },
        "outputId": "578a19e5-2201-4b2d-b0e7-14521acee8aa"
      },
      "source": [
        "problemset1_tag_id"
      ],
      "execution_count": null,
      "outputs": [
        {
          "output_type": "execute_result",
          "data": {
            "text/html": [
              "<div>\n",
              "<style scoped>\n",
              "    .dataframe tbody tr th:only-of-type {\n",
              "        vertical-align: middle;\n",
              "    }\n",
              "\n",
              "    .dataframe tbody tr th {\n",
              "        vertical-align: top;\n",
              "    }\n",
              "\n",
              "    .dataframe thead th {\n",
              "        text-align: right;\n",
              "    }\n",
              "</style>\n",
              "<table border=\"1\" class=\"dataframe\">\n",
              "  <thead>\n",
              "    <tr style=\"text-align: right;\">\n",
              "      <th></th>\n",
              "      <th>id</th>\n",
              "      <th>predicted_tag</th>\n",
              "    </tr>\n",
              "  </thead>\n",
              "  <tbody>\n",
              "    <tr>\n",
              "      <th>0</th>\n",
              "      <td>81933</td>\n",
              "      <td>[휴식, 드라이브, 힐링, 스트레스, Pop, 운동, 저녁, 주말, 분위기, 트렌디]</td>\n",
              "    </tr>\n",
              "    <tr>\n",
              "      <th>1</th>\n",
              "      <td>139673</td>\n",
              "      <td>[힙합, 알앤비, 랩, 소울, 락, 매장음악, RnB, 그루브, 트렌디, 가을]</td>\n",
              "    </tr>\n",
              "    <tr>\n",
              "      <th>2</th>\n",
              "      <td>119362</td>\n",
              "      <td>[신나는, 여행, 댄스, 스트레스, 여름, 운동, 드라이브, EDM, 클럽, 산책]</td>\n",
              "    </tr>\n",
              "    <tr>\n",
              "      <th>3</th>\n",
              "      <td>129084</td>\n",
              "      <td>[알앤비, 소울, 락, 가을, RnB, 그루브, 재즈, 트렌디, 카페, 분위기]</td>\n",
              "    </tr>\n",
              "    <tr>\n",
              "      <th>4</th>\n",
              "      <td>7713</td>\n",
              "      <td>[힙합, 랩, 알앤비, HipHop, 국내힙합, 트렌디, 감성힙합, 외힙, 클럽, ...</td>\n",
              "    </tr>\n",
              "    <tr>\n",
              "      <th>5</th>\n",
              "      <td>76637</td>\n",
              "      <td>[힙합, 랩, 겨울, HipHop, 국내힙합, 외힙, 감성힙합, 국힙, 외국힙합, ...</td>\n",
              "    </tr>\n",
              "    <tr>\n",
              "      <th>6</th>\n",
              "      <td>106582</td>\n",
              "      <td>[감성, 신나는, 잔잔한, 여행, 카페, 가을, 댄스, 여름, 스트레스, 알앤비]</td>\n",
              "    </tr>\n",
              "    <tr>\n",
              "      <th>7</th>\n",
              "      <td>119817</td>\n",
              "      <td>[알앤비, 소울, 락, 가을, 힙합, RnB, 그루브, 카페, 트렌디, 분위기]</td>\n",
              "    </tr>\n",
              "    <tr>\n",
              "      <th>8</th>\n",
              "      <td>8572</td>\n",
              "      <td>[힙합, 랩, 알앤비, HipHop, 국내힙합, 트렌디, 감성힙합, 외힙, 클럽, ...</td>\n",
              "    </tr>\n",
              "    <tr>\n",
              "      <th>9</th>\n",
              "      <td>37362</td>\n",
              "      <td>[알앤비, 소울, 락, 가을, 힙합, RnB, 그루브, 카페, 트렌디, 분위기]</td>\n",
              "    </tr>\n",
              "    <tr>\n",
              "      <th>10</th>\n",
              "      <td>68319</td>\n",
              "      <td>[팝, 락, 알앤비, 겨울, 인디, 소울, 신나는, Pop, 여행, 재즈]</td>\n",
              "    </tr>\n",
              "    <tr>\n",
              "      <th>11</th>\n",
              "      <td>90892</td>\n",
              "      <td>[새벽, 밤, 사랑, 설렘, 봄, 까페, 힐링, 매장음악, 달달, 고백]</td>\n",
              "    </tr>\n",
              "    <tr>\n",
              "      <th>12</th>\n",
              "      <td>102824</td>\n",
              "      <td>[매장음악, 까페, 카페, 봄, 설렘, 취향저격, 여행, 감성, 사랑, 인디]</td>\n",
              "    </tr>\n",
              "    <tr>\n",
              "      <th>13</th>\n",
              "      <td>97369</td>\n",
              "      <td>[인디, 매장음악, 카페, 여행, 산책, 사랑, 설렘, 봄, 신나는, 여름]</td>\n",
              "    </tr>\n",
              "    <tr>\n",
              "      <th>14</th>\n",
              "      <td>42898</td>\n",
              "      <td>[사랑, 설렘, 봄, 감성, 인디, 카페, 매장음악, 달달, 연애, 까페]</td>\n",
              "    </tr>\n",
              "    <tr>\n",
              "      <th>15</th>\n",
              "      <td>54496</td>\n",
              "      <td>[기분전환, 스트레스, 알앤비, 소울, 신나는, 락, 힙합, 트렌디, 취향저격, Pop]</td>\n",
              "    </tr>\n",
              "  </tbody>\n",
              "</table>\n",
              "</div>"
            ],
            "text/plain": [
              "        id                                      predicted_tag\n",
              "0    81933    [휴식, 드라이브, 힐링, 스트레스, Pop, 운동, 저녁, 주말, 분위기, 트렌디]\n",
              "1   139673       [힙합, 알앤비, 랩, 소울, 락, 매장음악, RnB, 그루브, 트렌디, 가을]\n",
              "2   119362     [신나는, 여행, 댄스, 스트레스, 여름, 운동, 드라이브, EDM, 클럽, 산책]\n",
              "3   129084       [알앤비, 소울, 락, 가을, RnB, 그루브, 재즈, 트렌디, 카페, 분위기]\n",
              "4     7713  [힙합, 랩, 알앤비, HipHop, 국내힙합, 트렌디, 감성힙합, 외힙, 클럽, ...\n",
              "5    76637  [힙합, 랩, 겨울, HipHop, 국내힙합, 외힙, 감성힙합, 국힙, 외국힙합, ...\n",
              "6   106582      [감성, 신나는, 잔잔한, 여행, 카페, 가을, 댄스, 여름, 스트레스, 알앤비]\n",
              "7   119817       [알앤비, 소울, 락, 가을, 힙합, RnB, 그루브, 카페, 트렌디, 분위기]\n",
              "8     8572  [힙합, 랩, 알앤비, HipHop, 국내힙합, 트렌디, 감성힙합, 외힙, 클럽, ...\n",
              "9    37362       [알앤비, 소울, 락, 가을, 힙합, RnB, 그루브, 카페, 트렌디, 분위기]\n",
              "10   68319          [팝, 락, 알앤비, 겨울, 인디, 소울, 신나는, Pop, 여행, 재즈]\n",
              "11   90892           [새벽, 밤, 사랑, 설렘, 봄, 까페, 힐링, 매장음악, 달달, 고백]\n",
              "12  102824        [매장음악, 까페, 카페, 봄, 설렘, 취향저격, 여행, 감성, 사랑, 인디]\n",
              "13   97369         [인디, 매장음악, 카페, 여행, 산책, 사랑, 설렘, 봄, 신나는, 여름]\n",
              "14   42898          [사랑, 설렘, 봄, 감성, 인디, 카페, 매장음악, 달달, 연애, 까페]\n",
              "15   54496  [기분전환, 스트레스, 알앤비, 소울, 신나는, 락, 힙합, 트렌디, 취향저격, Pop]"
            ]
          },
          "metadata": {
            "tags": []
          },
          "execution_count": 306
        }
      ]
    },
    {
      "cell_type": "code",
      "metadata": {
        "id": "acIyPD79H8HH",
        "colab_type": "code",
        "colab": {
          "base_uri": "https://localhost:8080/",
          "height": 596
        },
        "outputId": "12510001-71ab-467b-a3c1-60f0b350460b"
      },
      "source": [
        "problemset1_song_id=problemset1_id\n",
        "print(problemset1_song_id)\n",
        "print(problemset1_tag_id)\n",
        "\n",
        "problemset1_song_id.to_json('빈노래 채우기.json')\n",
        "problemset1_tag_id.to_json('빈태그 채우기.json')"
      ],
      "execution_count": null,
      "outputs": [
        {
          "output_type": "stream",
          "text": [
            "         id                                    predicted_songs\n",
            "0     51734  [650494, 133143, 701557, 610933, 132994, 34820...\n",
            "1    145709  [116573, 133143, 144663, 650494, 610933, 70155...\n",
            "2    135315  [581799, 493762, 625875, 15124, 146989, 464051...\n",
            "3     93364  [581799, 493762, 15124, 195174, 146989, 625875...\n",
            "4     48871  [696494, 202185, 571790, 26590, 52192, 224568,...\n",
            "..      ...                                                ...\n",
            "204  107623  [650494, 133143, 701557, 348200, 610933, 13299...\n",
            "205  115081  [144663, 357367, 627363, 174749, 519391, 64065...\n",
            "206   81238  [581799, 493762, 15124, 195174, 146989, 191915...\n",
            "207   93936  [581799, 493762, 15124, 195174, 191915, 146989...\n",
            "208  122238  [581799, 493762, 15124, 195174, 191915, 146989...\n",
            "\n",
            "[209 rows x 2 columns]\n",
            "        id                                      predicted_tag\n",
            "0    81933    [휴식, 드라이브, 힐링, 스트레스, Pop, 운동, 저녁, 주말, 분위기, 트렌디]\n",
            "1   139673       [힙합, 알앤비, 랩, 소울, 락, 매장음악, RnB, 그루브, 트렌디, 가을]\n",
            "2   119362     [신나는, 여행, 댄스, 스트레스, 여름, 운동, 드라이브, EDM, 클럽, 산책]\n",
            "3   129084       [알앤비, 소울, 락, 가을, RnB, 그루브, 재즈, 트렌디, 카페, 분위기]\n",
            "4     7713  [힙합, 랩, 알앤비, HipHop, 국내힙합, 트렌디, 감성힙합, 외힙, 클럽, ...\n",
            "5    76637  [힙합, 랩, 겨울, HipHop, 국내힙합, 외힙, 감성힙합, 국힙, 외국힙합, ...\n",
            "6   106582      [감성, 신나는, 잔잔한, 여행, 카페, 가을, 댄스, 여름, 스트레스, 알앤비]\n",
            "7   119817       [알앤비, 소울, 락, 가을, 힙합, RnB, 그루브, 카페, 트렌디, 분위기]\n",
            "8     8572  [힙합, 랩, 알앤비, HipHop, 국내힙합, 트렌디, 감성힙합, 외힙, 클럽, ...\n",
            "9    37362       [알앤비, 소울, 락, 가을, 힙합, RnB, 그루브, 카페, 트렌디, 분위기]\n",
            "10   68319          [팝, 락, 알앤비, 겨울, 인디, 소울, 신나는, Pop, 여행, 재즈]\n",
            "11   90892           [새벽, 밤, 사랑, 설렘, 봄, 까페, 힐링, 매장음악, 달달, 고백]\n",
            "12  102824        [매장음악, 까페, 카페, 봄, 설렘, 취향저격, 여행, 감성, 사랑, 인디]\n",
            "13   97369         [인디, 매장음악, 카페, 여행, 산책, 사랑, 설렘, 봄, 신나는, 여름]\n",
            "14   42898          [사랑, 설렘, 봄, 감성, 인디, 카페, 매장음악, 달달, 연애, 까페]\n",
            "15   54496  [기분전환, 스트레스, 알앤비, 소울, 신나는, 락, 힙합, 트렌디, 취향저격, Pop]\n"
          ],
          "name": "stdout"
        }
      ]
    },
    {
      "cell_type": "code",
      "metadata": {
        "id": "8tKhAZ0xMg55",
        "colab_type": "code",
        "colab": {}
      },
      "source": [
        "problemset1_tag_id.to_json('빈태그 채우기.json')"
      ],
      "execution_count": null,
      "outputs": []
    },
    {
      "cell_type": "code",
      "metadata": {
        "id": "j7S0OGllH-nL",
        "colab_type": "code",
        "colab": {
          "base_uri": "https://localhost:8080/",
          "height": 415
        },
        "outputId": "90310a36-fd2e-4e22-b057-58fc2fd3aad5"
      },
      "source": [
        "problemset1\n",
        "\n",
        "#태그가 있는 것 : 15개\n",
        "#노래가 있는 것 : 209개\n",
        "482-224=258개 - 256개는 제목 있고, 2개 : 아예 없음"
      ],
      "execution_count": null,
      "outputs": [
        {
          "output_type": "execute_result",
          "data": {
            "text/html": [
              "<div>\n",
              "<style scoped>\n",
              "    .dataframe tbody tr th:only-of-type {\n",
              "        vertical-align: middle;\n",
              "    }\n",
              "\n",
              "    .dataframe tbody tr th {\n",
              "        vertical-align: top;\n",
              "    }\n",
              "\n",
              "    .dataframe thead th {\n",
              "        text-align: right;\n",
              "    }\n",
              "</style>\n",
              "<table border=\"1\" class=\"dataframe\">\n",
              "  <thead>\n",
              "    <tr style=\"text-align: right;\">\n",
              "      <th></th>\n",
              "      <th>Unnamed: 0</th>\n",
              "      <th>tags</th>\n",
              "      <th>id</th>\n",
              "      <th>plylst_title</th>\n",
              "      <th>songs</th>\n",
              "      <th>like_cnt</th>\n",
              "      <th>updt_date</th>\n",
              "    </tr>\n",
              "  </thead>\n",
              "  <tbody>\n",
              "    <tr>\n",
              "      <th>0</th>\n",
              "      <td>0</td>\n",
              "      <td>[]</td>\n",
              "      <td>51734</td>\n",
              "      <td>NaN</td>\n",
              "      <td>[635091, 146442, 465849, 357297, 261979, 25677...</td>\n",
              "      <td>10</td>\n",
              "      <td>2011-10-01 07:22:09.000</td>\n",
              "    </tr>\n",
              "    <tr>\n",
              "      <th>1</th>\n",
              "      <td>1</td>\n",
              "      <td>[]</td>\n",
              "      <td>145709</td>\n",
              "      <td>NaN</td>\n",
              "      <td>[280018, 528539, 605842, 378826, 137408, 25855...</td>\n",
              "      <td>2176</td>\n",
              "      <td>2010-01-08 17:52:52.000</td>\n",
              "    </tr>\n",
              "    <tr>\n",
              "      <th>2</th>\n",
              "      <td>2</td>\n",
              "      <td>[]</td>\n",
              "      <td>135315</td>\n",
              "      <td>NaN</td>\n",
              "      <td>[396168, 317527, 16181, 346252, 334818]</td>\n",
              "      <td>6</td>\n",
              "      <td>2013-05-18 08:14:32.000</td>\n",
              "    </tr>\n",
              "    <tr>\n",
              "      <th>3</th>\n",
              "      <td>3</td>\n",
              "      <td>[]</td>\n",
              "      <td>93364</td>\n",
              "      <td>NaN</td>\n",
              "      <td>[421963, 159925, 233079, 221309, 578190, 538918]</td>\n",
              "      <td>27</td>\n",
              "      <td>2018-09-15 13:17:20.000</td>\n",
              "    </tr>\n",
              "    <tr>\n",
              "      <th>4</th>\n",
              "      <td>4</td>\n",
              "      <td>[]</td>\n",
              "      <td>48871</td>\n",
              "      <td>NaN</td>\n",
              "      <td>[620694, 238475, 371335, 54921, 172903, 146043...</td>\n",
              "      <td>106</td>\n",
              "      <td>2019-04-16 10:08:02.000</td>\n",
              "    </tr>\n",
              "    <tr>\n",
              "      <th>...</th>\n",
              "      <td>...</td>\n",
              "      <td>...</td>\n",
              "      <td>...</td>\n",
              "      <td>...</td>\n",
              "      <td>...</td>\n",
              "      <td>...</td>\n",
              "      <td>...</td>\n",
              "    </tr>\n",
              "    <tr>\n",
              "      <th>477</th>\n",
              "      <td>477</td>\n",
              "      <td>[]</td>\n",
              "      <td>46271</td>\n",
              "      <td>따뜻한 위로, 그리고 힘찬 응원!</td>\n",
              "      <td>[]</td>\n",
              "      <td>170</td>\n",
              "      <td>2016-03-29 17:08:42.000</td>\n",
              "    </tr>\n",
              "    <tr>\n",
              "      <th>478</th>\n",
              "      <td>478</td>\n",
              "      <td>[]</td>\n",
              "      <td>81238</td>\n",
              "      <td>NaN</td>\n",
              "      <td>[118744, 30289, 426529, 702921, 308866, 655637...</td>\n",
              "      <td>3</td>\n",
              "      <td>2016-01-22 19:19:00.000</td>\n",
              "    </tr>\n",
              "    <tr>\n",
              "      <th>479</th>\n",
              "      <td>479</td>\n",
              "      <td>[]</td>\n",
              "      <td>93936</td>\n",
              "      <td>NaN</td>\n",
              "      <td>[129269, 75236, 411494, 169006, 538348, 21888,...</td>\n",
              "      <td>17</td>\n",
              "      <td>2020-01-03 17:22:02.000</td>\n",
              "    </tr>\n",
              "    <tr>\n",
              "      <th>480</th>\n",
              "      <td>480</td>\n",
              "      <td>[]</td>\n",
              "      <td>114894</td>\n",
              "      <td>신나게씽씽</td>\n",
              "      <td>[]</td>\n",
              "      <td>12</td>\n",
              "      <td>2019-06-25 08:01:39.000</td>\n",
              "    </tr>\n",
              "    <tr>\n",
              "      <th>481</th>\n",
              "      <td>481</td>\n",
              "      <td>[]</td>\n",
              "      <td>122238</td>\n",
              "      <td>NaN</td>\n",
              "      <td>[183186, 42662, 504204, 466122, 590543, 691195]</td>\n",
              "      <td>12</td>\n",
              "      <td>2013-01-30 14:23:40.000</td>\n",
              "    </tr>\n",
              "  </tbody>\n",
              "</table>\n",
              "<p>482 rows × 7 columns</p>\n",
              "</div>"
            ],
            "text/plain": [
              "     Unnamed: 0 tags  ...  like_cnt                updt_date\n",
              "0             0   []  ...        10  2011-10-01 07:22:09.000\n",
              "1             1   []  ...      2176  2010-01-08 17:52:52.000\n",
              "2             2   []  ...         6  2013-05-18 08:14:32.000\n",
              "3             3   []  ...        27  2018-09-15 13:17:20.000\n",
              "4             4   []  ...       106  2019-04-16 10:08:02.000\n",
              "..          ...  ...  ...       ...                      ...\n",
              "477         477   []  ...       170  2016-03-29 17:08:42.000\n",
              "478         478   []  ...         3  2016-01-22 19:19:00.000\n",
              "479         479   []  ...        17  2020-01-03 17:22:02.000\n",
              "480         480   []  ...        12  2019-06-25 08:01:39.000\n",
              "481         481   []  ...        12  2013-01-30 14:23:40.000\n",
              "\n",
              "[482 rows x 7 columns]"
            ]
          },
          "metadata": {
            "tags": []
          },
          "execution_count": 291
        }
      ]
    },
    {
      "cell_type": "code",
      "metadata": {
        "id": "cm9OiSVHI9SC",
        "colab_type": "code",
        "colab": {
          "base_uri": "https://localhost:8080/",
          "height": 539
        },
        "outputId": "c8d43af6-3f57-4022-d8af-f122cb698966"
      },
      "source": [
        "problemset1[~filter4]"
      ],
      "execution_count": null,
      "outputs": [
        {
          "output_type": "execute_result",
          "data": {
            "text/html": [
              "<div>\n",
              "<style scoped>\n",
              "    .dataframe tbody tr th:only-of-type {\n",
              "        vertical-align: middle;\n",
              "    }\n",
              "\n",
              "    .dataframe tbody tr th {\n",
              "        vertical-align: top;\n",
              "    }\n",
              "\n",
              "    .dataframe thead th {\n",
              "        text-align: right;\n",
              "    }\n",
              "</style>\n",
              "<table border=\"1\" class=\"dataframe\">\n",
              "  <thead>\n",
              "    <tr style=\"text-align: right;\">\n",
              "      <th></th>\n",
              "      <th>Unnamed: 0</th>\n",
              "      <th>tags</th>\n",
              "      <th>id</th>\n",
              "      <th>plylst_title</th>\n",
              "      <th>songs</th>\n",
              "      <th>like_cnt</th>\n",
              "      <th>updt_date</th>\n",
              "    </tr>\n",
              "  </thead>\n",
              "  <tbody>\n",
              "    <tr>\n",
              "      <th>19</th>\n",
              "      <td>19</td>\n",
              "      <td>['봄햇살에']</td>\n",
              "      <td>81933</td>\n",
              "      <td>공간에 설레임을 입히다! Made  My Heart Flutter</td>\n",
              "      <td>[]</td>\n",
              "      <td>11</td>\n",
              "      <td>2016-11-17 13:14:39.000</td>\n",
              "    </tr>\n",
              "    <tr>\n",
              "      <th>33</th>\n",
              "      <td>33</td>\n",
              "      <td>['이너피스']</td>\n",
              "      <td>139673</td>\n",
              "      <td>테스트 신청</td>\n",
              "      <td>[]</td>\n",
              "      <td>0</td>\n",
              "      <td>2019-04-29 18:53:03.000</td>\n",
              "    </tr>\n",
              "    <tr>\n",
              "      <th>60</th>\n",
              "      <td>60</td>\n",
              "      <td>['헬로카봇']</td>\n",
              "      <td>119362</td>\n",
              "      <td>헬로카봇! 신나게 들어요!</td>\n",
              "      <td>[]</td>\n",
              "      <td>45</td>\n",
              "      <td>2020-02-03 18:07:05.000</td>\n",
              "    </tr>\n",
              "    <tr>\n",
              "      <th>110</th>\n",
              "      <td>110</td>\n",
              "      <td>['thepuplealbum']</td>\n",
              "      <td>129084</td>\n",
              "      <td>Lukas Graham</td>\n",
              "      <td>[]</td>\n",
              "      <td>36</td>\n",
              "      <td>2020-03-20 22:49:23.000</td>\n",
              "    </tr>\n",
              "    <tr>\n",
              "      <th>116</th>\n",
              "      <td>116</td>\n",
              "      <td>['미자탈출', '오늘부터성인']</td>\n",
              "      <td>7713</td>\n",
              "      <td>경축 미자탈출! 올해 스무살이 된 아티스트의 생기 가득한 곡</td>\n",
              "      <td>[]</td>\n",
              "      <td>96</td>\n",
              "      <td>2020-04-02 12:34:31.000</td>\n",
              "    </tr>\n",
              "    <tr>\n",
              "      <th>156</th>\n",
              "      <td>156</td>\n",
              "      <td>['이야']</td>\n",
              "      <td>76637</td>\n",
              "      <td>호호호호홓</td>\n",
              "      <td>[]</td>\n",
              "      <td>13</td>\n",
              "      <td>2020-02-23 18:11:33.000</td>\n",
              "    </tr>\n",
              "    <tr>\n",
              "      <th>170</th>\n",
              "      <td>170</td>\n",
              "      <td>['누구나']</td>\n",
              "      <td>106582</td>\n",
              "      <td>누구나 쉽게 즐길 수 있는 신나는 락음악!</td>\n",
              "      <td>[]</td>\n",
              "      <td>3</td>\n",
              "      <td>2016-09-07 07:27:24.000</td>\n",
              "    </tr>\n",
              "    <tr>\n",
              "      <th>175</th>\n",
              "      <td>175</td>\n",
              "      <td>['그어놓은']</td>\n",
              "      <td>119817</td>\n",
              "      <td>따뜻한 동행</td>\n",
              "      <td>[]</td>\n",
              "      <td>3</td>\n",
              "      <td>2020-02-29 04:45:42.000</td>\n",
              "    </tr>\n",
              "    <tr>\n",
              "      <th>191</th>\n",
              "      <td>191</td>\n",
              "      <td>['인트로맛집']</td>\n",
              "      <td>8572</td>\n",
              "      <td>여기 인트로 맛집이네^^...</td>\n",
              "      <td>[]</td>\n",
              "      <td>2</td>\n",
              "      <td>2020-03-18 15:18:53.000</td>\n",
              "    </tr>\n",
              "    <tr>\n",
              "      <th>250</th>\n",
              "      <td>250</td>\n",
              "      <td>['꽃보다청춘아프리카편']</td>\n",
              "      <td>37362</td>\n",
              "      <td>꽃보다청춘 1회(예고편포함) 브금</td>\n",
              "      <td>[]</td>\n",
              "      <td>11</td>\n",
              "      <td>2016-02-23 18:39:24.000</td>\n",
              "    </tr>\n",
              "    <tr>\n",
              "      <th>272</th>\n",
              "      <td>272</td>\n",
              "      <td>['오빠들']</td>\n",
              "      <td>68319</td>\n",
              "      <td>그시절, 우리가 좋아했던 오빠들 :)</td>\n",
              "      <td>[]</td>\n",
              "      <td>4</td>\n",
              "      <td>2017-09-14 19:57:32.000</td>\n",
              "    </tr>\n",
              "    <tr>\n",
              "      <th>273</th>\n",
              "      <td>273</td>\n",
              "      <td>['저항음악', '밴드감성']</td>\n",
              "      <td>90892</td>\n",
              "      <td>HELL OF A TIME .</td>\n",
              "      <td>[]</td>\n",
              "      <td>0</td>\n",
              "      <td>2020-03-26 21:13:41.000</td>\n",
              "    </tr>\n",
              "    <tr>\n",
              "      <th>299</th>\n",
              "      <td>299</td>\n",
              "      <td>['박정민']</td>\n",
              "      <td>102824</td>\n",
              "      <td>배우 박정민</td>\n",
              "      <td>[]</td>\n",
              "      <td>12</td>\n",
              "      <td>2019-10-19 05:33:48.000</td>\n",
              "    </tr>\n",
              "    <tr>\n",
              "      <th>307</th>\n",
              "      <td>307</td>\n",
              "      <td>['오늘뱜쥬인공은']</td>\n",
              "      <td>97369</td>\n",
              "      <td>오늘뱀... 쥬인공은... 놔야놔...</td>\n",
              "      <td>[]</td>\n",
              "      <td>3</td>\n",
              "      <td>2017-12-11 21:34:32.000</td>\n",
              "    </tr>\n",
              "    <tr>\n",
              "      <th>319</th>\n",
              "      <td>319</td>\n",
              "      <td>['Higher']</td>\n",
              "      <td>42898</td>\n",
              "      <td>임파워링</td>\n",
              "      <td>[]</td>\n",
              "      <td>0</td>\n",
              "      <td>2019-03-11 09:52:02.000</td>\n",
              "    </tr>\n",
              "    <tr>\n",
              "      <th>372</th>\n",
              "      <td>372</td>\n",
              "      <td>['이노래웃기지', '항마력', '심신수련']</td>\n",
              "      <td>54496</td>\n",
              "      <td>항마력 증진을 위한 심신수련</td>\n",
              "      <td>[]</td>\n",
              "      <td>20</td>\n",
              "      <td>2020-04-23 16:30:25.000</td>\n",
              "    </tr>\n",
              "  </tbody>\n",
              "</table>\n",
              "</div>"
            ],
            "text/plain": [
              "     Unnamed: 0                       tags  ...  like_cnt                updt_date\n",
              "19           19                   ['봄햇살에']  ...        11  2016-11-17 13:14:39.000\n",
              "33           33                   ['이너피스']  ...         0  2019-04-29 18:53:03.000\n",
              "60           60                   ['헬로카봇']  ...        45  2020-02-03 18:07:05.000\n",
              "110         110          ['thepuplealbum']  ...        36  2020-03-20 22:49:23.000\n",
              "116         116         ['미자탈출', '오늘부터성인']  ...        96  2020-04-02 12:34:31.000\n",
              "156         156                     ['이야']  ...        13  2020-02-23 18:11:33.000\n",
              "170         170                    ['누구나']  ...         3  2016-09-07 07:27:24.000\n",
              "175         175                   ['그어놓은']  ...         3  2020-02-29 04:45:42.000\n",
              "191         191                  ['인트로맛집']  ...         2  2020-03-18 15:18:53.000\n",
              "250         250             ['꽃보다청춘아프리카편']  ...        11  2016-02-23 18:39:24.000\n",
              "272         272                    ['오빠들']  ...         4  2017-09-14 19:57:32.000\n",
              "273         273           ['저항음악', '밴드감성']  ...         0  2020-03-26 21:13:41.000\n",
              "299         299                    ['박정민']  ...        12  2019-10-19 05:33:48.000\n",
              "307         307                ['오늘뱜쥬인공은']  ...         3  2017-12-11 21:34:32.000\n",
              "319         319                 ['Higher']  ...         0  2019-03-11 09:52:02.000\n",
              "372         372  ['이노래웃기지', '항마력', '심신수련']  ...        20  2020-04-23 16:30:25.000\n",
              "\n",
              "[16 rows x 7 columns]"
            ]
          },
          "metadata": {
            "tags": []
          },
          "execution_count": 301
        }
      ]
    },
    {
      "cell_type": "code",
      "metadata": {
        "id": "-YYDfO-JJds1",
        "colab_type": "code",
        "colab": {}
      },
      "source": [
        "# raw 데이터 : 태그 있으면 제목 있고, 노래 없음\n",
        "# raw 데이터 : 노래 있으면 태그 제목 둘다 없음\n",
        "# 제목만 있는 경우"
      ],
      "execution_count": null,
      "outputs": []
    },
    {
      "cell_type": "markdown",
      "metadata": {
        "id": "vg9C7_Z0USzX",
        "colab_type": "text"
      },
      "source": [
        "현주 빈 태그 채워넣기"
      ]
    },
    {
      "cell_type": "code",
      "metadata": {
        "id": "0KQmnOwiUU-l",
        "colab_type": "code",
        "colab": {
          "base_uri": "https://localhost:8080/",
          "height": 241
        },
        "outputId": "34bc2379-fe00-4e95-a53e-ab7bb6cf102d"
      },
      "source": [
        "problemset2=pd.read_csv('현주안되는거.csv')\n",
        "problemset2_id=problemset2['id']\n"
      ],
      "execution_count": null,
      "outputs": [
        {
          "output_type": "execute_result",
          "data": {
            "text/plain": [
              "0        9823\n",
              "1       31103\n",
              "2       75837\n",
              "3       81933\n",
              "4       95606\n",
              "        ...  \n",
              "149     27708\n",
              "150     30510\n",
              "151    115035\n",
              "152     77836\n",
              "153     27739\n",
              "Name: id, Length: 154, dtype: int64"
            ]
          },
          "metadata": {
            "tags": []
          },
          "execution_count": 361
        }
      ]
    },
    {
      "cell_type": "code",
      "metadata": {
        "id": "pIZict_fWJ7r",
        "colab_type": "code",
        "colab": {
          "base_uri": "https://localhost:8080/",
          "height": 36
        },
        "outputId": "d650cf3a-3740-46f1-a724-aaecd05a3451"
      },
      "source": [
        "test_result_tag[test_result_tag['id']==9823].iloc[0, 1]"
      ],
      "execution_count": null,
      "outputs": [
        {
          "output_type": "execute_result",
          "data": {
            "text/plain": [
              "['힙합', '랩', '알앤비', '소울', 'HipHop', '가을', '트렌디', '그루브', '국내힙합', '카페']"
            ]
          },
          "metadata": {
            "tags": []
          },
          "execution_count": 395
        }
      ]
    },
    {
      "cell_type": "code",
      "metadata": {
        "id": "H3QLlk_JUldb",
        "colab_type": "code",
        "colab": {}
      },
      "source": [
        "problemset2_tag=[]\n",
        "for i in range(problemset2_id.shape[0]-1):\n",
        "  B=test_result_tag[problemset2_id[i]==test_result_tag['id']].iloc[0, 1]\n",
        "  problemset2_tag.insert(i, B)"
      ],
      "execution_count": null,
      "outputs": []
    },
    {
      "cell_type": "code",
      "metadata": {
        "id": "LfR6nfb3XBoz",
        "colab_type": "code",
        "colab": {}
      },
      "source": [
        "problemset2['predicted_tags']=problemset2_tag"
      ],
      "execution_count": null,
      "outputs": []
    },
    {
      "cell_type": "code",
      "metadata": {
        "id": "M6RVjrL3Wdoq",
        "colab_type": "code",
        "colab": {}
      },
      "source": [
        "problemset2_result=problemset2[['id', 'predicted_tags']]"
      ],
      "execution_count": null,
      "outputs": []
    },
    {
      "cell_type": "code",
      "metadata": {
        "id": "j_T-uJ7SUmIz",
        "colab_type": "code",
        "colab": {}
      },
      "source": [
        "problemset2_result.to_json('현주결과못내는tag.json')"
      ],
      "execution_count": null,
      "outputs": []
    },
    {
      "cell_type": "code",
      "metadata": {
        "id": "xblgP34kUl85",
        "colab_type": "code",
        "colab": {}
      },
      "source": [
        ""
      ],
      "execution_count": null,
      "outputs": []
    },
    {
      "cell_type": "markdown",
      "metadata": {
        "id": "CptoEBydUQnj",
        "colab_type": "text"
      },
      "source": [
        "성환+현주+재현 case"
      ]
    },
    {
      "cell_type": "code",
      "metadata": {
        "id": "spxoYGEiQ2C1",
        "colab_type": "code",
        "colab": {
          "base_uri": "https://localhost:8080/",
          "height": 35
        },
        "outputId": "64bbd43b-345a-4c00-9de0-d56a528237ca"
      },
      "source": [
        "test_hyunju=pd.read_json('성환오빠 채운거.json')\n",
        "\n",
        "test_id = test['id'].tolist()\n",
        "test_h_id = test_hyunju['id'].tolist()\n",
        "len_1 = test.shape[0]\n",
        "len_2 = test_hyunju.shape[0]\n",
        "\n",
        "for i in range(len_1) :\n",
        "  for j in range(len_2) :\n",
        "    if test_id[i] == test_h_id[j]:\n",
        "      test['tags'][i] = test_hyunju['predicted_tags'][j]"
      ],
      "execution_count": 10,
      "outputs": [
        {
          "output_type": "execute_result",
          "data": {
            "text/plain": [
              "8697"
            ]
          },
          "metadata": {
            "tags": []
          },
          "execution_count": 10
        }
      ]
    },
    {
      "cell_type": "code",
      "metadata": {
        "id": "khBOgchFQ7-W",
        "colab_type": "code",
        "colab": {}
      },
      "source": [
        "train_tag=train[['id', 'tags']]\n",
        "test_tag=test[['id', 'tags']]\n",
        "\n",
        "plylst_tag_map=pd.concat([train_tag, test_tag])\n",
        "\n",
        "plylst_tag_map_unnest=np.dstack(\n",
        "    (\n",
        "        np.repeat(plylst_tag_map.id.values, list(map(len, plylst_tag_map.tags))),\n",
        "        np.concatenate(plylst_tag_map.tags.values)\n",
        "    )\n",
        ")\n",
        "\n",
        "plylst_tag_map=pd.DataFrame(data=plylst_tag_map_unnest[0], columns=plylst_tag_map.columns)\n",
        "plylst_tag_map['id']=plylst_tag_map['id'].astype('category')\n",
        "plylst_tag_map['tags']=plylst_tag_map['tags'].astype('category')\n",
        "\n",
        "del plylst_tag_map_unnest"
      ],
      "execution_count": null,
      "outputs": []
    },
    {
      "cell_type": "code",
      "metadata": {
        "id": "fAldMdP1lCYa",
        "colab_type": "code",
        "colab": {}
      },
      "source": [
        "plylst_tag_map['id']=plylst_tag_map['id'].astype('category')\n",
        "plylst_tag_map['tags']=plylst_tag_map['tags'].astype('category')\n",
        "\n",
        "tag_sparse=scipy.sparse.coo_matrix((np.ones(plylst_tag_map.shape[0]),\n",
        "                                       (plylst_tag_map['tags'].cat.codes.copy(), \n",
        "                                        plylst_tag_map['id'].cat.codes.copy())))"
      ],
      "execution_count": null,
      "outputs": []
    },
    {
      "cell_type": "code",
      "metadata": {
        "id": "m5kHZ1qolEoq",
        "colab_type": "code",
        "colab": {}
      },
      "source": [
        "model_tag_col=implicit.als.AlternatingLeastSquares(factors=30, regularization=0.005, dtype=np.float64, iterations=40, use_gpu=False)\n",
        "model_tag_col.fit(tag_sparse)"
      ],
      "execution_count": null,
      "outputs": []
    },
    {
      "cell_type": "code",
      "metadata": {
        "id": "67JNHDbBlF99",
        "colab_type": "code",
        "colab": {}
      },
      "source": [
        "repos_tag=dict(enumerate(plylst_tag_map['tags'].cat.categories))\n",
        "\n",
        "filter1=test_hyunju['predicted_tags'].astype('str')=='[]'\n",
        "test_hyunju=test_hyunju[~filter1]\n",
        "\n",
        "plylst_tag_map_test=test_hyunju[['id', 'predicted_tags']]\n",
        "plylst_tag_map_test.columns=['id', 'tags']\n",
        "\n",
        "plylst_tag_map_test_unnest=np.dstack(\n",
        "    (\n",
        "        np.repeat(plylst_tag_map_test.id.values, list(map(len, plylst_tag_map_test.tags))),\n",
        "        np.concatenate(plylst_tag_map_test.tags.values)\n",
        "    )\n",
        ")\n",
        "\n",
        "plylst_tag_map_test=pd.DataFrame(data=plylst_tag_map_test_unnest[0], columns=plylst_tag_map.columns)\n",
        "\n",
        "del(plylst_tag_map_test_unnest)"
      ],
      "execution_count": null,
      "outputs": []
    },
    {
      "cell_type": "code",
      "metadata": {
        "id": "_My2FqzOlK4f",
        "colab_type": "code",
        "colab": {}
      },
      "source": [
        "plylst_tag_map_test['id']=plylst_tag_map_test['id'].astype('category')\n",
        "plylst_tag_map_test['tags']=plylst_tag_map_test['tags'].astype('category')\n",
        "test_sparse=scipy.sparse.coo_matrix((np.ones(plylst_tag_map_test.shape[0]),\n",
        "                                       (plylst_tag_map_test['id'].cat.codes.copy(), \n",
        "                                        plylst_tag_map_test['tags'].cat.codes.copy()))).tocsr()"
      ],
      "execution_count": null,
      "outputs": []
    },
    {
      "cell_type": "code",
      "metadata": {
        "id": "UihXZ-90lKry",
        "colab_type": "code",
        "colab": {}
      },
      "source": [
        "result_tag=[]\n",
        "for i in range(test_hyunju.shape[0]):\n",
        "  B=model_tag_col.recommend(userid=i, user_items=test_sparse, N=10)\n",
        "  result_B=[]\n",
        "  for j in range(len(B)):\n",
        "    B[j]=repos_tag[B[j][0]]\n",
        "    result_B.insert(j, B[j])\n",
        "\n",
        "  result_tag.insert(i, result_B)\n"
      ],
      "execution_count": null,
      "outputs": []
    },
    {
      "cell_type": "code",
      "metadata": {
        "id": "mpAHdej1lQUM",
        "colab_type": "code",
        "colab": {}
      },
      "source": [
        "new_result=[]\n",
        "for i in range(test_hyunju.shape[0]):\n",
        "  test_hyunju['predicted_tags'][i].extend(result_tag[i])\n",
        "  new_result.insert(i, test_hyunju['predicted_tags'][i][:10])"
      ],
      "execution_count": null,
      "outputs": []
    },
    {
      "cell_type": "code",
      "metadata": {
        "id": "Tb6hDMRvlQHM",
        "colab_type": "code",
        "colab": {}
      },
      "source": [
        "test_hyunju['new']=new_result\n",
        "\n",
        "collabo_result=test_hyunju[['id', 'new']]\n",
        "collabo_result.columns=['id', 'predicted_tags']"
      ],
      "execution_count": null,
      "outputs": []
    },
    {
      "cell_type": "code",
      "metadata": {
        "id": "qglMiuwklXfR",
        "colab_type": "code",
        "colab": {}
      },
      "source": [
        "filter2=test1['predicted_tags'].astype('str')=='[]'\n",
        "test_nodata=test1[filter2]\n",
        "\n",
        "collabo_result=pd.concat([collabo_result, test_nodata])\n",
        "collabo_result.columns=['id', 'predicted_tags']\n",
        "collabo_result.reset_index(inplace=True)\n",
        "collabo_result=collabo_result.drop('index', axis=1)\n",
        "\n",
        "collabo_result.to_json('성환+현주+재현.json')"
      ],
      "execution_count": null,
      "outputs": []
    }
  ]
}