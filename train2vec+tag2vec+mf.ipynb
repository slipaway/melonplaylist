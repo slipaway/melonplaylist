{
  "nbformat": 4,
  "nbformat_minor": 0,
  "metadata": {
    "colab": {
      "name": "train2vec+tag2vec+mf.ipynb",
      "provenance": [],
      "collapsed_sections": [],
      "authorship_tag": "ABX9TyMfw+lJMmYGjkHDM6KsGTHh",
      "include_colab_link": true
    },
    "kernelspec": {
      "name": "python3",
      "display_name": "Python 3"
    },
    "widgets": {
      "application/vnd.jupyter.widget-state+json": {
        "0f07506f2ddc4d219898dd9e48240643": {
          "model_module": "@jupyter-widgets/controls",
          "model_name": "HBoxModel",
          "state": {
            "_view_name": "HBoxView",
            "_dom_classes": [],
            "_model_name": "HBoxModel",
            "_view_module": "@jupyter-widgets/controls",
            "_model_module_version": "1.5.0",
            "_view_count": null,
            "_view_module_version": "1.5.0",
            "box_style": "",
            "layout": "IPY_MODEL_0c7946455f6e4f2dbbaaf139faa68ebe",
            "_model_module": "@jupyter-widgets/controls",
            "children": [
              "IPY_MODEL_efa06f84c79745b4a7cc3a82ea2b0aaa",
              "IPY_MODEL_0bba0e4d3f7a44a390e175d5b11a99ec"
            ]
          }
        },
        "0c7946455f6e4f2dbbaaf139faa68ebe": {
          "model_module": "@jupyter-widgets/base",
          "model_name": "LayoutModel",
          "state": {
            "_view_name": "LayoutView",
            "grid_template_rows": null,
            "right": null,
            "justify_content": null,
            "_view_module": "@jupyter-widgets/base",
            "overflow": null,
            "_model_module_version": "1.2.0",
            "_view_count": null,
            "flex_flow": null,
            "width": null,
            "min_width": null,
            "border": null,
            "align_items": null,
            "bottom": null,
            "_model_module": "@jupyter-widgets/base",
            "top": null,
            "grid_column": null,
            "overflow_y": null,
            "overflow_x": null,
            "grid_auto_flow": null,
            "grid_area": null,
            "grid_template_columns": null,
            "flex": null,
            "_model_name": "LayoutModel",
            "justify_items": null,
            "grid_row": null,
            "max_height": null,
            "align_content": null,
            "visibility": null,
            "align_self": null,
            "height": null,
            "min_height": null,
            "padding": null,
            "grid_auto_rows": null,
            "grid_gap": null,
            "max_width": null,
            "order": null,
            "_view_module_version": "1.2.0",
            "grid_template_areas": null,
            "object_position": null,
            "object_fit": null,
            "grid_auto_columns": null,
            "margin": null,
            "display": null,
            "left": null
          }
        },
        "efa06f84c79745b4a7cc3a82ea2b0aaa": {
          "model_module": "@jupyter-widgets/controls",
          "model_name": "FloatProgressModel",
          "state": {
            "_view_name": "ProgressView",
            "style": "IPY_MODEL_9eafb304980f42e2a461c76380ec6b5c",
            "_dom_classes": [],
            "description": "100%",
            "_model_name": "FloatProgressModel",
            "bar_style": "success",
            "max": 40,
            "_view_module": "@jupyter-widgets/controls",
            "_model_module_version": "1.5.0",
            "value": 40,
            "_view_count": null,
            "_view_module_version": "1.5.0",
            "orientation": "horizontal",
            "min": 0,
            "description_tooltip": null,
            "_model_module": "@jupyter-widgets/controls",
            "layout": "IPY_MODEL_d1ee58acaf4442af990cda0b610fa6d5"
          }
        },
        "0bba0e4d3f7a44a390e175d5b11a99ec": {
          "model_module": "@jupyter-widgets/controls",
          "model_name": "HTMLModel",
          "state": {
            "_view_name": "HTMLView",
            "style": "IPY_MODEL_a3fe70a25e334acfafcee9e4a75121a5",
            "_dom_classes": [],
            "description": "",
            "_model_name": "HTMLModel",
            "placeholder": "​",
            "_view_module": "@jupyter-widgets/controls",
            "_model_module_version": "1.5.0",
            "value": " 40/40 [03:51&lt;00:00,  5.79s/it]",
            "_view_count": null,
            "_view_module_version": "1.5.0",
            "description_tooltip": null,
            "_model_module": "@jupyter-widgets/controls",
            "layout": "IPY_MODEL_e1e7210be3f841b489dea4bb57e4f16f"
          }
        },
        "9eafb304980f42e2a461c76380ec6b5c": {
          "model_module": "@jupyter-widgets/controls",
          "model_name": "ProgressStyleModel",
          "state": {
            "_view_name": "StyleView",
            "_model_name": "ProgressStyleModel",
            "description_width": "initial",
            "_view_module": "@jupyter-widgets/base",
            "_model_module_version": "1.5.0",
            "_view_count": null,
            "_view_module_version": "1.2.0",
            "bar_color": null,
            "_model_module": "@jupyter-widgets/controls"
          }
        },
        "d1ee58acaf4442af990cda0b610fa6d5": {
          "model_module": "@jupyter-widgets/base",
          "model_name": "LayoutModel",
          "state": {
            "_view_name": "LayoutView",
            "grid_template_rows": null,
            "right": null,
            "justify_content": null,
            "_view_module": "@jupyter-widgets/base",
            "overflow": null,
            "_model_module_version": "1.2.0",
            "_view_count": null,
            "flex_flow": null,
            "width": null,
            "min_width": null,
            "border": null,
            "align_items": null,
            "bottom": null,
            "_model_module": "@jupyter-widgets/base",
            "top": null,
            "grid_column": null,
            "overflow_y": null,
            "overflow_x": null,
            "grid_auto_flow": null,
            "grid_area": null,
            "grid_template_columns": null,
            "flex": null,
            "_model_name": "LayoutModel",
            "justify_items": null,
            "grid_row": null,
            "max_height": null,
            "align_content": null,
            "visibility": null,
            "align_self": null,
            "height": null,
            "min_height": null,
            "padding": null,
            "grid_auto_rows": null,
            "grid_gap": null,
            "max_width": null,
            "order": null,
            "_view_module_version": "1.2.0",
            "grid_template_areas": null,
            "object_position": null,
            "object_fit": null,
            "grid_auto_columns": null,
            "margin": null,
            "display": null,
            "left": null
          }
        },
        "a3fe70a25e334acfafcee9e4a75121a5": {
          "model_module": "@jupyter-widgets/controls",
          "model_name": "DescriptionStyleModel",
          "state": {
            "_view_name": "StyleView",
            "_model_name": "DescriptionStyleModel",
            "description_width": "",
            "_view_module": "@jupyter-widgets/base",
            "_model_module_version": "1.5.0",
            "_view_count": null,
            "_view_module_version": "1.2.0",
            "_model_module": "@jupyter-widgets/controls"
          }
        },
        "e1e7210be3f841b489dea4bb57e4f16f": {
          "model_module": "@jupyter-widgets/base",
          "model_name": "LayoutModel",
          "state": {
            "_view_name": "LayoutView",
            "grid_template_rows": null,
            "right": null,
            "justify_content": null,
            "_view_module": "@jupyter-widgets/base",
            "overflow": null,
            "_model_module_version": "1.2.0",
            "_view_count": null,
            "flex_flow": null,
            "width": null,
            "min_width": null,
            "border": null,
            "align_items": null,
            "bottom": null,
            "_model_module": "@jupyter-widgets/base",
            "top": null,
            "grid_column": null,
            "overflow_y": null,
            "overflow_x": null,
            "grid_auto_flow": null,
            "grid_area": null,
            "grid_template_columns": null,
            "flex": null,
            "_model_name": "LayoutModel",
            "justify_items": null,
            "grid_row": null,
            "max_height": null,
            "align_content": null,
            "visibility": null,
            "align_self": null,
            "height": null,
            "min_height": null,
            "padding": null,
            "grid_auto_rows": null,
            "grid_gap": null,
            "max_width": null,
            "order": null,
            "_view_module_version": "1.2.0",
            "grid_template_areas": null,
            "object_position": null,
            "object_fit": null,
            "grid_auto_columns": null,
            "margin": null,
            "display": null,
            "left": null
          }
        }
      }
    }
  },
  "cells": [
    {
      "cell_type": "markdown",
      "metadata": {
        "id": "view-in-github",
        "colab_type": "text"
      },
      "source": [
        "<a href=\"https://colab.research.google.com/github/slipaway/melonplaylist/blob/master/train2vec%2Btag2vec%2Bmf.ipynb\" target=\"_parent\"><img src=\"https://colab.research.google.com/assets/colab-badge.svg\" alt=\"Open In Colab\"/></a>"
      ]
    },
    {
      "cell_type": "code",
      "metadata": {
        "id": "clJeLkzXbsMR",
        "colab_type": "code",
        "colab": {
          "base_uri": "https://localhost:8080/",
          "height": 35
        },
        "outputId": "314367c3-37a2-4eb7-ee9a-bd05891435e3"
      },
      "source": [
        "from google.colab import drive\n",
        "drive.mount('/content/gdrive/')"
      ],
      "execution_count": 105,
      "outputs": [
        {
          "output_type": "stream",
          "text": [
            "Drive already mounted at /content/gdrive/; to attempt to forcibly remount, call drive.mount(\"/content/gdrive/\", force_remount=True).\n"
          ],
          "name": "stdout"
        }
      ]
    },
    {
      "cell_type": "code",
      "metadata": {
        "id": "YAgeSczbbxah",
        "colab_type": "code",
        "colab": {
          "base_uri": "https://localhost:8080/",
          "height": 248
        },
        "outputId": "39d7290b-fa85-4876-e8f6-672a6e2c8cc0"
      },
      "source": [
        "pip install implicit"
      ],
      "execution_count": 2,
      "outputs": [
        {
          "output_type": "stream",
          "text": [
            "Collecting implicit\n",
            "\u001b[?25l  Downloading https://files.pythonhosted.org/packages/5a/d8/6b4f1374ffa2647b72ac76960c71b984c6f3238090359fb419d03827d87a/implicit-0.4.2.tar.gz (1.1MB)\n",
            "\r\u001b[K     |▎                               | 10kB 17.0MB/s eta 0:00:01\r\u001b[K     |▋                               | 20kB 1.0MB/s eta 0:00:02\r\u001b[K     |▉                               | 30kB 1.4MB/s eta 0:00:01\r\u001b[K     |█▏                              | 40kB 1.7MB/s eta 0:00:01\r\u001b[K     |█▌                              | 51kB 1.5MB/s eta 0:00:01\r\u001b[K     |█▊                              | 61kB 1.7MB/s eta 0:00:01\r\u001b[K     |██                              | 71kB 1.9MB/s eta 0:00:01\r\u001b[K     |██▍                             | 81kB 2.1MB/s eta 0:00:01\r\u001b[K     |██▋                             | 92kB 2.3MB/s eta 0:00:01\r\u001b[K     |███                             | 102kB 2.3MB/s eta 0:00:01\r\u001b[K     |███▎                            | 112kB 2.3MB/s eta 0:00:01\r\u001b[K     |███▌                            | 122kB 2.3MB/s eta 0:00:01\r\u001b[K     |███▉                            | 133kB 2.3MB/s eta 0:00:01\r\u001b[K     |████▏                           | 143kB 2.3MB/s eta 0:00:01\r\u001b[K     |████▍                           | 153kB 2.3MB/s eta 0:00:01\r\u001b[K     |████▊                           | 163kB 2.3MB/s eta 0:00:01\r\u001b[K     |█████                           | 174kB 2.3MB/s eta 0:00:01\r\u001b[K     |█████▎                          | 184kB 2.3MB/s eta 0:00:01\r\u001b[K     |█████▋                          | 194kB 2.3MB/s eta 0:00:01\r\u001b[K     |█████▉                          | 204kB 2.3MB/s eta 0:00:01\r\u001b[K     |██████▏                         | 215kB 2.3MB/s eta 0:00:01\r\u001b[K     |██████▌                         | 225kB 2.3MB/s eta 0:00:01\r\u001b[K     |██████▊                         | 235kB 2.3MB/s eta 0:00:01\r\u001b[K     |███████                         | 245kB 2.3MB/s eta 0:00:01\r\u001b[K     |███████▍                        | 256kB 2.3MB/s eta 0:00:01\r\u001b[K     |███████▋                        | 266kB 2.3MB/s eta 0:00:01\r\u001b[K     |████████                        | 276kB 2.3MB/s eta 0:00:01\r\u001b[K     |████████▎                       | 286kB 2.3MB/s eta 0:00:01\r\u001b[K     |████████▌                       | 296kB 2.3MB/s eta 0:00:01\r\u001b[K     |████████▉                       | 307kB 2.3MB/s eta 0:00:01\r\u001b[K     |█████████                       | 317kB 2.3MB/s eta 0:00:01\r\u001b[K     |█████████▍                      | 327kB 2.3MB/s eta 0:00:01\r\u001b[K     |█████████▊                      | 337kB 2.3MB/s eta 0:00:01\r\u001b[K     |██████████                      | 348kB 2.3MB/s eta 0:00:01\r\u001b[K     |██████████▎                     | 358kB 2.3MB/s eta 0:00:01\r\u001b[K     |██████████▋                     | 368kB 2.3MB/s eta 0:00:01\r\u001b[K     |██████████▉                     | 378kB 2.3MB/s eta 0:00:01\r\u001b[K     |███████████▏                    | 389kB 2.3MB/s eta 0:00:01\r\u001b[K     |███████████▌                    | 399kB 2.3MB/s eta 0:00:01\r\u001b[K     |███████████▊                    | 409kB 2.3MB/s eta 0:00:01\r\u001b[K     |████████████                    | 419kB 2.3MB/s eta 0:00:01\r\u001b[K     |████████████▍                   | 430kB 2.3MB/s eta 0:00:01\r\u001b[K     |████████████▋                   | 440kB 2.3MB/s eta 0:00:01\r\u001b[K     |█████████████                   | 450kB 2.3MB/s eta 0:00:01\r\u001b[K     |█████████████▏                  | 460kB 2.3MB/s eta 0:00:01\r\u001b[K     |█████████████▌                  | 471kB 2.3MB/s eta 0:00:01\r\u001b[K     |█████████████▉                  | 481kB 2.3MB/s eta 0:00:01\r\u001b[K     |██████████████                  | 491kB 2.3MB/s eta 0:00:01\r\u001b[K     |██████████████▍                 | 501kB 2.3MB/s eta 0:00:01\r\u001b[K     |██████████████▊                 | 512kB 2.3MB/s eta 0:00:01\r\u001b[K     |███████████████                 | 522kB 2.3MB/s eta 0:00:01\r\u001b[K     |███████████████▎                | 532kB 2.3MB/s eta 0:00:01\r\u001b[K     |███████████████▋                | 542kB 2.3MB/s eta 0:00:01\r\u001b[K     |███████████████▉                | 552kB 2.3MB/s eta 0:00:01\r\u001b[K     |████████████████▏               | 563kB 2.3MB/s eta 0:00:01\r\u001b[K     |████████████████▌               | 573kB 2.3MB/s eta 0:00:01\r\u001b[K     |████████████████▊               | 583kB 2.3MB/s eta 0:00:01\r\u001b[K     |█████████████████               | 593kB 2.3MB/s eta 0:00:01\r\u001b[K     |█████████████████▍              | 604kB 2.3MB/s eta 0:00:01\r\u001b[K     |█████████████████▋              | 614kB 2.3MB/s eta 0:00:01\r\u001b[K     |██████████████████              | 624kB 2.3MB/s eta 0:00:01\r\u001b[K     |██████████████████▏             | 634kB 2.3MB/s eta 0:00:01\r\u001b[K     |██████████████████▌             | 645kB 2.3MB/s eta 0:00:01\r\u001b[K     |██████████████████▉             | 655kB 2.3MB/s eta 0:00:01\r\u001b[K     |███████████████████             | 665kB 2.3MB/s eta 0:00:01\r\u001b[K     |███████████████████▍            | 675kB 2.3MB/s eta 0:00:01\r\u001b[K     |███████████████████▊            | 686kB 2.3MB/s eta 0:00:01\r\u001b[K     |████████████████████            | 696kB 2.3MB/s eta 0:00:01\r\u001b[K     |████████████████████▎           | 706kB 2.3MB/s eta 0:00:01\r\u001b[K     |████████████████████▋           | 716kB 2.3MB/s eta 0:00:01\r\u001b[K     |████████████████████▉           | 727kB 2.3MB/s eta 0:00:01\r\u001b[K     |█████████████████████▏          | 737kB 2.3MB/s eta 0:00:01\r\u001b[K     |█████████████████████▌          | 747kB 2.3MB/s eta 0:00:01\r\u001b[K     |█████████████████████▊          | 757kB 2.3MB/s eta 0:00:01\r\u001b[K     |██████████████████████          | 768kB 2.3MB/s eta 0:00:01\r\u001b[K     |██████████████████████▎         | 778kB 2.3MB/s eta 0:00:01\r\u001b[K     |██████████████████████▋         | 788kB 2.3MB/s eta 0:00:01\r\u001b[K     |███████████████████████         | 798kB 2.3MB/s eta 0:00:01\r\u001b[K     |███████████████████████▏        | 808kB 2.3MB/s eta 0:00:01\r\u001b[K     |███████████████████████▌        | 819kB 2.3MB/s eta 0:00:01\r\u001b[K     |███████████████████████▉        | 829kB 2.3MB/s eta 0:00:01\r\u001b[K     |████████████████████████        | 839kB 2.3MB/s eta 0:00:01\r\u001b[K     |████████████████████████▍       | 849kB 2.3MB/s eta 0:00:01\r\u001b[K     |████████████████████████▊       | 860kB 2.3MB/s eta 0:00:01\r\u001b[K     |█████████████████████████       | 870kB 2.3MB/s eta 0:00:01\r\u001b[K     |█████████████████████████▎      | 880kB 2.3MB/s eta 0:00:01\r\u001b[K     |█████████████████████████▋      | 890kB 2.3MB/s eta 0:00:01\r\u001b[K     |█████████████████████████▉      | 901kB 2.3MB/s eta 0:00:01\r\u001b[K     |██████████████████████████▏     | 911kB 2.3MB/s eta 0:00:01\r\u001b[K     |██████████████████████████▍     | 921kB 2.3MB/s eta 0:00:01\r\u001b[K     |██████████████████████████▊     | 931kB 2.3MB/s eta 0:00:01\r\u001b[K     |███████████████████████████     | 942kB 2.3MB/s eta 0:00:01\r\u001b[K     |███████████████████████████▎    | 952kB 2.3MB/s eta 0:00:01\r\u001b[K     |███████████████████████████▋    | 962kB 2.3MB/s eta 0:00:01\r\u001b[K     |████████████████████████████    | 972kB 2.3MB/s eta 0:00:01\r\u001b[K     |████████████████████████████▏   | 983kB 2.3MB/s eta 0:00:01\r\u001b[K     |████████████████████████████▌   | 993kB 2.3MB/s eta 0:00:01\r\u001b[K     |████████████████████████████▉   | 1.0MB 2.3MB/s eta 0:00:01\r\u001b[K     |█████████████████████████████   | 1.0MB 2.3MB/s eta 0:00:01\r\u001b[K     |█████████████████████████████▍  | 1.0MB 2.3MB/s eta 0:00:01\r\u001b[K     |█████████████████████████████▊  | 1.0MB 2.3MB/s eta 0:00:01\r\u001b[K     |██████████████████████████████  | 1.0MB 2.3MB/s eta 0:00:01\r\u001b[K     |██████████████████████████████▎ | 1.1MB 2.3MB/s eta 0:00:01\r\u001b[K     |██████████████████████████████▌ | 1.1MB 2.3MB/s eta 0:00:01\r\u001b[K     |██████████████████████████████▉ | 1.1MB 2.3MB/s eta 0:00:01\r\u001b[K     |███████████████████████████████▏| 1.1MB 2.3MB/s eta 0:00:01\r\u001b[K     |███████████████████████████████▍| 1.1MB 2.3MB/s eta 0:00:01\r\u001b[K     |███████████████████████████████▊| 1.1MB 2.3MB/s eta 0:00:01\r\u001b[K     |████████████████████████████████| 1.1MB 2.3MB/s \n",
            "\u001b[?25hRequirement already satisfied: numpy in /usr/local/lib/python3.6/dist-packages (from implicit) (1.18.5)\n",
            "Requirement already satisfied: scipy>=0.16 in /usr/local/lib/python3.6/dist-packages (from implicit) (1.4.1)\n",
            "Requirement already satisfied: tqdm>=4.27 in /usr/local/lib/python3.6/dist-packages (from implicit) (4.41.1)\n",
            "Building wheels for collected packages: implicit\n",
            "  Building wheel for implicit (setup.py) ... \u001b[?25l\u001b[?25hdone\n",
            "  Created wheel for implicit: filename=implicit-0.4.2-cp36-cp36m-linux_x86_64.whl size=3420119 sha256=3af6c7e966726b86b06122a190206894ca387444dd045a73cdab722cdd60a986\n",
            "  Stored in directory: /root/.cache/pip/wheels/1b/48/b1/1aebe3acc3afb5589e72d3e7c3ffc3f637dc4721c1a974dff7\n",
            "Successfully built implicit\n",
            "Installing collected packages: implicit\n",
            "Successfully installed implicit-0.4.2\n"
          ],
          "name": "stdout"
        }
      ]
    },
    {
      "cell_type": "code",
      "metadata": {
        "id": "ynZfDa6Sb7W3",
        "colab_type": "code",
        "colab": {
          "base_uri": "https://localhost:8080/",
          "height": 72
        },
        "outputId": "5bcea7c9-2315-4895-8cd3-0228596362ca"
      },
      "source": [
        "import numpy as np\n",
        "import pandas as pd\n",
        "import matplotlib.pyplot as plt\n",
        "import json\n",
        "from datetime import timedelta, datetime\n",
        "import glob\n",
        "import os\n",
        "import re\n",
        "import seaborn as sns\n",
        "import warnings\n",
        "import scipy\n",
        "warnings.filterwarnings('ignore')\n",
        "import implicit"
      ],
      "execution_count": 3,
      "outputs": [
        {
          "output_type": "stream",
          "text": [
            "/usr/local/lib/python3.6/dist-packages/statsmodels/tools/_testing.py:19: FutureWarning: pandas.util.testing is deprecated. Use the functions in the public API at pandas.testing instead.\n",
            "  import pandas.util.testing as tm\n"
          ],
          "name": "stderr"
        }
      ]
    },
    {
      "cell_type": "code",
      "metadata": {
        "id": "42kwN8z9cTWF",
        "colab_type": "code",
        "colab": {}
      },
      "source": [
        "folder = '/content/gdrive/My Drive/melon kakao'\n",
        "filelist = os.chdir(folder)\n",
        "\n",
        "train=pd.read_json('train.json')\n",
        "test=pd.read_json('test.json')\n",
        "test_hyunju=pd.read_json('train2vec_addition.json ')"
      ],
      "execution_count": 63,
      "outputs": []
    },
    {
      "cell_type": "code",
      "metadata": {
        "id": "8U08Om4ad6wQ",
        "colab_type": "code",
        "colab": {
          "base_uri": "https://localhost:8080/",
          "height": 411
        },
        "outputId": "eecacf29-ba4e-4d25-a47f-a6aed6156730"
      },
      "source": [
        "test"
      ],
      "execution_count": 64,
      "outputs": [
        {
          "output_type": "execute_result",
          "data": {
            "text/html": [
              "<div>\n",
              "<style scoped>\n",
              "    .dataframe tbody tr th:only-of-type {\n",
              "        vertical-align: middle;\n",
              "    }\n",
              "\n",
              "    .dataframe tbody tr th {\n",
              "        vertical-align: top;\n",
              "    }\n",
              "\n",
              "    .dataframe thead th {\n",
              "        text-align: right;\n",
              "    }\n",
              "</style>\n",
              "<table border=\"1\" class=\"dataframe\">\n",
              "  <thead>\n",
              "    <tr style=\"text-align: right;\">\n",
              "      <th></th>\n",
              "      <th>tags</th>\n",
              "      <th>id</th>\n",
              "      <th>plylst_title</th>\n",
              "      <th>songs</th>\n",
              "      <th>like_cnt</th>\n",
              "      <th>updt_date</th>\n",
              "    </tr>\n",
              "  </thead>\n",
              "  <tbody>\n",
              "    <tr>\n",
              "      <th>0</th>\n",
              "      <td>[]</td>\n",
              "      <td>70107</td>\n",
              "      <td></td>\n",
              "      <td>[398985, 449403, 411543, 528044, 143048, 98020...</td>\n",
              "      <td>6</td>\n",
              "      <td>2012-09-29 01:57:26.000</td>\n",
              "    </tr>\n",
              "    <tr>\n",
              "      <th>1</th>\n",
              "      <td>[나만의Best3, 인디아티스트들의추천음악]</td>\n",
              "      <td>7461</td>\n",
              "      <td></td>\n",
              "      <td>[196298, 269984, 267805, 175867, 529244, 63825...</td>\n",
              "      <td>0</td>\n",
              "      <td>2019-12-17 14:06:45.000</td>\n",
              "    </tr>\n",
              "    <tr>\n",
              "      <th>2</th>\n",
              "      <td>[드라이브]</td>\n",
              "      <td>90348</td>\n",
              "      <td></td>\n",
              "      <td>[273433, 331003, 68432, 411659, 117793, 616860...</td>\n",
              "      <td>21</td>\n",
              "      <td>2015-05-23 10:44:48.000</td>\n",
              "    </tr>\n",
              "    <tr>\n",
              "      <th>3</th>\n",
              "      <td>[분위기]</td>\n",
              "      <td>58617</td>\n",
              "      <td></td>\n",
              "      <td>[702227, 48152, 440008, 358488, 701041, 540721...</td>\n",
              "      <td>0</td>\n",
              "      <td>2019-03-14 09:47:34.000</td>\n",
              "    </tr>\n",
              "    <tr>\n",
              "      <th>4</th>\n",
              "      <td>[]</td>\n",
              "      <td>102395</td>\n",
              "      <td></td>\n",
              "      <td>[630683, 481582, 528550, 285114, 506667, 17922...</td>\n",
              "      <td>38</td>\n",
              "      <td>2018-07-11 16:43:32.000</td>\n",
              "    </tr>\n",
              "    <tr>\n",
              "      <th>...</th>\n",
              "      <td>...</td>\n",
              "      <td>...</td>\n",
              "      <td>...</td>\n",
              "      <td>...</td>\n",
              "      <td>...</td>\n",
              "      <td>...</td>\n",
              "    </tr>\n",
              "    <tr>\n",
              "      <th>10735</th>\n",
              "      <td>[추억]</td>\n",
              "      <td>137930</td>\n",
              "      <td></td>\n",
              "      <td>[323755, 397594, 445908, 570242, 221853, 20018...</td>\n",
              "      <td>16</td>\n",
              "      <td>2016-04-18 11:02:09.000</td>\n",
              "    </tr>\n",
              "    <tr>\n",
              "      <th>10736</th>\n",
              "      <td>[띵곡의, 우울, 분위기, 드라이브, 산책]</td>\n",
              "      <td>936</td>\n",
              "      <td></td>\n",
              "      <td>[105140, 582252, 199262, 422915, 547967, 48791...</td>\n",
              "      <td>1</td>\n",
              "      <td>2020-04-08 07:15:59.000</td>\n",
              "    </tr>\n",
              "    <tr>\n",
              "      <th>10737</th>\n",
              "      <td>[기분전환]</td>\n",
              "      <td>110589</td>\n",
              "      <td></td>\n",
              "      <td>[21976, 207746, 40025, 31635, 567462, 641799, ...</td>\n",
              "      <td>6</td>\n",
              "      <td>2016-06-29 00:57:21.000</td>\n",
              "    </tr>\n",
              "    <tr>\n",
              "      <th>10738</th>\n",
              "      <td>[여름]</td>\n",
              "      <td>2605</td>\n",
              "      <td></td>\n",
              "      <td>[234554, 265033, 507260, 83092, 366757, 497097...</td>\n",
              "      <td>4</td>\n",
              "      <td>2015-06-06 09:52:01.000</td>\n",
              "    </tr>\n",
              "    <tr>\n",
              "      <th>10739</th>\n",
              "      <td>[]</td>\n",
              "      <td>126651</td>\n",
              "      <td></td>\n",
              "      <td>[685111, 20039, 634240, 519385, 321994, 525309...</td>\n",
              "      <td>14</td>\n",
              "      <td>2015-10-26 17:43:30.000</td>\n",
              "    </tr>\n",
              "  </tbody>\n",
              "</table>\n",
              "<p>10740 rows × 6 columns</p>\n",
              "</div>"
            ],
            "text/plain": [
              "                           tags      id  ... like_cnt                updt_date\n",
              "0                            []   70107  ...        6  2012-09-29 01:57:26.000\n",
              "1      [나만의Best3, 인디아티스트들의추천음악]    7461  ...        0  2019-12-17 14:06:45.000\n",
              "2                        [드라이브]   90348  ...       21  2015-05-23 10:44:48.000\n",
              "3                         [분위기]   58617  ...        0  2019-03-14 09:47:34.000\n",
              "4                            []  102395  ...       38  2018-07-11 16:43:32.000\n",
              "...                         ...     ...  ...      ...                      ...\n",
              "10735                      [추억]  137930  ...       16  2016-04-18 11:02:09.000\n",
              "10736  [띵곡의, 우울, 분위기, 드라이브, 산책]     936  ...        1  2020-04-08 07:15:59.000\n",
              "10737                    [기분전환]  110589  ...        6  2016-06-29 00:57:21.000\n",
              "10738                      [여름]    2605  ...        4  2015-06-06 09:52:01.000\n",
              "10739                        []  126651  ...       14  2015-10-26 17:43:30.000\n",
              "\n",
              "[10740 rows x 6 columns]"
            ]
          },
          "metadata": {
            "tags": []
          },
          "execution_count": 64
        }
      ]
    },
    {
      "cell_type": "code",
      "metadata": {
        "id": "CK2b4NFrd9mi",
        "colab_type": "code",
        "colab": {
          "base_uri": "https://localhost:8080/",
          "height": 411
        },
        "outputId": "7684f8da-d540-4706-ea04-805f58c2c3a9"
      },
      "source": [
        "test_hyunju"
      ],
      "execution_count": 65,
      "outputs": [
        {
          "output_type": "execute_result",
          "data": {
            "text/html": [
              "<div>\n",
              "<style scoped>\n",
              "    .dataframe tbody tr th:only-of-type {\n",
              "        vertical-align: middle;\n",
              "    }\n",
              "\n",
              "    .dataframe tbody tr th {\n",
              "        vertical-align: top;\n",
              "    }\n",
              "\n",
              "    .dataframe thead th {\n",
              "        text-align: right;\n",
              "    }\n",
              "</style>\n",
              "<table border=\"1\" class=\"dataframe\">\n",
              "  <thead>\n",
              "    <tr style=\"text-align: right;\">\n",
              "      <th></th>\n",
              "      <th>id</th>\n",
              "      <th>predicted_tags</th>\n",
              "    </tr>\n",
              "  </thead>\n",
              "  <tbody>\n",
              "    <tr>\n",
              "      <th>0</th>\n",
              "      <td>70107</td>\n",
              "      <td>[황현, 프리스타일, Apink, 고등학생, 서지음, 오늘의추천가수, 슴스테, Mo...</td>\n",
              "    </tr>\n",
              "    <tr>\n",
              "      <th>1</th>\n",
              "      <td>102395</td>\n",
              "      <td>[움프, 하드스타일, futurehouse, MartinGarrix, RunDeep...</td>\n",
              "    </tr>\n",
              "    <tr>\n",
              "      <th>2</th>\n",
              "      <td>42586</td>\n",
              "      <td>[weeflow, kxan, Empire, 히팝, 제국, 센힙합, SMTM, nb2...</td>\n",
              "    </tr>\n",
              "    <tr>\n",
              "      <th>3</th>\n",
              "      <td>13244</td>\n",
              "      <td>[힙발라드, 에픽하이, 드렁큰타이거, 재지팩트, 화지, Beenzino, 허클베리피...</td>\n",
              "    </tr>\n",
              "    <tr>\n",
              "      <th>4</th>\n",
              "      <td>55399</td>\n",
              "      <td>[JPOP모음, 중국노래, 중국음악, 일본애니, JAPAN, 일본밴드, chanso...</td>\n",
              "    </tr>\n",
              "    <tr>\n",
              "      <th>...</th>\n",
              "      <td>...</td>\n",
              "      <td>...</td>\n",
              "    </tr>\n",
              "    <tr>\n",
              "      <th>4293</th>\n",
              "      <td>120081</td>\n",
              "      <td>[잔잔한락, 추억의락, ACDC, 틴스피릿, Grunge, Metallica, NW...</td>\n",
              "    </tr>\n",
              "    <tr>\n",
              "      <th>4294</th>\n",
              "      <td>16489</td>\n",
              "      <td>[Kenzie, 폐막식, 켄지, 첸백시, 스엠, 엑소엘, 에프엑스, SM엔터테인먼트...</td>\n",
              "    </tr>\n",
              "    <tr>\n",
              "      <th>4295</th>\n",
              "      <td>46470</td>\n",
              "      <td>[생각이, 생각을, 아픈, 자기전이나, 감정이입, 슬퍼서, 우울함은, 감성발라드, ...</td>\n",
              "    </tr>\n",
              "    <tr>\n",
              "      <th>4296</th>\n",
              "      <td>48788</td>\n",
              "      <td>[가요리믹스, 김경호, 지아, 플라이투더스카이, MCTHEMAX, 노래방인기곡, 이...</td>\n",
              "    </tr>\n",
              "    <tr>\n",
              "      <th>4297</th>\n",
              "      <td>126651</td>\n",
              "      <td>[어쿠스틱송, 수다, 어쿠스틱팝, 포크팝, 러블리팝, 한국포크, Adele, 잔잔한...</td>\n",
              "    </tr>\n",
              "  </tbody>\n",
              "</table>\n",
              "<p>4298 rows × 2 columns</p>\n",
              "</div>"
            ],
            "text/plain": [
              "          id                                     predicted_tags\n",
              "0      70107  [황현, 프리스타일, Apink, 고등학생, 서지음, 오늘의추천가수, 슴스테, Mo...\n",
              "1     102395  [움프, 하드스타일, futurehouse, MartinGarrix, RunDeep...\n",
              "2      42586  [weeflow, kxan, Empire, 히팝, 제국, 센힙합, SMTM, nb2...\n",
              "3      13244  [힙발라드, 에픽하이, 드렁큰타이거, 재지팩트, 화지, Beenzino, 허클베리피...\n",
              "4      55399  [JPOP모음, 중국노래, 중국음악, 일본애니, JAPAN, 일본밴드, chanso...\n",
              "...      ...                                                ...\n",
              "4293  120081  [잔잔한락, 추억의락, ACDC, 틴스피릿, Grunge, Metallica, NW...\n",
              "4294   16489  [Kenzie, 폐막식, 켄지, 첸백시, 스엠, 엑소엘, 에프엑스, SM엔터테인먼트...\n",
              "4295   46470  [생각이, 생각을, 아픈, 자기전이나, 감정이입, 슬퍼서, 우울함은, 감성발라드, ...\n",
              "4296   48788  [가요리믹스, 김경호, 지아, 플라이투더스카이, MCTHEMAX, 노래방인기곡, 이...\n",
              "4297  126651  [어쿠스틱송, 수다, 어쿠스틱팝, 포크팝, 러블리팝, 한국포크, Adele, 잔잔한...\n",
              "\n",
              "[4298 rows x 2 columns]"
            ]
          },
          "metadata": {
            "tags": []
          },
          "execution_count": 65
        }
      ]
    },
    {
      "cell_type": "code",
      "metadata": {
        "id": "AtmvMp_hiuEM",
        "colab_type": "code",
        "colab": {}
      },
      "source": [
        "test_id = test['id'].tolist()\n",
        "test_h_id = test_hyunju['id'].tolist()\n",
        "len_1 = test.shape[0]\n",
        "len_2 = test_hyunju.shape[0]\n",
        "\n",
        "for i in range(len_1) :\n",
        "  for j in range(len_2) :\n",
        "    if test_id[i] == test_h_id[j]:\n",
        "      test['tags'][i] = test_hyunju['predicted_tags'][j]"
      ],
      "execution_count": 67,
      "outputs": []
    },
    {
      "cell_type": "code",
      "metadata": {
        "id": "ceazfZBpgMsh",
        "colab_type": "code",
        "colab": {}
      },
      "source": [
        "train_tag=train[['id', 'tags']]\n",
        "test_tag=test[['id', 'tags']]\n",
        "\n",
        "plylst_tag_map=pd.concat([train_tag, test_tag])\n",
        "\n",
        "plylst_tag_map_unnest=np.dstack(\n",
        "    (\n",
        "        np.repeat(plylst_tag_map.id.values, list(map(len, plylst_tag_map.tags))),\n",
        "        np.concatenate(plylst_tag_map.tags.values)\n",
        "    )\n",
        ")\n",
        "\n",
        "plylst_tag_map=pd.DataFrame(data=plylst_tag_map_unnest[0], columns=plylst_tag_map.columns)\n",
        "plylst_tag_map['id']=plylst_tag_map['id'].astype('category')\n",
        "plylst_tag_map['tags']=plylst_tag_map['tags'].astype('category')\n",
        "\n",
        "del plylst_tag_map_unnest"
      ],
      "execution_count": 78,
      "outputs": []
    },
    {
      "cell_type": "code",
      "metadata": {
        "id": "HFFlVXS-iQxk",
        "colab_type": "code",
        "colab": {}
      },
      "source": [
        "plylst_tag_map['id']=plylst_tag_map['id'].astype('category')\n",
        "plylst_tag_map['tags']=plylst_tag_map['tags'].astype('category')\n",
        "\n",
        "tag_sparse=scipy.sparse.coo_matrix((np.ones(plylst_tag_map.shape[0]),\n",
        "                                       (plylst_tag_map['tags'].cat.codes.copy(), \n",
        "                                        plylst_tag_map['id'].cat.codes.copy())))"
      ],
      "execution_count": 83,
      "outputs": []
    },
    {
      "cell_type": "code",
      "metadata": {
        "id": "a7pCCqpfkrpN",
        "colab_type": "code",
        "colab": {
          "base_uri": "https://localhost:8080/",
          "height": 67,
          "referenced_widgets": [
            "0f07506f2ddc4d219898dd9e48240643",
            "0c7946455f6e4f2dbbaaf139faa68ebe",
            "efa06f84c79745b4a7cc3a82ea2b0aaa",
            "0bba0e4d3f7a44a390e175d5b11a99ec",
            "9eafb304980f42e2a461c76380ec6b5c",
            "d1ee58acaf4442af990cda0b610fa6d5",
            "a3fe70a25e334acfafcee9e4a75121a5",
            "e1e7210be3f841b489dea4bb57e4f16f"
          ]
        },
        "outputId": "5e7ecdd7-7533-4030-c489-5129fe4db21e"
      },
      "source": [
        "model_tag=implicit.als.AlternatingLeastSquares(factors=30, regularization=0.005, dtype=np.float64, iterations=40, use_gpu=False)\n",
        "model_tag.fit(tag_sparse)"
      ],
      "execution_count": 115,
      "outputs": [
        {
          "output_type": "display_data",
          "data": {
            "application/vnd.jupyter.widget-view+json": {
              "model_id": "0f07506f2ddc4d219898dd9e48240643",
              "version_minor": 0,
              "version_major": 2
            },
            "text/plain": [
              "HBox(children=(FloatProgress(value=0.0, max=40.0), HTML(value='')))"
            ]
          },
          "metadata": {
            "tags": []
          }
        },
        {
          "output_type": "stream",
          "text": [
            "\n"
          ],
          "name": "stdout"
        }
      ]
    },
    {
      "cell_type": "code",
      "metadata": {
        "id": "9NajnhErlt3z",
        "colab_type": "code",
        "colab": {}
      },
      "source": [
        "repos_tag=dict(enumerate(plylst_tag_map['tags'].cat.categories))\n",
        "\n",
        "filter1=test_hyunju['predicted_tags'].astype('str')=='[]'\n",
        "test_hyunju=test_hyunju[~filter1]\n",
        "\n",
        "plylst_tag_map_test=test_hyunju[['id', 'predicted_tags']]\n",
        "plylst_tag_map_test.columns=['id', 'tags']\n",
        "\n",
        "plylst_tag_map_test_unnest=np.dstack(\n",
        "    (\n",
        "        np.repeat(plylst_tag_map_test.id.values, list(map(len, plylst_tag_map_test.tags))),\n",
        "        np.concatenate(plylst_tag_map_test.tags.values)\n",
        "    )\n",
        ")\n",
        "\n",
        "plylst_tag_map_test=pd.DataFrame(data=plylst_tag_map_test_unnest[0], columns=plylst_tag_map.columns)\n",
        "\n",
        "del(plylst_tag_map_test_unnest)"
      ],
      "execution_count": 116,
      "outputs": []
    },
    {
      "cell_type": "code",
      "metadata": {
        "id": "lleoFr5cmrXq",
        "colab_type": "code",
        "colab": {}
      },
      "source": [
        "plylst_tag_map_test['id']=plylst_tag_map_test['id'].astype('category')\n",
        "plylst_tag_map_test['tags']=plylst_tag_map_test['tags'].astype('category')\n",
        "test_sparse=scipy.sparse.coo_matrix((np.ones(plylst_tag_map_test.shape[0]),\n",
        "                                       (plylst_tag_map_test['id'].cat.codes.copy(), \n",
        "                                        plylst_tag_map_test['tags'].cat.codes.copy()))).tocsr()"
      ],
      "execution_count": 117,
      "outputs": []
    },
    {
      "cell_type": "code",
      "metadata": {
        "id": "SFC6Lj6rnE_e",
        "colab_type": "code",
        "colab": {}
      },
      "source": [
        "result_tag=[]\n",
        "for i in range(test_hyunju.shape[0]):\n",
        "  B=model_tag.recommend(userid=i, user_items=test_sparse, N=10)\n",
        "  result_B=[]\n",
        "  for j in range(len(B)):\n",
        "    B[j]=repos_tag[B[j][0]]\n",
        "    result_B.insert(j, B[j])\n",
        "\n",
        "  result_tag.insert(i, result_B)\n"
      ],
      "execution_count": 118,
      "outputs": []
    },
    {
      "cell_type": "code",
      "metadata": {
        "id": "uP9aY-GUnrdS",
        "colab_type": "code",
        "colab": {}
      },
      "source": [
        "test_hyunju['predicted_tags'][0].extend(result_tag[0])"
      ],
      "execution_count": 121,
      "outputs": []
    },
    {
      "cell_type": "code",
      "metadata": {
        "id": "C-pq2Cnss-cQ",
        "colab_type": "code",
        "colab": {
          "base_uri": "https://localhost:8080/",
          "height": 195
        },
        "outputId": "390c4782-f46a-42f3-dfa3-9c3e64183791"
      },
      "source": [
        "test_hyunju['predicted_tags'][0][:10]"
      ],
      "execution_count": 122,
      "outputs": [
        {
          "output_type": "execute_result",
          "data": {
            "text/plain": [
              "['황현',\n",
              " '프리스타일',\n",
              " 'Apink',\n",
              " '고등학생',\n",
              " '서지음',\n",
              " '오늘의추천가수',\n",
              " '슴스테',\n",
              " 'Monotree',\n",
              " '잼팩토리',\n",
              " '모노트리']"
            ]
          },
          "metadata": {
            "tags": []
          },
          "execution_count": 122
        }
      ]
    },
    {
      "cell_type": "code",
      "metadata": {
        "id": "k_PivED2oq79",
        "colab_type": "code",
        "colab": {}
      },
      "source": [
        "test_hyunju=test_hyunju.reset_index().drop('index', axis=1)"
      ],
      "execution_count": 127,
      "outputs": []
    },
    {
      "cell_type": "code",
      "metadata": {
        "id": "-BaVxYS9pge_",
        "colab_type": "code",
        "colab": {}
      },
      "source": [
        "new_result=[]\n",
        "for i in range(test_hyunju.shape[0]):\n",
        "  test_hyunju['predicted_tags'][i].extend(result_tag[i])\n",
        "  new_result.insert(i, test_hyunju['predicted_tags'][i][:10])"
      ],
      "execution_count": 128,
      "outputs": []
    },
    {
      "cell_type": "code",
      "metadata": {
        "id": "dmt3cBHpqTd9",
        "colab_type": "code",
        "colab": {}
      },
      "source": [
        "test_hyunju['new']=new_result"
      ],
      "execution_count": 129,
      "outputs": []
    },
    {
      "cell_type": "code",
      "metadata": {
        "id": "0crbog45tiU4",
        "colab_type": "code",
        "colab": {}
      },
      "source": [
        "collabo_result=test_hyunju[['id', 'new']]\n",
        "collabo_result.columns=['id', 'predicted_tags']"
      ],
      "execution_count": 142,
      "outputs": []
    },
    {
      "cell_type": "code",
      "metadata": {
        "id": "PfuUijkOtjJv",
        "colab_type": "code",
        "colab": {}
      },
      "source": [
        "collabo_result.to_json('성환+현주+재현.json')"
      ],
      "execution_count": 143,
      "outputs": []
    },
    {
      "cell_type": "code",
      "metadata": {
        "id": "R2e1Ne3jtqCt",
        "colab_type": "code",
        "colab": {
          "base_uri": "https://localhost:8080/",
          "height": 35
        },
        "outputId": "44803194-1e93-4186-d291-ee205c5f02c4"
      },
      "source": [
        "collabo_result.shape[0]"
      ],
      "execution_count": 135,
      "outputs": [
        {
          "output_type": "execute_result",
          "data": {
            "text/plain": [
              "4118"
            ]
          },
          "metadata": {
            "tags": []
          },
          "execution_count": 135
        }
      ]
    },
    {
      "cell_type": "code",
      "metadata": {
        "id": "lvlKT1GOt9PG",
        "colab_type": "code",
        "colab": {}
      },
      "source": [
        "test1=pd.read_json('성환오빠 채운거.json')"
      ],
      "execution_count": 137,
      "outputs": []
    },
    {
      "cell_type": "code",
      "metadata": {
        "id": "AfqdQov8uJXz",
        "colab_type": "code",
        "colab": {}
      },
      "source": [
        "filter2=test1['predicted_tags'].astype('str')=='[]'\n",
        "test_nodata=test1[filter2]"
      ],
      "execution_count": 140,
      "outputs": []
    },
    {
      "cell_type": "code",
      "metadata": {
        "id": "tmb0eaSAuUg6",
        "colab_type": "code",
        "colab": {}
      },
      "source": [
        "collabo_result=pd.concat([collabo_result, test_nodata])"
      ],
      "execution_count": 145,
      "outputs": []
    },
    {
      "cell_type": "code",
      "metadata": {
        "id": "nrRs4Ac4ukXv",
        "colab_type": "code",
        "colab": {}
      },
      "source": [
        "collabo_result.columns=['id', 'predicted_tags']"
      ],
      "execution_count": 150,
      "outputs": []
    },
    {
      "cell_type": "code",
      "metadata": {
        "id": "zMYrsPb7u_oy",
        "colab_type": "code",
        "colab": {}
      },
      "source": [
        "collabo_result.reset_index(inplace=True)"
      ],
      "execution_count": 152,
      "outputs": []
    },
    {
      "cell_type": "code",
      "metadata": {
        "id": "pwmoQERQvSZJ",
        "colab_type": "code",
        "colab": {}
      },
      "source": [
        "collabo_result=collabo_result.drop('index', axis=1)"
      ],
      "execution_count": 156,
      "outputs": []
    },
    {
      "cell_type": "code",
      "metadata": {
        "id": "Q2o5MVhXvdXF",
        "colab_type": "code",
        "colab": {}
      },
      "source": [
        "collabo_result.to_json('J_result3.json')"
      ],
      "execution_count": 157,
      "outputs": []
    },
    {
      "cell_type": "code",
      "metadata": {
        "id": "jy5eoj3gvtOo",
        "colab_type": "code",
        "colab": {}
      },
      "source": [
        ""
      ],
      "execution_count": null,
      "outputs": []
    }
  ]
}